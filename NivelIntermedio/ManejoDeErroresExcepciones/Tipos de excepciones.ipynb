{
  "cells": [
    {
      "cell_type": "markdown",
      "metadata": {
        "id": "view-in-github",
        "colab_type": "text"
      },
      "source": [
        "<a href=\"https://colab.research.google.com/github/seismomat/HerramientasComputacionales/blob/main/NivelIntermedio/ManejoDeErroresExcepciones/Tipos%20de%20excepciones.ipynb\" target=\"_parent\"><img src=\"https://colab.research.google.com/assets/colab-badge.svg\" alt=\"Open In Colab\"/></a>"
      ]
    },
    {
      "cell_type": "markdown",
      "id": "0c4018bd",
      "metadata": {
        "id": "0c4018bd"
      },
      "source": [
        "<font color=\"Red\" face=\"Comic Sans MS,arial\">\n",
        "  <h1 align=\"center\"><i>Tipos de excepciones </i></h1>\n",
        "  </font>\n",
        "  \n",
        "> Elaborado por: Jesús Iván Coss Calderón. mat_ing_coss@ciencias.unam.mx"
      ]
    },
    {
      "cell_type": "markdown",
      "id": "d572795c",
      "metadata": {
        "id": "d572795c"
      },
      "source": [
        "**Objetivo general**\n",
        "\n",
        "* Aprender los fundamentos de las excepciones\n",
        "\n",
        "**Objetivos particulares**\n",
        "\n",
        "* Entender todas las excepciones"
      ]
    },
    {
      "cell_type": "markdown",
      "id": "001e54d2",
      "metadata": {
        "id": "001e54d2"
      },
      "source": [
        "[**Regresa al notebook principal**](https://github.com/seismomat/HerramientasComputacionales/blob/main/TemarioDePython/Temario%20de%20Python.ipynb)"
      ]
    },
    {
      "cell_type": "markdown",
      "id": "b76ffc8a",
      "metadata": {
        "id": "b76ffc8a"
      },
      "source": [
        "<a name='c1'></a>\n",
        "\n",
        "## Contenido\n",
        "\n",
        "- [Excepciones](#1)\n",
        "- [Ejercicios propuestos](#2)"
      ]
    },
    {
      "cell_type": "markdown",
      "id": "269975e0",
      "metadata": {
        "id": "269975e0"
      },
      "source": [
        "<a name='1'></a>\n",
        "\n",
        "# Excepciones\n",
        "[regresar al contenido](#c1)\n",
        "\n"
      ]
    },
    {
      "cell_type": "markdown",
      "id": "d2617d4b",
      "metadata": {
        "id": "d2617d4b"
      },
      "source": [
        "La siguiente tabla muestra las excepciones que se utilizan comúnmente en Python"
      ]
    },
    {
      "cell_type": "markdown",
      "id": "409781b3",
      "metadata": {
        "id": "409781b3"
      },
      "source": [
        "| Excepción              | Descripción                                                      |\n",
        "|------------------------|------------------------------------------------------------------|\n",
        "| ArithmeticError        | Se produce cuando ocurre un error en cálculos numéricos.         |\n",
        "| AssertionError        | Se produce cuando falla una declaración `assert`.                |\n",
        "| AttributeError         | Se produce cuando falla la referencia o asignación de un atributo. |\n",
        "| Exception              | Clase base para todas las excepciones.                          |\n",
        "| EOFError               | Se produce cuando el método `input()` llega a una condición de \"fin de archivo\" (EOF). |\n",
        "| FloatingPointError     | Se produce cuando falla un cálculo en punto flotante.           |\n",
        "| GeneratorExit          | Se produce cuando se cierra un generador (con el método `close()`). |\n",
        "| ImportError           | Se produce cuando un módulo importado no existe.               |\n",
        "| IndentationError       | Se produce cuando la indentación no es correcta.               |\n",
        "| IndexError             | Se produce cuando no existe un índice en una secuencia.        |\n",
        "| KeyError               | Se produce cuando una clave no existe en un diccionario.       |\n",
        "| KeyboardInterrupt     | Se produce cuando el usuario presiona Ctrl+c, Ctrl+z o Delete.   |\n",
        "| LookupError            | Se produce cuando no se pueden encontrar los errores levantados. |\n",
        "| MemoryError            | Se produce cuando un programa se queda sin memoria.            |\n",
        "| NameError              | Se produce cuando una variable no existe.                      |\n",
        "| NotImplementedError    | Se produce cuando un método abstracto requiere que una clase heredada lo reemplace. |\n",
        "| OSError                | Se produce cuando una operación relacionada con el sistema causa un error. |\n",
        "| OverflowError          | Se produce cuando el resultado de un cálculo numérico es demasiado grande. |\n",
        "| ReferenceError         | Se produce cuando un objeto de referencia débil no existe.    |\n",
        "| RuntimeError           | Se produce cuando ocurre un error que no pertenece a excepciones específicas. |\n",
        "| StopIteration         | Se produce cuando el método `next()` de un iterador no tiene más valores. |\n",
        "| SyntaxError            | Se produce cuando ocurre un error de sintaxis.                 |\n",
        "| TabError               | Se produce cuando la indentación consiste en tabulaciones o espacios. |\n",
        "| SystemError            | Se produce cuando ocurre un error del sistema.                |\n",
        "| SystemExit             | Se produce cuando se llama a la función `sys.exit()`.          |\n",
        "| TypeError              | Se produce cuando se combinan dos tipos diferentes.            |\n",
        "| UnboundLocalError      | Se produce cuando se hace referencia a una variable local antes de asignarle un valor. |\n",
        "| UnicodeError           | Se produce cuando ocurre un problema con Unicode.             |\n",
        "| UnicodeEncodeError     | Se produce cuando ocurre un problema de codificación Unicode.   |\n",
        "| UnicodeDecodeError     | Se produce cuando ocurre un problema de decodificación Unicode. |\n",
        "| UnicodeTranslateError  | Se produce cuando ocurre un problema de traducción Unicode.    |\n",
        "| ValueError             | Se produce cuando hay un valor incorrecto en un tipo de datos especificado. |\n",
        "| ZeroDivisionError      | Se produce cuando el segundo operador en una división es cero. |\n"
      ]
    },
    {
      "cell_type": "markdown",
      "id": "f36a5db1",
      "metadata": {
        "id": "f36a5db1"
      },
      "source": [
        "<a name='2'></a>\n",
        "\n",
        "# Ejercicios propuestos\n",
        "[regresar al contenido](#c1)"
      ]
    },
    {
      "cell_type": "markdown",
      "id": "d337302f",
      "metadata": {
        "id": "d337302f"
      },
      "source": [
        "Ejercicios propuestos que utilizan excepciones en Python:\n",
        "\n",
        "1. **División por cero**: Escribe un programa que pida al usuario dos números y realice la división. Asegúrate de manejar la excepción `ZeroDivisionError` si el segundo número es cero.\n",
        "\n",
        "2. **Acceso a un índice inexistente**: Crea una lista de números y solicita al usuario que ingrese un índice. Maneja la excepción `IndexError` si el índice está fuera del rango de la lista.\n",
        "\n",
        "3. **Validación de entrada**: Pide al usuario que ingrese un número entero. Usa un bucle `try...except` para asegurarte de que solo se ingresen números enteros y maneja la excepción `ValueError` si se ingresa otro tipo de dato.\n",
        "\n",
        "4. **Lectura de archivo inexistente**: Intenta abrir un archivo que no existe en tu sistema y maneja la excepción `FileNotFoundError`.\n",
        "\n",
        "5. **Acceso a un diccionario**: Crea un diccionario con algunas claves y valores. Luego, solicita al usuario que ingrese una clave y maneja la excepción `KeyError` si la clave no existe en el diccionario.\n",
        "\n",
        "6. **Suma de enteros**: Escribe una función que tome dos argumentos y los sume. Maneja la excepción `TypeError` si se pasan argumentos que no son números.\n",
        "\n",
        "7. **Recorriendo una lista**: Escribe un bucle `for` que intente dividir cada elemento de una lista por 2. Maneja la excepción `TypeError` si un elemento no es un número.\n",
        "\n",
        "8. **Generador infinito**: Crea una función generadora que genere números enteros infinitamente comenzando desde 1. Luego, usa un bucle `for` y maneja la excepción `KeyboardInterrupt` para detener la generación de números cuando el usuario presione Ctrl+c.\n",
        "\n",
        "9. **Conversiones de tipos de datos**: Escribe una función que tome una cadena como entrada y trate de convertirla en un entero. Maneja las excepciones `ValueError` y `TypeError` que puedan surgir durante la conversión.\n",
        "\n",
        "10. **Calculadora avanzada**: Crea una calculadora que permita a los usuarios realizar operaciones matemáticas (suma, resta, multiplicación, división) ingresando dos números y un operador. Maneja las excepciones adecuadas para casos como la división por cero o el uso de operadores no válidos.\n",
        "\n",
        "Estos ejercicios te ayudarán a comprender y practicar cómo manejar excepciones en Python. Puedes adaptarlos según tus necesidades o crear tus propios escenarios de manejo de excepciones."
      ]
    }
  ],
  "metadata": {
    "kernelspec": {
      "display_name": "Python 3 (ipykernel)",
      "language": "python",
      "name": "python3"
    },
    "language_info": {
      "codemirror_mode": {
        "name": "ipython",
        "version": 3
      },
      "file_extension": ".py",
      "mimetype": "text/x-python",
      "name": "python",
      "nbconvert_exporter": "python",
      "pygments_lexer": "ipython3",
      "version": "3.9.12"
    },
    "colab": {
      "provenance": [],
      "include_colab_link": true
    }
  },
  "nbformat": 4,
  "nbformat_minor": 5
}