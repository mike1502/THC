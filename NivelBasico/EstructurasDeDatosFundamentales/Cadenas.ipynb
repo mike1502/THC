{
  "cells": [
    {
      "cell_type": "markdown",
      "metadata": {
        "id": "view-in-github",
        "colab_type": "text"
      },
      "source": [
        "<a href=\"https://colab.research.google.com/github/seismomat/HerramientasComputacionales/blob/Ivan/NivelBasico/EstructurasDeDatosFundamentales/Cadenas.ipynb\" target=\"_parent\"><img src=\"https://colab.research.google.com/assets/colab-badge.svg\" alt=\"Open In Colab\"/></a>"
      ]
    },
    {
      "cell_type": "markdown",
      "id": "0598806e",
      "metadata": {
        "id": "0598806e"
      },
      "source": [
        "<font color=\"Red\" face=\"Comic Sans MS,arial\">\n",
        "  <h1 align=\"center\"><i>Cadenas </i></h1>\n",
        "  </font>\n",
        "  \n",
        "> Elaborado por: Jesús Iván Coss Calderón. mat_ing_coss@ciencias.unam.mx"
      ]
    },
    {
      "cell_type": "markdown",
      "id": "892493c5",
      "metadata": {
        "id": "892493c5"
      },
      "source": [
        "**Objetivo general**\n",
        "\n",
        "* Aprender los fundamentos de la estructura de datos conocida como cadenas\n",
        "\n",
        "**Objetivos particulares**\n",
        "\n",
        "* Entender los métodos de la clase str"
      ]
    },
    {
      "cell_type": "markdown",
      "id": "47c27379",
      "metadata": {
        "id": "47c27379"
      },
      "source": [
        "[**Regresa al notebook principal**](https://github.com/seismomat/HerramientasComputacionales/blob/main/Sintaxis%2Ccomentarios%2CTiposDeDatos.ipynb)"
      ]
    },
    {
      "cell_type": "markdown",
      "id": "bba08db4",
      "metadata": {
        "id": "bba08db4"
      },
      "source": [
        "<a name='c1'></a>\n",
        "\n",
        "## Contenido\n",
        "\n",
        "- [Cadenas](#1)\n",
        "    - [Declaración](#1-1)\n",
        "    - [Tipo de dato o clase](#1-2)\n",
        "    - [Método de acceso a elementos](#1-3)\n",
        "    - [Reemplazar elementos en una cadena](#1-4)\n",
        "    - [Método Split y slicing](#1-5)\n",
        "    - [Método Upper y lower](#1-6)\n",
        "    - [Longitud de la Cadenas](#1-7)\n",
        "- [Ejemplo](#2)\n",
        "- [Concatenación de cadenas](#3)\n",
        "- [Pasar valores de una lista a una cadena](#4)\n",
        "- [Utilidad de las Cadenas](#5)\n",
        "- [Ejercicios propuestos](#6)"
      ]
    },
    {
      "cell_type": "markdown",
      "id": "fa9de960",
      "metadata": {
        "id": "fa9de960"
      },
      "source": [
        "<a name='1'></a>\n",
        "\n",
        "# Cadenas\n",
        "[regresar al contenido](#c1)\n",
        "\n",
        "Las cadenas, también conocidas como strings en programación, son secuencias de caracteres. En Python, se pueden definir cadenas utilizando comillas simples (') o comillas dobles (\")"
      ]
    },
    {
      "cell_type": "markdown",
      "id": "2523b049",
      "metadata": {
        "id": "2523b049"
      },
      "source": [
        "<a name='1-1'></a>\n",
        "\n",
        "## Declaración\n",
        "[regresar al contenido](#c1)\n",
        "\n",
        "La manera de declarar una cadena es la siguiente"
      ]
    },
    {
      "cell_type": "code",
      "execution_count": null,
      "id": "089653d8",
      "metadata": {
        "id": "089653d8"
      },
      "outputs": [],
      "source": [
        "# Definir una cadena\n",
        "cadena1 = \"Hola, mundo!\"\n",
        "cadena2 = 'Python es genial'"
      ]
    },
    {
      "cell_type": "code",
      "execution_count": null,
      "id": "e50165bd",
      "metadata": {
        "id": "e50165bd",
        "outputId": "04bf3bde-9a5c-4ca7-a884-44850ed268ee"
      },
      "outputs": [
        {
          "name": "stdout",
          "output_type": "stream",
          "text": [
            "Hola, mundo!\n"
          ]
        }
      ],
      "source": [
        "print(cadena1)"
      ]
    },
    {
      "cell_type": "code",
      "execution_count": null,
      "id": "3dd79810",
      "metadata": {
        "id": "3dd79810",
        "outputId": "0a23dcc3-102b-4837-e2ca-33ffb93fddd2"
      },
      "outputs": [
        {
          "name": "stdout",
          "output_type": "stream",
          "text": [
            "Python es genial\n"
          ]
        }
      ],
      "source": [
        "print(cadena2)"
      ]
    },
    {
      "cell_type": "code",
      "execution_count": null,
      "id": "aefc3916",
      "metadata": {
        "id": "aefc3916",
        "outputId": "8f0a48fd-28f3-40e7-a8a9-6a6c9aa0716e"
      },
      "outputs": [
        {
          "name": "stdout",
          "output_type": "stream",
          "text": [
            "Lorem ipsum dolor sit amet,\n",
            "consectetur adipiscing elit,\n",
            "sed do eiusmod tempor incididunt\n",
            "ut labore et dolore magna aliqua.\n"
          ]
        }
      ],
      "source": [
        "a = \"\"\"Lorem ipsum dolor sit amet,\n",
        "consectetur adipiscing elit,\n",
        "sed do eiusmod tempor incididunt\n",
        "ut labore et dolore magna aliqua.\"\"\"\n",
        "print(a)"
      ]
    },
    {
      "cell_type": "markdown",
      "id": "bf21d662",
      "metadata": {
        "id": "bf21d662"
      },
      "source": [
        "<a name='1-2'></a>\n",
        "\n",
        "## Tipo de dato o clase\n",
        "[regresar al contenido](#c1)\n",
        "\n",
        "Cabe mencionar que la clase de dicha estructura es **str**, como se observa a continuación"
      ]
    },
    {
      "cell_type": "code",
      "execution_count": null,
      "id": "26528169",
      "metadata": {
        "id": "26528169",
        "outputId": "7ff5470a-03b3-43e1-b149-49efcaa68a5a"
      },
      "outputs": [
        {
          "name": "stdout",
          "output_type": "stream",
          "text": [
            "<class 'str'>\n"
          ]
        }
      ],
      "source": [
        "print(type(cadena1))"
      ]
    },
    {
      "cell_type": "markdown",
      "id": "c654166f",
      "metadata": {
        "id": "c654166f"
      },
      "source": [
        "<a name='1-3'></a>\n",
        "\n",
        "## Método de acceso a elementos\n",
        "[regresar al contenido](#c1)\n",
        "\n",
        "La manera para visualizar un elemento específico de la lista es **nombre_cadena [indice]**"
      ]
    },
    {
      "cell_type": "code",
      "execution_count": null,
      "id": "d157b8aa",
      "metadata": {
        "id": "d157b8aa",
        "outputId": "b177d74c-3d58-445b-c910-91a068f03407"
      },
      "outputs": [
        {
          "name": "stdout",
          "output_type": "stream",
          "text": [
            "e\n"
          ]
        }
      ],
      "source": [
        "a = \"Hello, World!\"\n",
        "print(a[1])"
      ]
    },
    {
      "cell_type": "markdown",
      "id": "5cbba2cc",
      "metadata": {
        "id": "5cbba2cc"
      },
      "source": [
        "<a name='1-4'></a>\n",
        "\n",
        "## Reemplazar elementos en una cadena\n",
        "[regresar al contenido](#c1)"
      ]
    },
    {
      "cell_type": "markdown",
      "id": "98b84393",
      "metadata": {
        "id": "98b84393"
      },
      "source": [
        "Si desea borrar el valor de la lista en un índice específico se hace de la siguiente manera"
      ]
    },
    {
      "cell_type": "code",
      "execution_count": null,
      "id": "35a93859",
      "metadata": {
        "id": "35a93859",
        "outputId": "b3fa3d64-a887-48c8-ee81-51b2559e7761"
      },
      "outputs": [
        {
          "name": "stdout",
          "output_type": "stream",
          "text": [
            "Python es increíble\n"
          ]
        }
      ],
      "source": [
        "# Definir una cadena\n",
        "cadena1 = \"Hola, mundo!\"\n",
        "cadena2 = 'Python es genial'\n",
        "\n",
        "# Reemplazar parte de una cadena\n",
        "nueva_cadena = cadena2.replace(\"genial\", \"increíble\")\n",
        "print(nueva_cadena)  # Salida: Python es increíble"
      ]
    },
    {
      "cell_type": "markdown",
      "id": "25682077",
      "metadata": {
        "id": "25682077"
      },
      "source": [
        "<a name='1-5'></a>\n",
        "\n",
        "## Método Split y slicing\n",
        "[regresar al contenido](#c1)"
      ]
    },
    {
      "cell_type": "code",
      "execution_count": null,
      "id": "315166b3",
      "metadata": {
        "id": "315166b3",
        "outputId": "7e3d84cf-2c32-445f-8cce-09955aae99e0"
      },
      "outputs": [
        {
          "name": "stdout",
          "output_type": "stream",
          "text": [
            "['Python', 'es', 'genial']\n"
          ]
        }
      ],
      "source": [
        "# Separar una cadena en una lista de palabras\n",
        "palabras = cadena2.split()  # Divide la cadena en palabras\n",
        "print(palabras)  # Salida: ['Python', 'es', 'genial']"
      ]
    },
    {
      "cell_type": "markdown",
      "id": "29de9bba",
      "metadata": {
        "id": "29de9bba"
      },
      "source": [
        "El slicing se hace cuando quieres tomar solamente una sección de la cadena, se usa de la siguiente manera **nombre_Cadena[indice_Inicial : indice_Final]**"
      ]
    },
    {
      "cell_type": "code",
      "execution_count": null,
      "id": "37d7f108",
      "metadata": {
        "id": "37d7f108",
        "outputId": "56f8378e-a59a-4f68-f4d9-c2950f23420f"
      },
      "outputs": [
        {
          "name": "stdout",
          "output_type": "stream",
          "text": [
            "mundo\n"
          ]
        }
      ],
      "source": [
        "# Subcadenas\n",
        "subcadena = cadena1[6:11]  # Obtiene la subcadena \"mundo\"\n",
        "print(subcadena)"
      ]
    },
    {
      "cell_type": "markdown",
      "id": "7a7a9b3b",
      "metadata": {
        "id": "7a7a9b3b"
      },
      "source": [
        "<a name='1-6'></a>\n",
        "\n",
        "## Método Upper y lower\n",
        "[regresar al contenido](#c1)"
      ]
    },
    {
      "cell_type": "code",
      "execution_count": null,
      "id": "61eb2923",
      "metadata": {
        "id": "61eb2923",
        "outputId": "1736e02c-d88c-443a-c904-4e07f09105e2"
      },
      "outputs": [
        {
          "name": "stdout",
          "output_type": "stream",
          "text": [
            "HOLA, MUNDO!\n",
            "python es genial\n"
          ]
        }
      ],
      "source": [
        "# Convertir a mayúsculas y minúsculas\n",
        "mayusculas = cadena1.upper()\n",
        "minusculas = cadena2.lower()\n",
        "print(mayusculas)  # Salida: HOLA, MUNDO!\n",
        "print(minusculas)  # Salida: python es genial"
      ]
    },
    {
      "cell_type": "markdown",
      "id": "b9aded12",
      "metadata": {
        "id": "b9aded12"
      },
      "source": [
        "<a name='1-7'></a>\n",
        "\n",
        "## Longitud de la cadena\n",
        "[regresar al contenido](#c1)\n",
        "\n",
        "Para obtener de la longitud de la cadena se hace con el método **len**"
      ]
    },
    {
      "cell_type": "code",
      "execution_count": null,
      "id": "9ef38df9",
      "metadata": {
        "id": "9ef38df9",
        "outputId": "e9e678cb-c914-4746-8759-57fa8ddc5014"
      },
      "outputs": [
        {
          "name": "stdout",
          "output_type": "stream",
          "text": [
            "12\n"
          ]
        }
      ],
      "source": [
        "# Longitud de una cadena\n",
        "longitud = len(cadena1)\n",
        "print(longitud)  # Salida: 12"
      ]
    },
    {
      "cell_type": "markdown",
      "id": "44fbd2b3",
      "metadata": {
        "id": "44fbd2b3"
      },
      "source": [
        "<a name='2'></a>\n",
        "\n",
        "# Ejemplo\n",
        "[regresar al contenido](#c1)\n",
        "\n",
        "Se puede iterar sobre los elementos de la cadena"
      ]
    },
    {
      "cell_type": "code",
      "execution_count": null,
      "id": "c8237473",
      "metadata": {
        "id": "c8237473",
        "outputId": "be662c70-ad8a-4f89-c89f-f1f4e896a5a1"
      },
      "outputs": [
        {
          "name": "stdout",
          "output_type": "stream",
          "text": [
            "b\n",
            "a\n",
            "n\n",
            "a\n",
            "n\n",
            "a\n"
          ]
        }
      ],
      "source": [
        "for x in \"banana\":\n",
        "  print(x)"
      ]
    },
    {
      "cell_type": "markdown",
      "id": "98bfec92",
      "metadata": {
        "id": "98bfec92"
      },
      "source": [
        "También se puede utilizar la estructura de control if-elseif-else"
      ]
    },
    {
      "cell_type": "code",
      "execution_count": null,
      "id": "83ad4cb5",
      "metadata": {
        "id": "83ad4cb5",
        "outputId": "54d5d32c-7d35-4eb3-814b-2671369ee5a4"
      },
      "outputs": [
        {
          "name": "stdout",
          "output_type": "stream",
          "text": [
            "Sí, la a está en la cadena.\n"
          ]
        }
      ],
      "source": [
        "if 'a' in 'banana':\n",
        "    print('Sí, la a está en la cadena.')"
      ]
    },
    {
      "cell_type": "markdown",
      "id": "01d6e36c",
      "metadata": {
        "id": "01d6e36c"
      },
      "source": [
        "<a name='3'></a>\n",
        "\n",
        "# Concatenación de cadenas\n",
        "[regresar al contenido](#c1)\n",
        "\n",
        "En una tupla se pueden guardar todo tipo de variables y tipos de datos."
      ]
    },
    {
      "cell_type": "code",
      "execution_count": null,
      "id": "e1d2a9fb",
      "metadata": {
        "id": "e1d2a9fb"
      },
      "outputs": [],
      "source": [
        "concatenada = cadena1 + \" \" + cadena2"
      ]
    },
    {
      "cell_type": "code",
      "execution_count": null,
      "id": "8626a887",
      "metadata": {
        "id": "8626a887",
        "outputId": "7e4a8b12-e6aa-4c41-b0fa-f3bab2f427b5"
      },
      "outputs": [
        {
          "name": "stdout",
          "output_type": "stream",
          "text": [
            "Hola, mundo! Python es genial\n"
          ]
        }
      ],
      "source": [
        "print(concatenada)  # Salida: Hola, mundo! Python es genial"
      ]
    },
    {
      "cell_type": "markdown",
      "id": "68917abf",
      "metadata": {
        "id": "68917abf"
      },
      "source": [
        "<a name='4'></a>\n",
        "\n",
        "# Pasar valores de una lista a una cadena\n",
        "[regresar al contenido](#c1)"
      ]
    },
    {
      "cell_type": "code",
      "execution_count": null,
      "id": "8eab08a3",
      "metadata": {
        "id": "8eab08a3",
        "outputId": "06e4cb4b-32ef-4e7a-fd1f-1930b4e8aa50"
      },
      "outputs": [
        {
          "name": "stdout",
          "output_type": "stream",
          "text": [
            "1, 2, 3, 4, 5\n"
          ]
        }
      ],
      "source": [
        "# Lista de valores\n",
        "numeros = [1, 2, 3, 4, 5]\n",
        "\n",
        "# Convertir la lista a una cadena separada por comas\n",
        "cadena_numeros = ', '.join(str(numero) for numero in numeros)\n",
        "\n",
        "print(cadena_numeros)\n"
      ]
    },
    {
      "cell_type": "markdown",
      "id": "06c413ef",
      "metadata": {
        "id": "06c413ef"
      },
      "source": [
        "<a name='5'></a>\n",
        "\n",
        "# Utilidad de las cadenas\n",
        "[regresar al contenido](#c1)"
      ]
    },
    {
      "cell_type": "code",
      "execution_count": null,
      "id": "2c99d518",
      "metadata": {
        "id": "2c99d518",
        "outputId": "1100cb74-a3b8-4df3-9cbe-110ba9dcbe4b"
      },
      "outputs": [
        {
          "name": "stdout",
          "output_type": "stream",
          "text": [
            "Tarea agregada: Hacer compras\n",
            "Tarea agregada: Estudiar para el examen\n",
            "Tarea agregada: Ir al gimnasio\n",
            "Tareas pendientes:\n",
            "- Hacer compras\n",
            "- Estudiar para el examen\n",
            "- Ir al gimnasio\n",
            "Tarea eliminada: Estudiar para el examen\n",
            "Tareas pendientes:\n",
            "- Hacer compras\n",
            "- Ir al gimnasio\n"
          ]
        }
      ],
      "source": [
        "# Inicializar una lista de tareas vacía\n",
        "lista_de_tareas = []\n",
        "\n",
        "# Función para agregar una tarea a la lista\n",
        "def agregar_tarea(tarea):\n",
        "    lista_de_tareas.append(tarea)\n",
        "    print(\"Tarea agregada:\", tarea)\n",
        "\n",
        "# Función para eliminar una tarea de la lista\n",
        "def eliminar_tarea(tarea):\n",
        "    if tarea in lista_de_tareas:\n",
        "        lista_de_tareas.remove(tarea)\n",
        "        print(\"Tarea eliminada:\", tarea)\n",
        "    else:\n",
        "        print(\"La tarea no existe:\", tarea)\n",
        "\n",
        "# Función para mostrar todas las tareas\n",
        "def mostrar_tareas():\n",
        "    print(\"Tareas pendientes:\")\n",
        "    for tarea in lista_de_tareas:\n",
        "        print(\"-\", tarea)\n",
        "\n",
        "# Agregar algunas tareas\n",
        "agregar_tarea(\"Hacer compras\")\n",
        "agregar_tarea(\"Estudiar para el examen\")\n",
        "agregar_tarea(\"Ir al gimnasio\")\n",
        "\n",
        "# Mostrar las tareas actuales\n",
        "mostrar_tareas()\n",
        "\n",
        "# Eliminar una tarea\n",
        "eliminar_tarea(\"Estudiar para el examen\")\n",
        "\n",
        "# Mostrar las tareas actualizadas\n",
        "mostrar_tareas()"
      ]
    },
    {
      "cell_type": "markdown",
      "id": "90451fc5",
      "metadata": {
        "id": "90451fc5"
      },
      "source": [
        "<a name='6'></a>\n",
        "\n",
        "# Ejercicios propuestos\n",
        "[regresar al contenido](#c1)"
      ]
    },
    {
      "cell_type": "markdown",
      "id": "d986e8d0",
      "metadata": {
        "id": "d986e8d0"
      },
      "source": [
        "Propuestas de ejercicios para practicar con cadenas en Python:\n",
        "\n",
        "¡Por supuesto! Aquí tienes algunos ejercicios para practicar el manejo de cadenas en Python:\n",
        "\n",
        "1. **Longitud de Cadena:**\n",
        "Escribe un programa que tome una cadena como entrada y muestre la longitud de la cadena.\n",
        "\n",
        "2. **Mayúsculas y Minúsculas:**\n",
        "Escribe un programa que tome una cadena como entrada y muestre la misma cadena en mayúsculas y minúsculas.\n",
        "\n",
        "3. **Conteo de Vocales:**\n",
        "Escribe un programa que cuente y muestre cuántas vocales (mayúsculas y minúsculas) hay en una cadena dada.\n",
        "\n",
        "4. **Reverso de una Cadena:**\n",
        "Escribe un programa que tome una cadena como entrada y muestre la cadena en orden inverso.\n",
        "\n",
        "5. **Palíndromo:**\n",
        "Escribe un programa que verifique si una cadena dada es un palíndromo (se lee igual de izquierda a derecha y viceversa).\n",
        "\n",
        "6. **Recorte de Cadena:**\n",
        "Escribe un programa que tome una cadena y dos números como entrada, y muestre la porción de la cadena comprendida entre los dos números.\n",
        "\n",
        "7. **Conteo de Palabras:**\n",
        "Escribe un programa que cuente cuántas palabras hay en una cadena dada (asume que las palabras están separadas por espacios).\n",
        "\n",
        "8. **Remover Espacios Extra:**\n",
        "Escribe un programa que tome una cadena como entrada y muestre la misma cadena sin espacios extras al principio o al final.\n",
        "\n",
        "9. **Reemplazo de Caracteres:**\n",
        "Escribe un programa que tome una cadena y dos caracteres como entrada, y muestre la cadena con todas las ocurrencias del primer carácter reemplazadas por el segundo carácter.\n",
        "\n",
        "10. **Conteo de Ocurrencias:**\n",
        "Escribe un programa que tome una cadena y un carácter como entrada, y muestre cuántas veces aparece el carácter en la cadena.\n",
        "\n",
        "11. **Separación de Palabras:**\n",
        "Escribe un programa que tome una cadena como entrada (donde las palabras están separadas por espacios) y muestre cada palabra en una línea separada.\n",
        "\n",
        "12. **Concatenación de Cadenas:**\n",
        "Escribe un programa que tome dos cadenas como entrada y muestre una cadena que sea la concatenación de ambas.\n",
        "\n",
        "13. **Formateo de Cadenas:**\n",
        "Escribe un programa que tome una cadena, un número y un valor como entrada, y muestre la cadena formateada con el número y el valor.\n",
        "\n",
        "14. **Comparación de Cadenas:**\n",
        "Escribe un programa que tome dos cadenas como entrada y muestre si son iguales o diferentes.\n",
        "\n",
        "15. **Conteo de Caracteres:**\n",
        "Escribe un programa que tome una cadena como entrada y muestre cuántas veces aparece cada carácter en la cadena.\n",
        "\n",
        "¡Estos ejercicios te ayudarán a practicar y fortalecer tus habilidades en el manejo de cadenas en Python!"
      ]
    }
  ],
  "metadata": {
    "colab": {
      "provenance": [],
      "include_colab_link": true
    },
    "kernelspec": {
      "display_name": "Python 3 (ipykernel)",
      "language": "python",
      "name": "python3"
    },
    "language_info": {
      "codemirror_mode": {
        "name": "ipython",
        "version": 3
      },
      "file_extension": ".py",
      "mimetype": "text/x-python",
      "name": "python",
      "nbconvert_exporter": "python",
      "pygments_lexer": "ipython3",
      "version": "3.9.12"
    }
  },
  "nbformat": 4,
  "nbformat_minor": 5
}