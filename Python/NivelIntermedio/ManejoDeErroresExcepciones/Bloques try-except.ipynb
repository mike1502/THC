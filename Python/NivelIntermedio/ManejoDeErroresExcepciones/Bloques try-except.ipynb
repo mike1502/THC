{
  "cells": [
    {
      "cell_type": "markdown",
      "metadata": {
        "id": "view-in-github",
        "colab_type": "text"
      },
      "source": [
        "<a href=\"https://colab.research.google.com/github/seismomat/HerramientasComputacionales/blob/main/NivelIntermedio/ManejoDeErroresExcepciones/Bloques%20try-except.ipynb\" target=\"_parent\"><img src=\"https://colab.research.google.com/assets/colab-badge.svg\" alt=\"Open In Colab\"/></a>"
      ]
    },
    {
      "cell_type": "markdown",
      "id": "0c4018bd",
      "metadata": {
        "id": "0c4018bd"
      },
      "source": [
        "<font color=\"Red\" face=\"Comic Sans MS,arial\">\n",
        "  <h1 align=\"center\"><i>Bloques try-except </i></h1>\n",
        "  </font>\n",
        "  \n",
        "> Elaborado por: Jesús Iván Coss Calderón. mat_ing_coss@ciencias.unam.mx"
      ]
    },
    {
      "cell_type": "markdown",
      "id": "d572795c",
      "metadata": {
        "id": "d572795c"
      },
      "source": [
        "**Objetivo general**\n",
        "\n",
        "* Aprender el funcionamiento de los bloques try-except\n",
        "\n",
        "**Objetivos particulares**\n",
        "\n",
        "* Entender la elaboración de los bloques try-except"
      ]
    },
    {
      "cell_type": "markdown",
      "id": "001e54d2",
      "metadata": {
        "id": "001e54d2"
      },
      "source": [
        "[**Regresa al notebook principal**](https://github.com/seismomat/HerramientasComputacionales/blob/main/TemarioDePython/Temario%20de%20Python.ipynb)"
      ]
    },
    {
      "cell_type": "markdown",
      "id": "b76ffc8a",
      "metadata": {
        "id": "b76ffc8a"
      },
      "source": [
        "<a name='c1'></a>\n",
        "\n",
        "## Contenido\n",
        "\n",
        "- [Excepción](#1)\n",
        "    - [Manejo de Excepciones](#1-1)\n",
        "    - [Muchas Excepciones](#1-2)\n",
        "- [Else](#2)\n",
        "- [Finally](#3)\n",
        "- [Lanzar una excepción (Raise an exception)](#4)\n",
        "- [Ejercicios propuestos](#5)"
      ]
    },
    {
      "cell_type": "markdown",
      "id": "269975e0",
      "metadata": {
        "id": "269975e0"
      },
      "source": [
        "<a name='1'></a>\n",
        "\n",
        "# Excepción\n",
        "[regresar al contenido](#c1)\n",
        "\n",
        "El bloque `try` te permite probar un bloque de código en busca de errores.\n",
        "\n",
        "El bloque `except` te permite manejar el error.\n",
        "\n",
        "El bloque `else` te permite ejecutar código cuando no hay error.\n",
        "\n",
        "El bloque `finally` te permite ejecutar código, independientemente del resultado de los bloques `try` y `except`."
      ]
    },
    {
      "cell_type": "markdown",
      "id": "fb9dfa06",
      "metadata": {
        "id": "fb9dfa06"
      },
      "source": [
        "<a name='1-1'></a>\n",
        "\n",
        "## Manejo de Excepciones\n",
        "[regresar al contenido](#c1)\n",
        "\n",
        "Cuando ocurre un error, o excepción como la llamamos, Python normalmente se detendrá y generará un mensaje de error.\n",
        "\n",
        "Estas excepciones pueden manejarse utilizando la declaración `try`."
      ]
    },
    {
      "cell_type": "markdown",
      "id": "a5b6ea73",
      "metadata": {
        "id": "a5b6ea73"
      },
      "source": [
        "Ejemplo:\n",
        "\n",
        "El bloque `try` generará una excepción porque x no está definido."
      ]
    },
    {
      "cell_type": "code",
      "execution_count": null,
      "id": "b516f0d1",
      "metadata": {
        "id": "b516f0d1",
        "outputId": "a71461e2-92a2-4389-b159-bfee461f49dc"
      },
      "outputs": [
        {
          "name": "stdout",
          "output_type": "stream",
          "text": [
            "An exception occurred\n"
          ]
        }
      ],
      "source": [
        "try:\n",
        "  print(x)\n",
        "except:\n",
        "  print(\"An exception occurred\")"
      ]
    },
    {
      "cell_type": "markdown",
      "id": "3294b0be",
      "metadata": {
        "id": "3294b0be"
      },
      "source": [
        "Dado que el bloque `try` genera un error, se ejecutará el bloque `except`.\n",
        "\n",
        "Sin el bloque `try`, el programa se bloqueará y generará un error:"
      ]
    },
    {
      "cell_type": "markdown",
      "id": "c088fbda",
      "metadata": {
        "id": "c088fbda"
      },
      "source": [
        "Ejemplo:\n",
        "\n",
        "Esta declaración generará un error porque x no está definido."
      ]
    },
    {
      "cell_type": "code",
      "execution_count": null,
      "id": "c3d3266a",
      "metadata": {
        "id": "c3d3266a",
        "outputId": "326a7da8-25ac-4e3b-9d16-f93561c60a67"
      },
      "outputs": [
        {
          "ename": "NameError",
          "evalue": "name 'x' is not defined",
          "output_type": "error",
          "traceback": [
            "\u001b[1;31m---------------------------------------------------------------------------\u001b[0m",
            "\u001b[1;31mNameError\u001b[0m                                 Traceback (most recent call last)",
            "Input \u001b[1;32mIn [2]\u001b[0m, in \u001b[0;36m<cell line: 1>\u001b[1;34m()\u001b[0m\n\u001b[1;32m----> 1\u001b[0m \u001b[38;5;28mprint\u001b[39m(\u001b[43mx\u001b[49m)\n",
            "\u001b[1;31mNameError\u001b[0m: name 'x' is not defined"
          ]
        }
      ],
      "source": [
        "print(x)"
      ]
    },
    {
      "cell_type": "markdown",
      "id": "afa98fb0",
      "metadata": {
        "id": "afa98fb0"
      },
      "source": [
        "<a name='1-2'></a>\n",
        "\n",
        "## Muchas Excepciones\n",
        "[regresar al contenido](#c1)\n",
        "\n",
        "Puedes definir tantos bloques de excepción como desees, por ejemplo, si deseas ejecutar un bloque especial de código para un tipo especial de error:"
      ]
    },
    {
      "cell_type": "markdown",
      "id": "938af3bb",
      "metadata": {
        "id": "938af3bb"
      },
      "source": [
        "Ejemplo:\n",
        "\n",
        "Imprimir un mensaje si el bloque `try` genera un NameError y otro para otros errores:"
      ]
    },
    {
      "cell_type": "code",
      "execution_count": null,
      "id": "82370167",
      "metadata": {
        "id": "82370167",
        "outputId": "bab4d6bc-9d28-4877-e293-18ff62918afe"
      },
      "outputs": [
        {
          "name": "stdout",
          "output_type": "stream",
          "text": [
            "Variable x is not defined\n"
          ]
        }
      ],
      "source": [
        "try:\n",
        "  print(x)\n",
        "except NameError:\n",
        "  print(\"Variable x is not defined\")\n",
        "except:\n",
        "  print(\"Something else went wrong\")"
      ]
    },
    {
      "cell_type": "markdown",
      "id": "b2161392",
      "metadata": {
        "id": "b2161392"
      },
      "source": [
        "El código de arriba utiliza la estructura de manejo de excepciones en Python para manejar errores que puedan ocurrir durante la ejecución del programa. Aquí está cómo funciona:\n",
        "\n",
        "1. El bloque `try` se utiliza para probar un bloque de código en busca de errores. En este caso, el código dentro del bloque `try` intenta imprimir el valor de una variable llamada `x`.\n",
        "\n",
        "2. Si ocurre un error durante la ejecución del bloque `try`, Python buscará un bloque `except` correspondiente que maneje ese tipo específico de error. En este código, hay dos bloques `except`:\n",
        "\n",
        "   - El primer bloque `except NameError` está diseñado para manejar la excepción `NameError`, que ocurre cuando se intenta acceder a una variable que no está definida. Si ocurre un `NameError`, imprimirá el mensaje \"Variable x is not defined\".\n",
        "\n",
        "   - El segundo bloque `except` es un bloque genérico que manejará cualquier otro tipo de error que no sea un `NameError`. Si ocurre cualquier otro tipo de error, imprimirá el mensaje \"Something else went wrong\".\n",
        "\n",
        "3. Si no se produce ningún error en el bloque `try`, los bloques `except` no se ejecutarán y el programa continuará su ejecución normalmente.\n",
        "\n",
        "En resumen, este código intenta imprimir el valor de la variable `x` y maneja dos posibles situaciones: si `x` no está definido, se imprimirá un mensaje específico para `NameError`, y si ocurre cualquier otro error, se imprimirá un mensaje genérico. Esto evita que el programa se bloquee debido a excepciones no controladas."
      ]
    },
    {
      "cell_type": "markdown",
      "id": "d003deb7",
      "metadata": {
        "id": "d003deb7"
      },
      "source": [
        "<a name='2'></a>\n",
        "\n",
        "# Else\n",
        "[regresar al contenido](#c1)"
      ]
    },
    {
      "cell_type": "markdown",
      "id": "1d6ab0f1",
      "metadata": {
        "id": "1d6ab0f1"
      },
      "source": [
        "Puedes usar la palabra clave `else` para definir un bloque de código que se ejecutará si no se generan errores"
      ]
    },
    {
      "cell_type": "markdown",
      "id": "f8e4a534",
      "metadata": {
        "id": "f8e4a534"
      },
      "source": [
        "Ejemplo:\n",
        "    \n",
        "En este ejemplo, el bloque `try` no genera ningún error:"
      ]
    },
    {
      "cell_type": "code",
      "execution_count": null,
      "id": "a7c7c289",
      "metadata": {
        "id": "a7c7c289",
        "outputId": "ef3ccda4-ea6c-471b-f6e2-900119ef30cb"
      },
      "outputs": [
        {
          "name": "stdout",
          "output_type": "stream",
          "text": [
            "Hello\n",
            "Nothing went wrong\n"
          ]
        }
      ],
      "source": [
        "try:\n",
        "  print(\"Hello\")\n",
        "except:\n",
        "  print(\"Something went wrong\")\n",
        "else:\n",
        "  print(\"Nothing went wrong\")"
      ]
    },
    {
      "cell_type": "markdown",
      "id": "334a05cf",
      "metadata": {
        "id": "334a05cf"
      },
      "source": [
        "<a name='3'></a>\n",
        "\n",
        "# Finally\n",
        "[regresar al contenido](#c1)"
      ]
    },
    {
      "cell_type": "markdown",
      "id": "2fb0abac",
      "metadata": {
        "id": "2fb0abac"
      },
      "source": [
        "Finalmente, el bloque `finally`, si se especifica, se ejecutará independientemente de si el bloque `try` genera un error o no."
      ]
    },
    {
      "cell_type": "code",
      "execution_count": null,
      "id": "bb8465c0",
      "metadata": {
        "id": "bb8465c0",
        "outputId": "990bf4b8-b6ea-45bb-c7df-a4742934912b"
      },
      "outputs": [
        {
          "name": "stdout",
          "output_type": "stream",
          "text": [
            "Something went wrong\n",
            "The 'try except' is finished\n"
          ]
        }
      ],
      "source": [
        "try:\n",
        "  print(x)\n",
        "except:\n",
        "  print(\"Something went wrong\")\n",
        "finally:\n",
        "  print(\"The 'try except' is finished\")"
      ]
    },
    {
      "cell_type": "markdown",
      "id": "52606993",
      "metadata": {
        "id": "52606993"
      },
      "source": [
        "Esto puede ser útil para cerrar objetos y limpiar recursos"
      ]
    },
    {
      "cell_type": "markdown",
      "id": "3d31110c",
      "metadata": {
        "id": "3d31110c"
      },
      "source": [
        "Ejemplo:\n",
        "    \n",
        "Intenta abrir y escribir en un archivo que no es editable"
      ]
    },
    {
      "cell_type": "code",
      "execution_count": null,
      "id": "0a85fe07",
      "metadata": {
        "id": "0a85fe07",
        "outputId": "d5c8583e-a060-4ba2-f4bf-301b38f9af02"
      },
      "outputs": [
        {
          "name": "stdout",
          "output_type": "stream",
          "text": [
            "Something went wrong when writing to the file\n"
          ]
        }
      ],
      "source": [
        "try:\n",
        "  f = open(\"demofile.txt\")\n",
        "  try:\n",
        "    f.write(\"Lorum Ipsum\")\n",
        "  except:\n",
        "    print(\"Something went wrong when writing to the file\")\n",
        "  finally:\n",
        "    f.close()\n",
        "except:\n",
        "  print(\"Something went wrong when opening the file\")"
      ]
    },
    {
      "cell_type": "markdown",
      "id": "2eec2d94",
      "metadata": {
        "id": "2eec2d94"
      },
      "source": [
        "El programa puede continuar sin dejar el objeto de archivo abierto."
      ]
    },
    {
      "cell_type": "markdown",
      "id": "20082363",
      "metadata": {
        "id": "20082363"
      },
      "source": [
        "<a name='4'></a>\n",
        "\n",
        "# Lanzar una excepción (Raise an exception)\n",
        "[regresar al contenido](#c1)"
      ]
    },
    {
      "cell_type": "markdown",
      "id": "f41a119f",
      "metadata": {
        "id": "f41a119f"
      },
      "source": [
        "Como desarrollador de Python, puedes optar por generar una excepción si ocurre una condición.\n",
        "\n",
        "Para lanzar (o generar) una excepción, utiliza la palabra clave `raise`."
      ]
    },
    {
      "cell_type": "markdown",
      "id": "16bca4f6",
      "metadata": {
        "id": "16bca4f6"
      },
      "source": [
        "Ejemplo:\n",
        "\n",
        "Genera un error y detiene el programa si x es menor que 0:"
      ]
    },
    {
      "cell_type": "code",
      "execution_count": null,
      "id": "5a9f733d",
      "metadata": {
        "id": "5a9f733d",
        "outputId": "ad6d7c60-d55e-4980-9065-cd82b8cf95e8"
      },
      "outputs": [
        {
          "ename": "Exception",
          "evalue": "Sorry, no numbers below zero",
          "output_type": "error",
          "traceback": [
            "\u001b[1;31m---------------------------------------------------------------------------\u001b[0m",
            "\u001b[1;31mException\u001b[0m                                 Traceback (most recent call last)",
            "Input \u001b[1;32mIn [10]\u001b[0m, in \u001b[0;36m<cell line: 3>\u001b[1;34m()\u001b[0m\n\u001b[0;32m      1\u001b[0m x \u001b[38;5;241m=\u001b[39m \u001b[38;5;241m-\u001b[39m\u001b[38;5;241m1\u001b[39m\n\u001b[0;32m      3\u001b[0m \u001b[38;5;28;01mif\u001b[39;00m x \u001b[38;5;241m<\u001b[39m \u001b[38;5;241m0\u001b[39m:\n\u001b[1;32m----> 4\u001b[0m   \u001b[38;5;28;01mraise\u001b[39;00m \u001b[38;5;167;01mException\u001b[39;00m(\u001b[38;5;124m\"\u001b[39m\u001b[38;5;124mSorry, no numbers below zero\u001b[39m\u001b[38;5;124m\"\u001b[39m)\n",
            "\u001b[1;31mException\u001b[0m: Sorry, no numbers below zero"
          ]
        }
      ],
      "source": [
        "x = -1\n",
        "\n",
        "if x < 0:\n",
        "  raise Exception(\"Sorry, no numbers below zero\")"
      ]
    },
    {
      "cell_type": "markdown",
      "id": "b7405ee8",
      "metadata": {
        "id": "b7405ee8"
      },
      "source": [
        "La palabra clave `raise` se utiliza para generar una excepción.\n",
        "\n",
        "Puedes definir qué tipo de error generar y el texto que se mostrará al usuario."
      ]
    },
    {
      "cell_type": "markdown",
      "id": "5115b740",
      "metadata": {
        "id": "5115b740"
      },
      "source": [
        "Ejemplo:\n",
        "\n",
        "Genera un `TypeError` si x no es un número entero:"
      ]
    },
    {
      "cell_type": "code",
      "execution_count": null,
      "id": "b2e4c22d",
      "metadata": {
        "id": "b2e4c22d",
        "outputId": "91c3f2d4-5e32-49c8-d061-21f17571edb6"
      },
      "outputs": [
        {
          "ename": "TypeError",
          "evalue": "Only integers are allowed",
          "output_type": "error",
          "traceback": [
            "\u001b[1;31m---------------------------------------------------------------------------\u001b[0m",
            "\u001b[1;31mTypeError\u001b[0m                                 Traceback (most recent call last)",
            "Input \u001b[1;32mIn [11]\u001b[0m, in \u001b[0;36m<cell line: 3>\u001b[1;34m()\u001b[0m\n\u001b[0;32m      1\u001b[0m x \u001b[38;5;241m=\u001b[39m \u001b[38;5;124m\"\u001b[39m\u001b[38;5;124mhello\u001b[39m\u001b[38;5;124m\"\u001b[39m\n\u001b[0;32m      3\u001b[0m \u001b[38;5;28;01mif\u001b[39;00m \u001b[38;5;129;01mnot\u001b[39;00m \u001b[38;5;28mtype\u001b[39m(x) \u001b[38;5;129;01mis\u001b[39;00m \u001b[38;5;28mint\u001b[39m:\n\u001b[1;32m----> 4\u001b[0m   \u001b[38;5;28;01mraise\u001b[39;00m \u001b[38;5;167;01mTypeError\u001b[39;00m(\u001b[38;5;124m\"\u001b[39m\u001b[38;5;124mOnly integers are allowed\u001b[39m\u001b[38;5;124m\"\u001b[39m)\n",
            "\u001b[1;31mTypeError\u001b[0m: Only integers are allowed"
          ]
        }
      ],
      "source": [
        "x = \"hello\"\n",
        "\n",
        "if not type(x) is int:\n",
        "  raise TypeError(\"Only integers are allowed\")\n"
      ]
    },
    {
      "cell_type": "markdown",
      "id": "202b7434",
      "metadata": {
        "id": "202b7434"
      },
      "source": [
        "<a name='5'></a>\n",
        "\n",
        "# Ejercicios propuestos\n",
        "[regresar al contenido](#c1)"
      ]
    },
    {
      "cell_type": "markdown",
      "id": "7739c210",
      "metadata": {
        "id": "7739c210"
      },
      "source": [
        "Ejercicios propuestos para practicar el uso de los bloques `try`, `except`, `else` y cómo lanzar excepciones:\n",
        "\n",
        "1. **Manejo de errores básico:**\n",
        "   \n",
        "   Escribe un programa que solicite al usuario ingresar dos números y luego divida el primer número por el segundo. Utiliza un bloque `try` y `except` para manejar la posible excepción de división por cero. Si se produce una excepción, muestra un mensaje que indique que no se puede dividir por cero. De lo contrario, muestra el resultado de la división.\n",
        "\n",
        "2. **Validación de entrada:**\n",
        "\n",
        "   Escribe un programa que solicite al usuario ingresar su edad. Utiliza un bloque `try`, `except` y `else` para manejar las siguientes situaciones:\n",
        "   - Si el usuario ingresa una edad no numérica, muestra un mensaje de error.\n",
        "   - Si el usuario ingresa una edad menor de 0, muestra un mensaje de error.\n",
        "   - Si el usuario ingresa una edad mayor o igual a 18, muestra un mensaje que indica que es mayor de edad.\n",
        "   - Si el usuario ingresa una edad menor de 18, muestra un mensaje que indica que es menor de edad.\n",
        "\n",
        "3. **Lanzamiento de excepciones personalizadas:**\n",
        "\n",
        "   Define una función llamada `calcular_promedio` que acepte una lista de números como argumento. Dentro de la función, utiliza un bloque `try` y `except` para manejar el caso en el que la lista esté vacía (lo que podría causar una excepción de división por cero). Si la lista está vacía, lanza una excepción personalizada llamada `ListaVaciaError`. En el bloque `else`, calcula y devuelve el promedio de los números en la lista.\n",
        "\n",
        "4. **Manejo de archivos:**\n",
        "\n",
        "   Escribe un programa que abra un archivo llamado \"datos.txt\" en modo de lectura. Utiliza un bloque `try` y `except` para manejar la posible excepción si el archivo no existe. Si el archivo existe, muestra su contenido. Si el archivo no existe, muestra un mensaje que indica que el archivo no se encontró.\n",
        "\n",
        "5. **Validación de entrada de usuario:**\n",
        "\n",
        "   Escribe un programa que solicite al usuario ingresar una contraseña. Define una función llamada `validar_contrasena` que tome la contraseña como argumento. Dentro de la función, utiliza un bloque `try` y `except` para manejar la excepción si la contraseña tiene menos de 8 caracteres. Si la contraseña es válida (8 caracteres o más), la función debe devolver `True`. Si la contraseña no es válida, la función debe lanzar una excepción personalizada llamada `ContrasenaInvalidaError` con un mensaje apropiado.\n",
        "\n",
        "Recuerda practicar estos ejercicios y experimentar con diferentes situaciones para comprender mejor cómo funcionan los bloques `try`, `except`, `else` y cómo lanzar excepciones en Python."
      ]
    }
  ],
  "metadata": {
    "kernelspec": {
      "display_name": "Python 3 (ipykernel)",
      "language": "python",
      "name": "python3"
    },
    "language_info": {
      "codemirror_mode": {
        "name": "ipython",
        "version": 3
      },
      "file_extension": ".py",
      "mimetype": "text/x-python",
      "name": "python",
      "nbconvert_exporter": "python",
      "pygments_lexer": "ipython3",
      "version": "3.9.12"
    },
    "colab": {
      "provenance": [],
      "include_colab_link": true
    }
  },
  "nbformat": 4,
  "nbformat_minor": 5
}