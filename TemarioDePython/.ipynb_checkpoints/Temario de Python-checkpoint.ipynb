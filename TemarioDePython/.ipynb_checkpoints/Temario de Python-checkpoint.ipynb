{
 "cells": [
  {
   "cell_type": "markdown",
   "id": "83b5c1b4",
   "metadata": {},
   "source": [
    "<font color=\"Teal\" face=\"Comic Sans MS,arial\">\n",
    "  <h1 align=\"center\"><i>Tutorial de Python </i></h1>\n",
    "  </font>\n",
    "  \n",
    "> Elaborado por: Jesús Iván Coss Calderón. mat_ing_coss@ciencias.unam.mx"
   ]
  },
  {
   "cell_type": "markdown",
   "id": "e6b62f60",
   "metadata": {},
   "source": [
    "**Objetivo general**\n",
    "\n",
    "* Aprender los fundamentos del lenguaje de programación python.\n",
    "\n",
    "**Objetivos particulares**\n",
    "\n",
    "* Que el estudiante aprenda los principios básicos de la programación estructurada y orientada a objetos"
   ]
  },
  {
   "cell_type": "markdown",
   "id": "9593e3fb",
   "metadata": {},
   "source": [
    "<a name='c1'></a>\n",
    "\n",
    "## Contenido\n",
    "\n",
    "\n",
    "**Nivel Básico:**\n",
    "\n",
    "1. Introducción a Python\n",
    "   - [¿Qué es Python?](https://github.com/seismomat/HerramientasComputacionales/blob/main/NivelBasico/IntroduccionApython/QueEsPython.ipynb)\n",
    "   - Instalación y configuración del entorno de desarrollo.\n",
    "\n",
    "2. Fundamentos de Programación\n",
    "   - [Variables](https://github.com/seismomat/HerramientasComputacionales/blob/main/NivelBasico/FundamentosDeProgramacion/Variables.ipynb)\n",
    "   - [Sintaxis, comentarios y tipos de datos](https://github.com/seismomat/HerramientasComputacionales/blob/main/NivelBasico/FundamentosDeProgramacion/Sintaxis%2Ccomentarios%2CTiposDeDatos.ipynb)\n",
    "   - [Operadores aritméticos y de comparación.](https://github.com/seismomat/HerramientasComputacionales/blob/main/NivelBasico/FundamentosDeProgramacion/Operadores%20aritm%C3%A9ticos%20y%20de%20comparaci%C3%B3n.ipynb)\n",
    "   - [Estructuras de control: if, elif, else.](https://github.com/seismomat/HerramientasComputacionales/blob/main/NivelBasico/FundamentosDeProgramacion/Estructuras%20de%20control%20if%2C%20elif%2C%20else.ipynb)\n",
    "   - [Bucles: while y for](https://github.com/seismomat/HerramientasComputacionales/blob/main/NivelBasico/FundamentosDeProgramacion/Bucles%20while%20y%20for.ipynb)\n",
    "\n",
    "3. Estructuras de Datos Fundamentales\n",
    "   - [Listas](https://github.com/seismomat/HerramientasComputacionales/blob/main/NivelBasico/EstructurasDeDatosFundamentales/Listas.ipynb)\n",
    "   - [Tuplas](https://github.com/seismomat/HerramientasComputacionales/blob/main/NivelBasico/EstructurasDeDatosFundamentales/Tuple.ipynb)\n",
    "   - [Conjuntos](https://github.com/seismomat/HerramientasComputacionales/blob/main/NivelBasico/EstructurasDeDatosFundamentales/Conjuntos.ipynb)\n",
    "   - [Diccionarios](https://github.com/seismomat/HerramientasComputacionales/blob/main/NivelBasico/EstructurasDeDatosFundamentales/Diccionarios.ipynb)\n",
    "   - [Cadenas](https://github.com/seismomat/HerramientasComputacionales/blob/main/NivelBasico/EstructurasDeDatosFundamentales/Cadenas.ipynb)\n",
    "\n",
    "4. Funciones\n",
    "   - [Definición,llamada a funciones, parámetros y argumentos](https://github.com/seismomat/HerramientasComputacionales/blob/main/NivelBasico/Funciones/Definici%C3%B3n%2Cllamada%20a%20funciones%2C%20par%C3%A1metros%20y%20argumentos.ipynb)\n",
    "   - [Retorno de valores y funciones predefinidas](https://github.com/seismomat/HerramientasComputacionales/blob/main/NivelBasico/Funciones/Retorno%20de%20valores%20y%20funciones%20predefinidas.ipynb)\n",
    "   - [Funciones lambda](https://github.com/seismomat/HerramientasComputacionales/blob/main/NivelBasico/Funciones/Funciones%20Lambda.ipynb)\n"
   ]
  },
  {
   "cell_type": "markdown",
   "id": "5b9b0e7a",
   "metadata": {},
   "source": [
    "**Nivel Intermedio:**\n",
    "\n",
    "5. Trabajo con Archivos\n",
    "   - [Lectura y escritura de archivos de texto.](https://github.com/seismomat/HerramientasComputacionales/blob/main/NivelIntermedio/TrabajoConArchivos/Lectura%20y%20escritura%20de%20archivos%20de%20texto.ipynb)\n",
    "\n",
    "6. Módulos y Bibliotecas\n",
    "   - [Importación y uso de módulos.](https://github.com/seismomat/HerramientasComputacionales/blob/main/NivelIntermedio/Modulos_Y_Bibliotecas/Importaci%C3%B3n%20y%20uso%20de%20m%C3%B3dulos.ipynb)\n",
    "   - Introducción a bibliotecas populares: \n",
    "       [math](https://github.com/seismomat/HerramientasComputacionales/blob/main/NivelIntermedio/Modulos_Y_Bibliotecas/Math.ipynb)\n",
    "       ,[random.](https://github.com/seismomat/HerramientasComputacionales/blob/main/NivelIntermedio/Modulos_Y_Bibliotecas/Random.ipynb)\n",
    "   - [Numpy](https://github.com/seismomat/HerramientasComputacionales/blob/main/NivelIntermedio/Modulos_Y_Bibliotecas/Numpy.ipynb)\n",
    "   - [Matplotlib](https://github.com/seismomat/HerramientasComputacionales/blob/main/NivelIntermedio/Modulos_Y_Bibliotecas/matplotlib.ipynb)\n",
    "\n",
    "7. Programación Orientada a Objetos (POO)\n",
    "   - [Clases y objetos.](https://github.com/seismomat/HerramientasComputacionales/blob/main/NivelIntermedio/POO/Clases%20y%20objetos.ipynb)\n",
    "   - [Herencia y polimorfismo.](https://github.com/seismomat/HerramientasComputacionales/blob/main/NivelIntermedio/POO/Herencia%20y%20Poliformismo.ipynb)\n",
    "\n",
    "8. Manipulación de Cadenas\n",
    "   - [Expresiones regulares básicas.](https://github.com/seismomat/HerramientasComputacionales/blob/main/NivelIntermedio/ManipulacionDeCadenas/Expresiones%20regulares%20basicas.ipynb)\n",
    "\n",
    "9. Manejo de Errores y Excepciones\n",
    "   - [Tipos de excepciones.](https://github.com/seismomat/HerramientasComputacionales/blob/main/NivelIntermedio/ManejoDeErroresExcepciones/Tipos%20de%20excepciones.ipynb)\n",
    "   - [Bloques try-except.](https://github.com/seismomat/HerramientasComputacionales/blob/main/NivelIntermedio/ManejoDeErroresExcepciones/Bloques%20try-except.ipynb)\n",
    "   - [Lanzamiento de excepciones personalizadas.](https://github.com/seismomat/HerramientasComputacionales/blob/main/NivelIntermedio/ManejoDeErroresExcepciones/Lanzamiento%20de%20excepciones%20personalizadas.ipynb)"
   ]
  },
  {
   "cell_type": "markdown",
   "id": "e223fe8e",
   "metadata": {},
   "source": [
    "**Nivel Avanzado:**\n",
    "\n",
    "10. Gestión de Datos\n",
    "    - Introducción a bases de datos con SQLite.\n",
    "    - Consultas SQL básicas.\n",
    "\n",
    "11. Programación Funcional\n",
    "    - Funciones map, filter y reduce.\n",
    "    - Comprensión de listas y generadores.\n",
    "\n",
    "12. Desarrollo de Aplicaciones de Consola\n",
    "    - Estructura de una aplicación.\n",
    "    - Interacción con el usuario.\n",
    "    - Organización del código en módulos.\n",
    "\n",
    "13. Introducción a la Interfaz Gráfica (GUI)\n",
    "    - Conceptos básicos de GUI.\n",
    "    - Introducción a bibliotecas como Tkinter.\n",
    "\n",
    "14. Introducción a Web Scraping\n",
    "    - Bibliotecas como BeautifulSoup y Requests.\n",
    "    - Extracción de datos de páginas web.\n"
   ]
  },
  {
   "cell_type": "code",
   "execution_count": null,
   "id": "db641e04-07a1-4d65-8056-009fb77e6ba0",
   "metadata": {},
   "outputs": [],
   "source": []
  }
 ],
 "metadata": {
  "kernelspec": {
   "display_name": "Python 3 (ipykernel)",
   "language": "python",
   "name": "python3"
  },
  "language_info": {
   "codemirror_mode": {
    "name": "ipython",
    "version": 3
   },
   "file_extension": ".py",
   "mimetype": "text/x-python",
   "name": "python",
   "nbconvert_exporter": "python",
   "pygments_lexer": "ipython3",
   "version": "3.9.12"
  }
 },
 "nbformat": 4,
 "nbformat_minor": 5
}
