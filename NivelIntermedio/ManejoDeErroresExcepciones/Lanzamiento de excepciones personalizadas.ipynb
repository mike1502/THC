{
  "cells": [
    {
      "cell_type": "markdown",
      "metadata": {
        "id": "view-in-github",
        "colab_type": "text"
      },
      "source": [
        "<a href=\"https://colab.research.google.com/github/seismomat/HerramientasComputacionales/blob/main/NivelIntermedio/ManejoDeErroresExcepciones/Lanzamiento%20de%20excepciones%20personalizadas.ipynb\" target=\"_parent\"><img src=\"https://colab.research.google.com/assets/colab-badge.svg\" alt=\"Open In Colab\"/></a>"
      ]
    },
    {
      "cell_type": "markdown",
      "id": "0c4018bd",
      "metadata": {
        "id": "0c4018bd"
      },
      "source": [
        "<font color=\"Red\" face=\"Comic Sans MS,arial\">\n",
        "  <h1 align=\"center\"><i>Lanzamiento de excepciones personalizadas </i></h1>\n",
        "  </font>\n",
        "  \n",
        "> Elaborado por: Jesús Iván Coss Calderón. mat_ing_coss@ciencias.unam.mx"
      ]
    },
    {
      "cell_type": "markdown",
      "id": "d572795c",
      "metadata": {
        "id": "d572795c"
      },
      "source": [
        "**Objetivo general**\n",
        "\n",
        "* Aprender a lanzar excepciones personalizadas\n",
        "\n",
        "**Objetivos particulares**\n",
        "\n",
        "* Entender la elaboración de expcepciones personalizadas"
      ]
    },
    {
      "cell_type": "markdown",
      "id": "001e54d2",
      "metadata": {
        "id": "001e54d2"
      },
      "source": [
        "[**Regresa al notebook principal**](https://github.com/seismomat/HerramientasComputacionales/blob/main/TemarioDePython/Temario%20de%20Python.ipynb)"
      ]
    },
    {
      "cell_type": "markdown",
      "id": "b76ffc8a",
      "metadata": {
        "id": "b76ffc8a"
      },
      "source": [
        "<a name='c1'></a>\n",
        "\n",
        "# Contenido\n",
        "\n",
        "- [Excepción personalizada](#1)\n",
        "- [Ejercicios propuestos](#2)"
      ]
    },
    {
      "cell_type": "markdown",
      "id": "269975e0",
      "metadata": {
        "id": "269975e0"
      },
      "source": [
        "<a name='1'></a>\n",
        "\n",
        "# Excepción personalizada\n",
        "[regresar al contenido](#c1)\n"
      ]
    },
    {
      "cell_type": "markdown",
      "id": "df75e5ee",
      "metadata": {
        "id": "df75e5ee"
      },
      "source": [
        "En Python, puedes crear tus propias excepciones personalizadas mediante la definición de clases que hereden de la clase base `Exception` o de alguna de sus subclases. Aquí te muestro cómo puedes crear y usar excepciones personalizadas:"
      ]
    },
    {
      "cell_type": "code",
      "execution_count": null,
      "id": "4ad220f4",
      "metadata": {
        "id": "4ad220f4",
        "outputId": "048ad7f8-f984-4678-9337-3cfc2d77fc1d"
      },
      "outputs": [
        {
          "name": "stdout",
          "output_type": "stream",
          "text": [
            "Error: No se puede dividir por cero.\n"
          ]
        }
      ],
      "source": [
        "# Definir una excepción personalizada que herede de Exception\n",
        "class MiExcepcionPersonalizada(Exception):\n",
        "    def __init__(self, mensaje):\n",
        "        super().__init__(mensaje)\n",
        "\n",
        "# Usar la excepción personalizada\n",
        "def dividir(a, b):\n",
        "    if b == 0:\n",
        "        raise MiExcepcionPersonalizada(\"No se puede dividir por cero.\")\n",
        "    return a / b\n",
        "\n",
        "# Capturar la excepción personalizada\n",
        "try:\n",
        "    resultado = dividir(10, 0)\n",
        "except MiExcepcionPersonalizada as error:\n",
        "    print(f\"Error: {error}\")\n",
        "else:\n",
        "    print(f\"Resultado: {resultado}\")"
      ]
    },
    {
      "cell_type": "markdown",
      "id": "f8368a79",
      "metadata": {
        "id": "f8368a79"
      },
      "source": [
        "En el ejemplo anterior:\n",
        "\n",
        "1. Definimos una excepción personalizada llamada `MiExcepcionPersonalizada` que hereda de la clase base `Exception`. Esta clase tiene un constructor `__init__` que toma un mensaje de error como argumento y llama al constructor de la clase base con ese mensaje.\n",
        "\n",
        "2. En la función `dividir`, verificamos si el divisor (`b`) es cero. Si es cero, lanzamos nuestra excepción personalizada utilizando la instrucción `raise`. Proporcionamos un mensaje descriptivo en el proceso.\n",
        "\n",
        "3. En el bloque `try...except`, intentamos realizar la división llamando a la función `dividir`. Si se produce una excepción de `MiExcepcionPersonalizada`, la capturamos y mostramos el mensaje de error. Si no se produce ninguna excepción, mostramos el resultado de la división.\n"
      ]
    },
    {
      "cell_type": "markdown",
      "id": "202b7434",
      "metadata": {
        "id": "202b7434"
      },
      "source": [
        "<a name='2'></a>\n",
        "\n",
        "# Ejercicios propuestos\n",
        "[regresar al contenido](#c1)"
      ]
    },
    {
      "cell_type": "markdown",
      "id": "7739c210",
      "metadata": {
        "id": "7739c210"
      },
      "source": [
        "Ejercicios propuestos para que elabores excepciones personalizadas en Python:\n",
        "\n",
        "**Ejercicio 1: Excepción personalizada de validación**\n",
        "\n",
        "Crea una excepción personalizada llamada `ValorFueraDeRango` que se eleve cuando un valor entero esté fuera de un rango específico. Luego, escribe un programa que solicite al usuario un número entero y genere una excepción `ValorFueraDeRango` si el número está fuera del rango de 1 a 100.\n",
        "\n",
        "**Ejercicio 2: Excepción personalizada de autenticación**\n",
        "\n",
        "Imagina que estás creando un sistema de autenticación. Crea una excepción personalizada llamada `AutenticacionFallida` que se eleve cuando un usuario no pueda autenticarse correctamente. Luego, escribe un programa que simule un intento de inicio de sesión y genere una excepción `AutenticacionFallida` si el inicio de sesión es incorrecto.\n",
        "\n",
        "**Ejercicio 3: Excepción personalizada de archivo**\n",
        "\n",
        "Escribe un programa que maneje la lectura de un archivo. Crea una excepción personalizada llamada `ArchivoNoEncontrado` que se eleve si el archivo que estás intentando abrir no existe. A continuación, utiliza esta excepción personalizada en tu programa para manejar la situación en la que el archivo no se encuentra y proporcionar un mensaje de error adecuado.\n",
        "\n",
        "Estos ejercicios te permitirán practicar la creación y el uso de excepciones personalizadas en situaciones de la vida real. Puedes adaptarlos y extenderlos según sea necesario para tu propio aprendizaje y proyectos."
      ]
    }
  ],
  "metadata": {
    "kernelspec": {
      "display_name": "Python 3 (ipykernel)",
      "language": "python",
      "name": "python3"
    },
    "language_info": {
      "codemirror_mode": {
        "name": "ipython",
        "version": 3
      },
      "file_extension": ".py",
      "mimetype": "text/x-python",
      "name": "python",
      "nbconvert_exporter": "python",
      "pygments_lexer": "ipython3",
      "version": "3.9.12"
    },
    "colab": {
      "provenance": [],
      "include_colab_link": true
    }
  },
  "nbformat": 4,
  "nbformat_minor": 5
}