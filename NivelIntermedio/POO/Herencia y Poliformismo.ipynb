{
  "cells": [
    {
      "cell_type": "markdown",
      "metadata": {
        "id": "view-in-github",
        "colab_type": "text"
      },
      "source": [
        "<a href=\"https://colab.research.google.com/github/seismomat/HerramientasComputacionales/blob/main/NivelIntermedio/POO/Herencia%20y%20Poliformismo.ipynb\" target=\"_parent\"><img src=\"https://colab.research.google.com/assets/colab-badge.svg\" alt=\"Open In Colab\"/></a>"
      ]
    },
    {
      "cell_type": "markdown",
      "id": "0c4018bd",
      "metadata": {
        "id": "0c4018bd"
      },
      "source": [
        "<font color=\"Red\" face=\"Comic Sans MS,arial\">\n",
        "  <h1 align=\"center\"><i>Herencia y poliformismo </i></h1>\n",
        "  </font>\n",
        "  \n",
        "> Elaborado por: Jesús Iván Coss Calderón. mat_ing_coss@ciencias.unam.mx"
      ]
    },
    {
      "cell_type": "markdown",
      "id": "d572795c",
      "metadata": {
        "id": "d572795c"
      },
      "source": [
        "**Objetivo general**\n",
        "\n",
        "* Aprender los fundamentos de la herencia de clases\n",
        "\n",
        "**Objetivos particulares**\n",
        "\n",
        "* Entender la elaboración de clases"
      ]
    },
    {
      "cell_type": "markdown",
      "id": "001e54d2",
      "metadata": {
        "id": "001e54d2"
      },
      "source": [
        "[**Regresa al notebook principal**](https://github.com/seismomat/HerramientasComputacionales/blob/main/TemarioDePython/Temario%20de%20Python.ipynb)"
      ]
    },
    {
      "cell_type": "markdown",
      "id": "b76ffc8a",
      "metadata": {
        "id": "b76ffc8a"
      },
      "source": [
        "<a name='c1'></a>\n",
        "\n",
        "## Contenido\n",
        "\n",
        "- [Herencia en Python](#1)\n",
        "    - [Declaración de una clase Padre](#1-1)\n",
        "    - [Declaración de una clase Hijo](#1-2)\n",
        "- [Agregando la función __init__()](#2)\n",
        "- [La función super()](#3)\n",
        "     - [Agregando propiedades](#3-1)\n",
        "     - [Agregando métodos](#3-2)\n",
        "- [Polimorfismo de clases](#4)\n",
        "- [Polimorfismo de Clase de Herencia](#5)\n",
        "- [Ejercicios propuestos](#6)"
      ]
    },
    {
      "cell_type": "markdown",
      "id": "269975e0",
      "metadata": {
        "id": "269975e0"
      },
      "source": [
        "<a name='1'></a>\n",
        "\n",
        "# Herencia en Python\n",
        "[regresar al contenido](#c1)\n",
        "\n",
        "\n",
        "La herencia nos permite definir una clase que hereda todos los métodos y propiedades de otra clase.\n",
        "\n",
        "La clase padre es la clase de la que se hereda, también llamada clase base.\n",
        "\n",
        "La clase hija es la clase que hereda de otra clase, también llamada clase derivada."
      ]
    },
    {
      "cell_type": "markdown",
      "id": "fb9dfa06",
      "metadata": {
        "id": "fb9dfa06"
      },
      "source": [
        "<a name='1-1'></a>\n",
        "\n",
        "## Declaración de una clase Padre\n",
        "[regresar al contenido](#c1)\n",
        "\n",
        "Cualquier clase puede ser una clase padre, por lo que la sintaxis es la misma que al crear cualquier otra clase:"
      ]
    },
    {
      "cell_type": "code",
      "execution_count": null,
      "id": "b516f0d1",
      "metadata": {
        "id": "b516f0d1",
        "outputId": "53fa7278-4f3e-4529-8742-8fbc9545dfc7"
      },
      "outputs": [
        {
          "name": "stdout",
          "output_type": "stream",
          "text": [
            "John Doe\n"
          ]
        }
      ],
      "source": [
        "class Person:\n",
        "  def __init__(self, fname, lname):\n",
        "    self.firstname = fname\n",
        "    self.lastname = lname\n",
        "\n",
        "  def printname(self):\n",
        "    print(self.firstname, self.lastname)\n",
        "\n",
        "#Usa la clase Person para crear un objeto y luego ejecuta el método printname\n",
        "\n",
        "x = Person(\"John\", \"Doe\")\n",
        "x.printname()"
      ]
    },
    {
      "cell_type": "markdown",
      "id": "afa98fb0",
      "metadata": {
        "id": "afa98fb0"
      },
      "source": [
        "<a name='1-2'></a>\n",
        "\n",
        "## Declaración de una clase Hijo\n",
        "[regresar al contenido](#c1)\n",
        "\n",
        "Para crear una clase que herede la funcionalidad de otra clase, envía la clase padre como parámetro al crear la clase hijo:"
      ]
    },
    {
      "cell_type": "code",
      "execution_count": null,
      "id": "82370167",
      "metadata": {
        "id": "82370167"
      },
      "outputs": [],
      "source": [
        " class Student(Person):\n",
        "  pass"
      ]
    },
    {
      "cell_type": "markdown",
      "id": "ef3caecd-24c0-4c60-93ea-527865988aa0",
      "metadata": {
        "id": "ef3caecd-24c0-4c60-93ea-527865988aa0"
      },
      "source": [
        "Nota: Utiliza la palabra clave \"pass\" cuando no desees agregar ninguna otra propiedad o método a la clase.\n",
        "\n",
        "Ahora, la clase Estudiante tiene las mismas propiedades y métodos que la clase Persona."
      ]
    },
    {
      "cell_type": "code",
      "execution_count": null,
      "id": "2c144897-1568-47be-8cb9-1a66df0e396d",
      "metadata": {
        "id": "2c144897-1568-47be-8cb9-1a66df0e396d",
        "outputId": "9474f747-177c-48dd-f470-28365e7c114a"
      },
      "outputs": [
        {
          "name": "stdout",
          "output_type": "stream",
          "text": [
            "Mike Olsen\n"
          ]
        }
      ],
      "source": [
        "x = Student(\"Mike\", \"Olsen\")\n",
        "x.printname()"
      ]
    },
    {
      "cell_type": "markdown",
      "id": "d003deb7",
      "metadata": {
        "id": "d003deb7"
      },
      "source": [
        "<a name='2'></a>\n",
        "\n",
        "# Agregando la función __init__()\n",
        "[regresar al contenido](#c1)"
      ]
    },
    {
      "cell_type": "markdown",
      "id": "8c9b1700",
      "metadata": {
        "id": "8c9b1700"
      },
      "source": [
        "Hasta ahora hemos creado una clase hija que hereda las propiedades y métodos de su clase padre.\n",
        "\n",
        "Queremos agregar la función `__init__()` a la clase hija (en lugar de la palabra clave \"pass\").\n",
        "\n",
        "Nota: La función `__init__()` se llama automáticamente cada vez que se utiliza la clase para crear un nuevo objeto."
      ]
    },
    {
      "cell_type": "code",
      "execution_count": null,
      "id": "ec3ff6f6",
      "metadata": {
        "id": "ec3ff6f6"
      },
      "outputs": [],
      "source": [
        "class Student(Person):\n",
        "  def __init__(self, fname, lname):\n",
        "    #agregar propiedades etc."
      ]
    },
    {
      "cell_type": "markdown",
      "id": "276169e7",
      "metadata": {
        "id": "276169e7"
      },
      "source": [
        "Cuando agregas la función `__init__()`, la clase hija ya no heredará la función `__init__()` de la clase padre.\n",
        "\n",
        "Nota: La función `__init__()` de la clase hija anula la herencia de la función `__init__()` de la clase padre.\n",
        "\n",
        "Para mantener la herencia de la función `__init__()` de la clase padre, agrega una llamada a la función `__init__()` de la clase padre."
      ]
    },
    {
      "cell_type": "code",
      "execution_count": null,
      "id": "b58f95d8",
      "metadata": {
        "id": "b58f95d8"
      },
      "outputs": [],
      "source": [
        "class Student(Person):\n",
        "  def __init__(self, fname, lname):\n",
        "    Person.__init__(self, fname, lname)"
      ]
    },
    {
      "cell_type": "markdown",
      "id": "20a270af",
      "metadata": {
        "id": "20a270af"
      },
      "source": [
        "Ahora hemos agregado con éxito la función `__init__()` y mantenido la herencia de la clase padre, y estamos listos para agregar funcionalidad en la función `__init__()`."
      ]
    },
    {
      "cell_type": "markdown",
      "id": "334a05cf",
      "metadata": {
        "id": "334a05cf"
      },
      "source": [
        "<a name='3'></a>\n",
        "\n",
        "# La función super()\n",
        "[regresar al contenido](#c1)"
      ]
    },
    {
      "cell_type": "markdown",
      "id": "c81f00a6",
      "metadata": {
        "id": "c81f00a6"
      },
      "source": [
        "Python también tiene una función `super()` que hará que la clase hija herede todos los métodos y propiedades de su clase padre:"
      ]
    },
    {
      "cell_type": "code",
      "execution_count": null,
      "id": "95f3f8aa",
      "metadata": {
        "id": "95f3f8aa"
      },
      "outputs": [],
      "source": [
        "class Student(Person):\n",
        "  def __init__(self, fname, lname):\n",
        "    super().__init__(fname, lname)"
      ]
    },
    {
      "cell_type": "markdown",
      "id": "c171f958",
      "metadata": {
        "id": "c171f958"
      },
      "source": [
        "Al utilizar la función `super()`, no es necesario utilizar el nombre del elemento padre, ya que heredará automáticamente los métodos y propiedades de su clase padre."
      ]
    },
    {
      "cell_type": "markdown",
      "id": "3c30e05f",
      "metadata": {
        "id": "3c30e05f"
      },
      "source": [
        "<a name='3-1'></a>\n",
        "\n",
        "## Agregando propiedades\n",
        "[regresar al contenido](#c1)"
      ]
    },
    {
      "cell_type": "code",
      "execution_count": null,
      "id": "f9fcfb95",
      "metadata": {
        "id": "f9fcfb95"
      },
      "outputs": [],
      "source": [
        "class Student(Person):\n",
        "  def __init__(self, fname, lname):\n",
        "    super().__init__(fname, lname)\n",
        "    self.graduationyear = 2019"
      ]
    },
    {
      "cell_type": "markdown",
      "id": "cbe1d220",
      "metadata": {
        "id": "cbe1d220"
      },
      "source": [
        "En el siguiente ejemplo, el año 2019 debería ser una variable y pasarse a la clase Student al crear objetos de estudiante. Para hacerlo, agrega otro parámetro en la función `__init__()`:"
      ]
    },
    {
      "cell_type": "code",
      "execution_count": null,
      "id": "51c56cad",
      "metadata": {
        "id": "51c56cad"
      },
      "outputs": [],
      "source": [
        "class Student(Person):\n",
        "  def __init__(self, fname, lname, year):\n",
        "    super().__init__(fname, lname)\n",
        "    self.graduationyear = year\n",
        "\n",
        "x = Student(\"Mike\", \"Olsen\", 2019)"
      ]
    },
    {
      "cell_type": "markdown",
      "id": "de5ea749",
      "metadata": {
        "id": "de5ea749"
      },
      "source": [
        "<a name='3-2'></a>\n",
        "\n",
        "## Agregando métodos\n",
        "[regresar al contenido](#c1)"
      ]
    },
    {
      "cell_type": "code",
      "execution_count": null,
      "id": "0b27b353",
      "metadata": {
        "id": "0b27b353"
      },
      "outputs": [],
      "source": [
        "class Student(Person):\n",
        "  def __init__(self, fname, lname, year):\n",
        "    super().__init__(fname, lname)\n",
        "    self.graduationyear = year\n",
        "\n",
        "  def welcome(self):\n",
        "    print(\"Welcome\", self.firstname, self.lastname)\n",
        "    print( \"to the class of\", self.graduationyear)"
      ]
    },
    {
      "cell_type": "markdown",
      "id": "20082363",
      "metadata": {
        "id": "20082363"
      },
      "source": [
        "<a name='4'></a>\n",
        "\n",
        "# Polimorfismo de clases\n",
        "[regresar al contenido](#c1)"
      ]
    },
    {
      "cell_type": "markdown",
      "id": "e11ee26e",
      "metadata": {
        "id": "e11ee26e"
      },
      "source": [
        "El polimorfismo a menudo se usa en los métodos de clases, donde podemos tener múltiples clases con el mismo nombre de método.\n",
        "\n",
        "Por ejemplo, digamos que tenemos tres clases: Coche, Barco y Avión, y todas tienen un método llamado mover()."
      ]
    },
    {
      "cell_type": "code",
      "execution_count": null,
      "id": "61d7fcd8",
      "metadata": {
        "id": "61d7fcd8",
        "outputId": "419b9d77-cdb7-4589-bb3b-ef2d39335bda"
      },
      "outputs": [
        {
          "name": "stdout",
          "output_type": "stream",
          "text": [
            "Drive!\n",
            "Sail!\n",
            "Fly!\n"
          ]
        }
      ],
      "source": [
        "class Car:\n",
        "  def __init__(self, brand, model):\n",
        "    self.brand = brand\n",
        "    self.model = model\n",
        "\n",
        "  def move(self):\n",
        "    print(\"Drive!\")\n",
        "\n",
        "class Boat:\n",
        "  def __init__(self, brand, model):\n",
        "    self.brand = brand\n",
        "    self.model = model\n",
        "\n",
        "  def move(self):\n",
        "    print(\"Sail!\")\n",
        "\n",
        "class Plane:\n",
        "  def __init__(self, brand, model):\n",
        "    self.brand = brand\n",
        "    self.model = model\n",
        "\n",
        "  def move(self):\n",
        "    print(\"Fly!\")\n",
        "\n",
        "car1 = Car(\"Ford\", \"Mustang\")       #Create a Car class\n",
        "boat1 = Boat(\"Ibiza\", \"Touring 20\") #Create a Boat class\n",
        "plane1 = Plane(\"Boeing\", \"747\")     #Create a Plane class\n",
        "\n",
        "for x in (car1, boat1, plane1):\n",
        "  x.move()"
      ]
    },
    {
      "cell_type": "markdown",
      "id": "14c133ff",
      "metadata": {
        "id": "14c133ff"
      },
      "source": [
        "El bucle for al final, hace que podamos ejecutar el mismo método para las tres clases."
      ]
    },
    {
      "cell_type": "markdown",
      "id": "fb1a62aa",
      "metadata": {
        "id": "fb1a62aa"
      },
      "source": [
        "<a name='5'></a>\n",
        "\n",
        "# Polimorfismo de Clase de Herencia\n",
        "[regresar al contenido](#c1)"
      ]
    },
    {
      "cell_type": "markdown",
      "id": "718be108",
      "metadata": {
        "id": "718be108"
      },
      "source": [
        "¿Qué sucede con las clases que tienen clases secundarias con el mismo nombre? ¿Podemos usar el polimorfismo allí?\n",
        "\n",
        "Sí. Si tomamos el ejemplo anterior y creamos una clase principal llamada \"Vehicle\" y hacemos que \"Car\", \"Boat\" y \"Plane\" sean clases secundarias de \"Vehicle\", las clases secundarias heredan los métodos de \"Vehicle\", pero pueden anularlos si es necesario."
      ]
    },
    {
      "cell_type": "code",
      "execution_count": null,
      "id": "c7a474f7",
      "metadata": {
        "id": "c7a474f7",
        "outputId": "fd938a6e-a9fa-4954-d68d-0770b6905647"
      },
      "outputs": [
        {
          "name": "stdout",
          "output_type": "stream",
          "text": [
            "Ford\n",
            "Mustang\n",
            "Move!\n",
            "Ibiza\n",
            "Touring 20\n",
            "Sail!\n",
            "Boeing\n",
            "747\n",
            "Fly!\n"
          ]
        }
      ],
      "source": [
        "class Vehicle:\n",
        "  def __init__(self, brand, model):\n",
        "    self.brand = brand\n",
        "    self.model = model\n",
        "\n",
        "  def move(self):\n",
        "    print(\"Move!\")\n",
        "\n",
        "class Car(Vehicle):\n",
        "  pass\n",
        "\n",
        "class Boat(Vehicle):\n",
        "  def move(self):\n",
        "    print(\"Sail!\")\n",
        "\n",
        "class Plane(Vehicle):\n",
        "  def move(self):\n",
        "    print(\"Fly!\")\n",
        "\n",
        "car1 = Car(\"Ford\", \"Mustang\") #Create a Car object\n",
        "boat1 = Boat(\"Ibiza\", \"Touring 20\") #Create a Boat object\n",
        "plane1 = Plane(\"Boeing\", \"747\") #Create a Plane object\n",
        "\n",
        "for x in (car1, boat1, plane1):\n",
        "  print(x.brand)\n",
        "  print(x.model)\n",
        "  x.move()"
      ]
    },
    {
      "cell_type": "markdown",
      "id": "3b766767",
      "metadata": {
        "id": "3b766767"
      },
      "source": [
        "Las clases secundarias heredan las propiedades y métodos de la clase principal.\n",
        "\n",
        "En el ejemplo anterior, puedes ver que la clase \"Car\" está vacía, pero hereda \"brand\", \"model\" y \"move()\" de \"Vehicle\".\n",
        "\n",
        "Las clases \"Boat\" y \"Plane\" también heredan \"brand\", \"model\" y \"move()\" de \"Vehicle\", pero ambas anulan el método \"move()\".\n",
        "\n",
        "Gracias al polimorfismo, podemos ejecutar el mismo método para todas las clases."
      ]
    },
    {
      "cell_type": "markdown",
      "id": "202b7434",
      "metadata": {
        "id": "202b7434"
      },
      "source": [
        "<a name='6'></a>\n",
        "\n",
        "# Ejercicios propuestos\n",
        "[regresar al contenido](#c1)"
      ]
    },
    {
      "cell_type": "markdown",
      "id": "7739c210",
      "metadata": {
        "id": "7739c210"
      },
      "source": [
        "Ejercicios propuestos que involucran polimorfismo y herencia en Python:\n",
        "\n",
        "1. **Figuras geométricas**:\n",
        "   Crea una clase base llamada `Figura` con métodos para calcular el área y el perímetro. Luego, crea clases derivadas como `Círculo`, `Triángulo` y `Rectángulo` que hereden de `Figura` y proporcionen implementaciones específicas para calcular el área y el perímetro de esas figuras.\n",
        "\n",
        "2. **Animales**:\n",
        "   Crea una clase base llamada `Animal` con métodos como `hacer_sonido()`. Luego, crea clases derivadas como `Perro`, `Gato` y `Pájaro` que hereden de `Animal` y proporcionen implementaciones específicas para el método `hacer_sonido()`. Luego, crea instancias de cada animal y llama a sus métodos.\n",
        "\n",
        "3. **Vehículos**:\n",
        "   Crea una clase base llamada `Vehículo` con propiedades como `velocidad` y métodos como `acelerar()`. Luego, crea clases derivadas como `Automóvil`, `Bicicleta` y `Avión` que hereden de `Vehículo` y proporcionen implementaciones específicas para los métodos. Crea instancias de diferentes tipos de vehículos y pruébalos.\n",
        "\n",
        "4. **Empleados**:\n",
        "   Crea una clase base llamada `Empleado` con propiedades como `nombre`, `salario` y métodos como `calcular_salario()`. Luego, crea clases derivadas como `Gerente` y `Trabajador` que hereden de `Empleado` y proporcionen implementaciones específicas para calcular el salario. Crea instancias de diferentes empleados y calcula sus salarios.\n",
        "\n",
        "5. **Banco**:\n",
        "   Crea una clase base llamada `CuentaBancaria` con propiedades como `saldo` y métodos como `depositar()` y `retirar()`. Luego, crea clases derivadas como `CuentaCorriente` y `CuentaAhorro` que hereden de `CuentaBancaria` y proporcionen implementaciones específicas para los métodos. Realiza operaciones de depósito y retiro en diferentes tipos de cuentas.\n",
        "\n",
        "6. **Formas de pago**:\n",
        "   Crea una clase base llamada `FormaDePago` con métodos como `realizar_pago()`. Luego, crea clases derivadas como `TarjetaDeCrédito`, `PayPal` y `TransferenciaBancaria` que hereden de `FormaDePago` y proporcionen implementaciones específicas para realizar pagos. Realiza pagos utilizando diferentes formas de pago.\n",
        "\n",
        "7. **Instrumentos musicales**:\n",
        "   Crea una clase base llamada `InstrumentoMusical` con métodos como `tocar()`. Luego, crea clases derivadas como `Guitarra`, `Piano` y `Violín` que hereden de `InstrumentoMusical` y proporcionen implementaciones específicas para tocar el instrumento. Crea instancias de diferentes instrumentos y haz que suenen.\n",
        "\n",
        "Estos ejercicios te ayudarán a comprender cómo funcionan la herencia y el polimorfismo en Python y cómo puedes utilizarlos en tus programas. ¡Diviértete programando!"
      ]
    }
  ],
  "metadata": {
    "kernelspec": {
      "display_name": "Python 3 (ipykernel)",
      "language": "python",
      "name": "python3"
    },
    "language_info": {
      "codemirror_mode": {
        "name": "ipython",
        "version": 3
      },
      "file_extension": ".py",
      "mimetype": "text/x-python",
      "name": "python",
      "nbconvert_exporter": "python",
      "pygments_lexer": "ipython3",
      "version": "3.9.12"
    },
    "colab": {
      "provenance": [],
      "include_colab_link": true
    }
  },
  "nbformat": 4,
  "nbformat_minor": 5
}