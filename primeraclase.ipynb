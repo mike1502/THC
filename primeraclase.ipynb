{
  "nbformat": 4,
  "nbformat_minor": 0,
  "metadata": {
    "colab": {
      "provenance": [],
      "authorship_tag": "ABX9TyOKgIjJ/vO/TP97gip/pEtf",
      "include_colab_link": true
    },
    "kernelspec": {
      "name": "python3",
      "display_name": "Python 3"
    },
    "language_info": {
      "name": "python"
    }
  },
  "cells": [
    {
      "cell_type": "markdown",
      "metadata": {
        "id": "view-in-github",
        "colab_type": "text"
      },
      "source": [
        "<a href=\"https://colab.research.google.com/github/mike1502/THC/blob/main/primeraclase.ipynb\" target=\"_parent\"><img src=\"https://colab.research.google.com/assets/colab-badge.svg\" alt=\"Open In Colab\"/></a>"
      ]
    },
    {
      "cell_type": "markdown",
      "source": [
        "La ecuación de la **recta es**\n",
        "\n",
        "\\begin{equation}\n",
        "  y=mx+b\n",
        "\\end{equation}\n",
        "\n",
        "m es la pendiente de la *recta*."
      ],
      "metadata": {
        "id": "0j2kgq6Q8Gmy"
      }
    },
    {
      "cell_type": "markdown",
      "source": [
        "# Variables en Python\n",
        "\n",
        "## Introducción"
      ],
      "metadata": {
        "id": "V1wSV1KT8W-p"
      }
    },
    {
      "cell_type": "code",
      "execution_count": null,
      "metadata": {
        "id": "53hpBEEm7t9W"
      },
      "outputs": [],
      "source": []
    }
  ]
}