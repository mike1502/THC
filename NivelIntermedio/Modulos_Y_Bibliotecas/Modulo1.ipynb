{
  "cells": [
    {
      "cell_type": "markdown",
      "metadata": {
        "id": "view-in-github",
        "colab_type": "text"
      },
      "source": [
        "<a href=\"https://colab.research.google.com/github/seismomat/HerramientasComputacionales/blob/main/NivelIntermedio/Modulos_Y_Bibliotecas/Modulo1.ipynb\" target=\"_parent\"><img src=\"https://colab.research.google.com/assets/colab-badge.svg\" alt=\"Open In Colab\"/></a>"
      ]
    },
    {
      "cell_type": "code",
      "execution_count": null,
      "id": "b1a64193",
      "metadata": {
        "id": "b1a64193"
      },
      "outputs": [],
      "source": [
        "class calculadora:\n",
        "\n",
        "\tdef __init__(self):\n",
        "\t\tself.dato1=2\n",
        "\t\tself.dato2=3\n",
        "\t\tself.dato3=3\n",
        "\n",
        "\tdef prueba(self):\n",
        "\t\tprint(self.dato1)\n",
        "\n",
        "\tdef imprimir(self):\n",
        "\t\tprint(self.dato1)\n",
        "\n",
        "\tdef sumar(self):\n",
        "\t\tprint(self.dato1+self.dato2)"
      ]
    },
    {
      "cell_type": "code",
      "execution_count": null,
      "id": "4527010b",
      "metadata": {
        "id": "4527010b"
      },
      "outputs": [],
      "source": []
    }
  ],
  "metadata": {
    "kernelspec": {
      "display_name": "Python 3 (ipykernel)",
      "language": "python",
      "name": "python3"
    },
    "language_info": {
      "codemirror_mode": {
        "name": "ipython",
        "version": 3
      },
      "file_extension": ".py",
      "mimetype": "text/x-python",
      "name": "python",
      "nbconvert_exporter": "python",
      "pygments_lexer": "ipython3",
      "version": "3.9.12"
    },
    "colab": {
      "provenance": [],
      "include_colab_link": true
    }
  },
  "nbformat": 4,
  "nbformat_minor": 5
}