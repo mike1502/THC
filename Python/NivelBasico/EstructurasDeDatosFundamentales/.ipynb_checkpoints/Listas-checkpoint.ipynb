{
 "cells": [
  {
   "cell_type": "markdown",
   "id": "e2f95878",
   "metadata": {
    "colab_type": "text",
    "id": "view-in-github"
   },
   "source": [
    "<a href=\"https://colab.research.google.com/github/seismomat/HerramientasComputacionales/blob/Ivan/Listas.ipynb\" target=\"_parent\"><img src=\"https://colab.research.google.com/assets/colab-badge.svg\" alt=\"Open In Colab\"/></a>"
   ]
  },
  {
   "cell_type": "markdown",
   "id": "0598806e",
   "metadata": {
    "id": "0598806e"
   },
   "source": [
    "<font color=\"Red\" face=\"Comic Sans MS,arial\">\n",
    "  <h1 align=\"center\"><i>Listas </i></h1>\n",
    "  </font>\n",
    "  \n",
    "> Elaborado por: Jesús Iván Coss Calderón. mat_ing_coss@ciencias.unam.mx"
   ]
  },
  {
   "cell_type": "markdown",
   "id": "892493c5",
   "metadata": {
    "id": "892493c5"
   },
   "source": [
    "**Objetivo general**\n",
    "\n",
    "* Aprender los fundamentos de la estructura de datos conocida como listas\n",
    "\n",
    "**Objetivos particulares**\n",
    "\n",
    "* Entender los métodos de la clase list"
   ]
  },
  {
   "cell_type": "markdown",
   "id": "47c27379",
   "metadata": {
    "id": "47c27379"
   },
   "source": [
    "[**Regresa al notebook principal**](https://github.com/seismomat/HerramientasComputacionales/blob/main/TemarioDePython/Temario%20de%20Python.ipynb)"
   ]
  },
  {
   "cell_type": "markdown",
   "id": "bba08db4",
   "metadata": {
    "id": "bba08db4"
   },
   "source": [
    "<a name='c1'></a>\n",
    "\n",
    "## Contenido\n",
    "\n",
    "- [Listas](#1)\n",
    "    - [Declaración](#1-1)\n",
    "    - [Tipo de dato o clase](#1-2)\n",
    "    - [Modificar elementos de una lista](#1-3)\n",
    "    - [Borrar elementos de una lista](#1-4)\n",
    "    - [Método de acceso a elementos](#1-5)\n",
    "    - [Agregar elementos](#1-6)\n",
    "    - [Longitud de la lista](#1-7)\n",
    "- [Ejemplo](#2)\n",
    "- [Tipos de datos en una lista](#3)\n",
    "- [Pasar valores de una lista a un diccionario](#4)\n",
    "- [Utilidad de las listas](#5)\n",
    "- [Ejercicios propuestos](#6)"
   ]
  },
  {
   "cell_type": "markdown",
   "id": "fa9de960",
   "metadata": {
    "id": "fa9de960"
   },
   "source": [
    "<a name='1'></a>\n",
    "\n",
    "# Listas\n",
    "[regresar al contenido](#c1)\n",
    "\n",
    "\n",
    "En Python, las listas son estructuras de datos que te permiten almacenar y organizar múltiples elementos en un orden específico. Puedes agregar, eliminar y modificar elementos en una lista de manera flexible. Las listas son uno de los tipos de datos más utilizados y versátiles en Python\n"
   ]
  },
  {
   "cell_type": "markdown",
   "id": "2523b049",
   "metadata": {
    "id": "2523b049"
   },
   "source": [
    "<a name='1-1'></a>\n",
    "\n",
    "# Declaración\n",
    "[regresar al contenido](#c1)\n",
    "\n",
    "La manera de declarar una lista es la siguiente"
   ]
  },
  {
   "cell_type": "code",
   "execution_count": null,
   "id": "089653d8",
   "metadata": {
    "id": "089653d8"
   },
   "outputs": [],
   "source": [
    "frutas = ['manzana', 'banana', 'naranja', 'kiwi']\n",
    "numeros = [1, 2, 3, 4, 5]\n",
    "mezclada = [1, 'dos', 3.0, True]"
   ]
  },
  {
   "cell_type": "markdown",
   "id": "bf21d662",
   "metadata": {
    "id": "bf21d662"
   },
   "source": [
    "<a name='1-2'></a>\n",
    "\n",
    "# Tipo de dato o clase\n",
    "[regresar al contenido](#c1)\n",
    "\n",
    "Cabe mencionar que la clase de dicha estructura es **list**, como se observa a continuación"
   ]
  },
  {
   "cell_type": "code",
   "execution_count": null,
   "id": "26528169",
   "metadata": {
    "id": "26528169",
    "outputId": "7ff5470a-03b3-43e1-b149-49efcaa68a5a"
   },
   "outputs": [
    {
     "name": "stdout",
     "output_type": "stream",
     "text": [
      "<class 'list'>\n"
     ]
    }
   ],
   "source": [
    "print(type(frutas))"
   ]
  },
  {
   "cell_type": "markdown",
   "id": "c654166f",
   "metadata": {
    "id": "c654166f"
   },
   "source": [
    "<a name='1-3'></a>\n",
    "\n",
    "# Modificar elementos de una lista\n",
    "[regresar al contenido](#c1)\n",
    "\n",
    "Si desea modificar el valor de la lista en un índice específico se hace de la siguiente manera **lista[indice]=nuevo_valor**"
   ]
  },
  {
   "cell_type": "code",
   "execution_count": null,
   "id": "d157b8aa",
   "metadata": {
    "id": "d157b8aa",
    "outputId": "b177d74c-3d58-445b-c910-91a068f03407"
   },
   "outputs": [
    {
     "name": "stdout",
     "output_type": "stream",
     "text": [
      "['manzana', 'pera', 'naranja', 'kiwi']\n"
     ]
    }
   ],
   "source": [
    "frutas[1] = 'pera'\n",
    "print(frutas)  # Imprime ['manzana', 'pera', 'naranja', 'kiwi']\n"
   ]
  },
  {
   "cell_type": "markdown",
   "id": "5cbba2cc",
   "metadata": {
    "id": "5cbba2cc"
   },
   "source": [
    "<a name='1-4'></a>\n",
    "\n",
    "# Borrar elementos de una lista\n",
    "[regresar al contenido](#c1)"
   ]
  },
  {
   "cell_type": "markdown",
   "id": "98b84393",
   "metadata": {
    "id": "98b84393"
   },
   "source": [
    "Si desea borrar el valor de la lista en un índice específico se hace de la siguiente manera **lista.remove(valor)**"
   ]
  },
  {
   "cell_type": "code",
   "execution_count": null,
   "id": "35a93859",
   "metadata": {
    "id": "35a93859",
    "outputId": "b3fa3d64-a887-48c8-ee81-51b2559e7761"
   },
   "outputs": [
    {
     "data": {
      "text/plain": [
       "dict_values(['Hamal', 2.0, 'K2III', 66])"
      ]
     },
     "execution_count": 25,
     "metadata": {},
     "output_type": "execute_result"
    }
   ],
   "source": [
    "frutas.remove('naranja')\n",
    "print(frutas)  # Imprime ['manzana', 'pera', 'kiwi', 'uva']"
   ]
  },
  {
   "cell_type": "markdown",
   "id": "26c3d282",
   "metadata": {
    "id": "26c3d282"
   },
   "source": [
    "<a name='1-5'></a>\n",
    "\n",
    "# Método de acceso a elementos\n",
    "[regresar al contenido](#c1)"
   ]
  },
  {
   "cell_type": "markdown",
   "id": "bac4feeb",
   "metadata": {
    "id": "bac4feeb"
   },
   "source": [
    "La manera para visualizar un elemento específico de la lista es **nombre_lista [indice]**"
   ]
  },
  {
   "cell_type": "code",
   "execution_count": null,
   "id": "a61f04bb",
   "metadata": {
    "id": "a61f04bb",
    "outputId": "b191b3dc-39f4-4725-a887-a7eca594d3c1"
   },
   "outputs": [
    {
     "name": "stdout",
     "output_type": "stream",
     "text": [
      "manzana\n"
     ]
    }
   ],
   "source": [
    "print(frutas[0])  # Imprime 'manzana'"
   ]
  },
  {
   "cell_type": "code",
   "execution_count": null,
   "id": "b2850fab",
   "metadata": {
    "id": "b2850fab",
    "outputId": "15298d7a-c8d9-4db2-c165-c4d09197b553"
   },
   "outputs": [
    {
     "name": "stdout",
     "output_type": "stream",
     "text": [
      "3\n"
     ]
    }
   ],
   "source": [
    "print(numeros[2])  # Imprime 3"
   ]
  },
  {
   "cell_type": "markdown",
   "id": "470c9eb0",
   "metadata": {
    "id": "470c9eb0"
   },
   "source": [
    "<a name='1-6'></a>\n",
    "\n",
    "# Agregar elementos\n",
    "[regresar al contenido](#c1)"
   ]
  },
  {
   "cell_type": "markdown",
   "id": "fbdb1ce0",
   "metadata": {
    "id": "fbdb1ce0"
   },
   "source": [
    "Para agregar una nueva variable se realiza de la siguiente manera **nombre_lista.append(valor_nuevo)**"
   ]
  },
  {
   "cell_type": "code",
   "execution_count": null,
   "id": "1d68d1e7",
   "metadata": {
    "id": "1d68d1e7"
   },
   "outputs": [],
   "source": [
    "frutas.append('uva')"
   ]
  },
  {
   "cell_type": "markdown",
   "id": "2b2deb36",
   "metadata": {
    "id": "2b2deb36"
   },
   "source": [
    "Imprimimos la lista para visualizar que se haya agregado el elemento nuevo."
   ]
  },
  {
   "cell_type": "code",
   "execution_count": null,
   "id": "90a99770",
   "metadata": {
    "id": "90a99770",
    "outputId": "aaf1f20b-92ee-4982-e323-fb8561a8804c"
   },
   "outputs": [
    {
     "name": "stdout",
     "output_type": "stream",
     "text": [
      "['manzana', 'banana', 'naranja', 'kiwi']\n"
     ]
    }
   ],
   "source": [
    "print(frutas)  # Imprime ['manzana', 'pera', 'naranja', 'kiwi', 'uva']"
   ]
  },
  {
   "cell_type": "markdown",
   "id": "b9aded12",
   "metadata": {
    "id": "b9aded12"
   },
   "source": [
    "<a name='1-7'></a>\n",
    "\n",
    "# Longitud de la lista\n",
    "[regresar al contenido](#c1)\n",
    "\n",
    "Para obtener de la longitud de la lista se hace con el método **len**"
   ]
  },
  {
   "cell_type": "code",
   "execution_count": null,
   "id": "9ef38df9",
   "metadata": {
    "id": "9ef38df9",
    "outputId": "e9e678cb-c914-4746-8759-57fa8ddc5014"
   },
   "outputs": [
    {
     "name": "stdout",
     "output_type": "stream",
     "text": [
      "4\n"
     ]
    }
   ],
   "source": [
    "print(len(frutas))  # Imprime 4"
   ]
  },
  {
   "cell_type": "markdown",
   "id": "44fbd2b3",
   "metadata": {
    "id": "44fbd2b3"
   },
   "source": [
    "<a name='2'></a>\n",
    "\n",
    "# Ejemplo\n",
    "[regresar al contenido](#c1)\n",
    "\n",
    "Se puede iterar sobre los elementos de la lista"
   ]
  },
  {
   "cell_type": "code",
   "execution_count": null,
   "id": "c8237473",
   "metadata": {
    "id": "c8237473",
    "outputId": "be662c70-ad8a-4f89-c89f-f1f4e896a5a1"
   },
   "outputs": [
    {
     "name": "stdout",
     "output_type": "stream",
     "text": [
      "manzana\n",
      "pera\n",
      "naranja\n",
      "kiwi\n"
     ]
    }
   ],
   "source": [
    "for fruta in frutas:\n",
    "    print(fruta)"
   ]
  },
  {
   "cell_type": "markdown",
   "id": "98bfec92",
   "metadata": {
    "id": "98bfec92"
   },
   "source": [
    "También se puede utilizar la estructura de control if-elseif-else"
   ]
  },
  {
   "cell_type": "code",
   "execution_count": null,
   "id": "83ad4cb5",
   "metadata": {
    "id": "83ad4cb5",
    "outputId": "54d5d32c-7d35-4eb3-814b-2671369ee5a4"
   },
   "outputs": [
    {
     "name": "stdout",
     "output_type": "stream",
     "text": [
      "Sí, la manzana está en la lista.\n"
     ]
    }
   ],
   "source": [
    "if 'manzana' in frutas:\n",
    "    print('Sí, la manzana está en la lista.')"
   ]
  },
  {
   "cell_type": "markdown",
   "id": "01d6e36c",
   "metadata": {
    "id": "01d6e36c"
   },
   "source": [
    "<a name='3'></a>\n",
    "\n",
    "# Tipos de datos en una lista\n",
    "[regresar al contenido](#c1)\n",
    "\n",
    "En una lista se pueden guardar todo tipo de variables y tipos de datos."
   ]
  },
  {
   "cell_type": "code",
   "execution_count": null,
   "id": "e1d2a9fb",
   "metadata": {
    "id": "e1d2a9fb"
   },
   "outputs": [],
   "source": [
    "thislist = [\n",
    "  \"brand\", \"Ford\",\n",
    "  \"electric\", False,\n",
    "  \"year\", 1964,\n",
    "  \"colors\", [\"red\", \"white\", \"blue\"] ]"
   ]
  },
  {
   "cell_type": "code",
   "execution_count": null,
   "id": "8626a887",
   "metadata": {
    "id": "8626a887",
    "outputId": "7e4a8b12-e6aa-4c41-b0fa-f3bab2f427b5"
   },
   "outputs": [
    {
     "data": {
      "text/plain": [
       "['brand',\n",
       " 'Ford',\n",
       " 'electric',\n",
       " False,\n",
       " 'year',\n",
       " 1964,\n",
       " 'colors',\n",
       " ['red', 'white', 'blue']]"
      ]
     },
     "execution_count": 13,
     "metadata": {},
     "output_type": "execute_result"
    }
   ],
   "source": [
    "thislist"
   ]
  },
  {
   "cell_type": "markdown",
   "id": "68917abf",
   "metadata": {
    "id": "68917abf"
   },
   "source": [
    "<a name='4'></a>\n",
    "\n",
    "# Pasar valores de una lista a un diccionario\n",
    "[regresar al contenido](#c1)"
   ]
  },
  {
   "cell_type": "code",
   "execution_count": null,
   "id": "8eab08a3",
   "metadata": {
    "id": "8eab08a3",
    "outputId": "06e4cb4b-32ef-4e7a-fd1f-1930b4e8aa50"
   },
   "outputs": [
    {
     "name": "stdout",
     "output_type": "stream",
     "text": [
      "[2.7, 2.13, 5.7]\n"
     ]
    }
   ],
   "source": [
    "# Lista de elementos\n",
    "elementos_lista = [\"manzana\", \"banana\", \"naranja\", \"uva\"]\n",
    "\n",
    "# Crear un diccionario vacío\n",
    "diccionario = {}\n",
    "\n",
    "# Llenar el diccionario con elementos de la lista como claves y sus longitudes como valores\n",
    "for elemento in elementos_lista:\n",
    "    diccionario[elemento] = len(elemento)\n",
    "\n",
    "# Mostrar el diccionario resultante\n",
    "print(diccionario)\n"
   ]
  },
  {
   "cell_type": "markdown",
   "id": "06c413ef",
   "metadata": {
    "id": "06c413ef"
   },
   "source": [
    "<a name='5'></a>\n",
    "\n",
    "# Utilidad de las listas\n",
    "[regresar al contenido](#c1)"
   ]
  },
  {
   "cell_type": "code",
   "execution_count": null,
   "id": "2c99d518",
   "metadata": {
    "id": "2c99d518",
    "outputId": "1100cb74-a3b8-4df3-9cbe-110ba9dcbe4b"
   },
   "outputs": [
    {
     "name": "stdout",
     "output_type": "stream",
     "text": [
      "Tareas pendientes:\n",
      "- Comprar víveres\n",
      "- Hacer ejercicio\n",
      "- Leer un libro\n",
      "Tarea completada: Comprar víveres\n",
      "Tareas pendientes restantes:\n",
      "- Hacer ejercicio\n",
      "- Leer un libro\n"
     ]
    }
   ],
   "source": [
    "# Crear una lista de tareas pendientes\n",
    "tareas_pendientes = []\n",
    "\n",
    "# Agregar tareas a la lista\n",
    "tareas_pendientes.append(\"Comprar víveres\")\n",
    "tareas_pendientes.append(\"Hacer ejercicio\")\n",
    "tareas_pendientes.append(\"Leer un libro\")\n",
    "\n",
    "# Mostrar las tareas pendientes\n",
    "print(\"Tareas pendientes:\")\n",
    "for tarea in tareas_pendientes:\n",
    "    print(\"- \" + tarea)\n",
    "\n",
    "# Marcar una tarea como completada\n",
    "tarea_completada = tareas_pendientes.pop(0)\n",
    "print(\"Tarea completada: \" + tarea_completada)\n",
    "\n",
    "# Mostrar las tareas pendientes actualizadas\n",
    "print(\"Tareas pendientes restantes:\")\n",
    "for tarea in tareas_pendientes:\n",
    "    print(\"- \" + tarea)\n"
   ]
  },
  {
   "cell_type": "markdown",
   "id": "90451fc5",
   "metadata": {},
   "source": [
    "<a name='6'></a>\n",
    "\n",
    "# Ejercicios propuestos\n",
    "[regresar al contenido](#c1)"
   ]
  },
  {
   "cell_type": "markdown",
   "id": "d986e8d0",
   "metadata": {},
   "source": [
    "Propuestas de ejercicios para practicar con listas en Python:\n",
    "\n",
    "1. **Suma de Elementos**: Escribe un programa que sume todos los elementos de una lista de números enteros.\n",
    "\n",
    "2. **Promedio de Notas**: Crea un programa que calcule el promedio de una lista de calificaciones.\n",
    "\n",
    "3. **Ordenar una Lista**: Implementa un algoritmo de ordenamiento (como el de burbuja) para ordenar una lista de números en orden ascendente.\n",
    "\n",
    "4. **Eliminar Duplicados**: Escribe una función que tome una lista y elimine los elementos duplicados, dejando solo un ejemplo de cada elemento.\n",
    "\n",
    "5. **Buscar Elemento**: Crea una función que tome una lista y un elemento, y devuelva 'True' si el elemento está en la lista, o 'False' si no lo está.\n",
    "\n",
    "6. **Contar Ocurrencias**: Escribe una función que cuente cuántas veces aparece un elemento específico en una lista.\n",
    "\n",
    "7. **Combinar Listas**: Dadas dos listas, crea una función que las combine en una tercera lista alternando los elementos.\n",
    "\n",
    "8. **Invertir una Lista**: Implementa una función que invierta el orden de los elementos en una lista.\n",
    "\n",
    "9. **Sublistas**: Escribe un programa que verifique si una lista es una sublista de otra lista más grande.\n",
    "\n",
    "10. **Generar Secuencia Fibonacci**: Crea una función que genere una lista con los primeros n números de la secuencia Fibonacci.\n",
    "\n",
    "11. **Palíndromo**: Escribe una función que determine si una palabra o frase es un palíndromo (se lee igual de izquierda a derecha que de derecha a izquierda), ignorando espacios y mayúsculas/minúsculas.\n",
    "\n",
    "12. **Eliminar Elementos Impares**: Escribe un programa que elimine todos los elementos impares de una lista de números.\n",
    "\n",
    "13. **Separar Positivos y Negativos**: Implementa una función que tome una lista de números y devuelva dos listas separadas: una con números positivos y otra con números negativos.\n",
    "\n",
    "14. **Mayor Diferencia**: Crea una función que encuentre el par de números en una lista que tiene la mayor diferencia entre ellos.\n",
    "\n",
    "15. **Rotar Lista**: Escribe una función que tome una lista y un número `n`, y rote la lista hacia la derecha `n` lugares.\n",
    "\n",
    "Estos ejercicios deberían proporcionarte una buena práctica para trabajar con listas en Python y mejorar tus habilidades de programación. ¡Diviértete resolviéndolos!"
   ]
  }
 ],
 "metadata": {
  "colab": {
   "include_colab_link": true,
   "provenance": []
  },
  "kernelspec": {
   "display_name": "Python 3 (ipykernel)",
   "language": "python",
   "name": "python3"
  },
  "language_info": {
   "codemirror_mode": {
    "name": "ipython",
    "version": 3
   },
   "file_extension": ".py",
   "mimetype": "text/x-python",
   "name": "python",
   "nbconvert_exporter": "python",
   "pygments_lexer": "ipython3",
   "version": "3.11.4"
  }
 },
 "nbformat": 4,
 "nbformat_minor": 5
}
