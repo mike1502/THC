{
  "cells": [
    {
      "cell_type": "markdown",
      "metadata": {
        "id": "view-in-github",
        "colab_type": "text"
      },
      "source": [
        "<a href=\"https://colab.research.google.com/github/seismomat/HerramientasComputacionales/blob/main/NivelIntermedio/POO/Clases%20y%20objetos.ipynb\" target=\"_parent\"><img src=\"https://colab.research.google.com/assets/colab-badge.svg\" alt=\"Open In Colab\"/></a>"
      ]
    },
    {
      "cell_type": "markdown",
      "id": "0c4018bd",
      "metadata": {
        "id": "0c4018bd"
      },
      "source": [
        "<font color=\"Red\" face=\"Comic Sans MS,arial\">\n",
        "  <h1 align=\"center\"><i>Clases y objetos </i></h1>\n",
        "  </font>\n",
        "  \n",
        "> Elaborado por: Jesús Iván Coss Calderón. mat_ing_coss@ciencias.unam.mx"
      ]
    },
    {
      "cell_type": "markdown",
      "id": "d572795c",
      "metadata": {
        "id": "d572795c"
      },
      "source": [
        "**Objetivo general**\n",
        "\n",
        "* Aprender los fundamentos de las clases\n",
        "\n",
        "**Objetivos particulares**\n",
        "\n",
        "* Entender la elaboración de métodos"
      ]
    },
    {
      "cell_type": "markdown",
      "id": "001e54d2",
      "metadata": {
        "id": "001e54d2"
      },
      "source": [
        "[**Regresa al notebook principal**](https://github.com/seismomat/HerramientasComputacionales/blob/main/TemarioDePython/Temario%20de%20Python.ipynb)"
      ]
    },
    {
      "cell_type": "markdown",
      "id": "b76ffc8a",
      "metadata": {
        "id": "b76ffc8a"
      },
      "source": [
        "<a name='c1'></a>\n",
        "\n",
        "## Contenido\n",
        "\n",
        "- [Clases](#1)\n",
        "    - [Creando una clase](#1-1)\n",
        "    - [Creando un objeto](#1-2)\n",
        "- [La función __init__()](#2)\n",
        "    - [La función  __str__()](#2-1)\n",
        "- [Métodos en los objetos](#3)\n",
        "- [Parámetro self](#4)\n",
        "    - [Modificando propiedades del objeto](#4-1)\n",
        "    - [Borrando propiedades del objeto](#4-2)\n",
        "    - [Borrando objetos](#4-3)\n",
        "- [Pass](#5)\n",
        "- [Ejercicios propuestos](#6)"
      ]
    },
    {
      "cell_type": "markdown",
      "id": "269975e0",
      "metadata": {
        "id": "269975e0"
      },
      "source": [
        "<a name='1'></a>\n",
        "\n",
        "# Clases\n",
        "[regresar al contenido](#c1)\n",
        "\n",
        "Python es un lenguaje de programación orientado a objetos.\n",
        "\n",
        "Casi todo en Python es un objeto, con sus propiedades y métodos.\n",
        "\n",
        "Una clase es como un constructor de objetos, o un \"plano\" para crear objetos."
      ]
    },
    {
      "cell_type": "markdown",
      "id": "fb9dfa06",
      "metadata": {
        "id": "fb9dfa06"
      },
      "source": [
        "<a name='1-1'></a>\n",
        "\n",
        "# Creando una clase\n",
        "[regresar al contenido](#c1)\n",
        "\n",
        "Para crear una clase, utiliza la palabra clave `class`."
      ]
    },
    {
      "cell_type": "code",
      "execution_count": null,
      "id": "b516f0d1",
      "metadata": {
        "id": "b516f0d1"
      },
      "outputs": [],
      "source": [
        "class MyClass:\n",
        "  x = 5"
      ]
    },
    {
      "cell_type": "markdown",
      "id": "afa98fb0",
      "metadata": {
        "id": "afa98fb0"
      },
      "source": [
        "<a name='1-2'></a>\n",
        "\n",
        "# Creando un objeto\n",
        "[regresar al contenido](#c1)\n",
        "\n",
        "Ahora podemos usar la clase llamada `MyClass` para crear objetos."
      ]
    },
    {
      "cell_type": "code",
      "execution_count": null,
      "id": "82370167",
      "metadata": {
        "id": "82370167",
        "outputId": "2c04ca92-9c5a-4a9e-dafc-5b6ef7055a4e"
      },
      "outputs": [
        {
          "name": "stdout",
          "output_type": "stream",
          "text": [
            "5\n"
          ]
        }
      ],
      "source": [
        "p1 = MyClass()\n",
        "print(p1.x)"
      ]
    },
    {
      "cell_type": "markdown",
      "id": "d003deb7",
      "metadata": {
        "id": "d003deb7"
      },
      "source": [
        "<a name='2'></a>\n",
        "\n",
        "# La función __init__()\n",
        "[regresar al contenido](#c1)\n",
        "\n",
        "Los ejemplos anteriores son clases y objetos en su forma más simple y no son realmente útiles en aplicaciones de la vida real.\n",
        "\n",
        "Para entender el significado de las clases, debemos entender la función incorporada `__init__()`.\n",
        "\n",
        "Todas las clases tienen una función llamada `__init__()`, que siempre se ejecuta cuando se está iniciando la clase.\n",
        "\n",
        "Usa la función `__init__()` para asignar valores a las propiedades del objeto u otras operaciones que sean necesarias cuando se crea el objeto."
      ]
    },
    {
      "cell_type": "code",
      "execution_count": null,
      "id": "a7c7c289",
      "metadata": {
        "id": "a7c7c289",
        "outputId": "189b12a1-085b-40db-9c93-742870e2685b"
      },
      "outputs": [
        {
          "name": "stdout",
          "output_type": "stream",
          "text": [
            "John\n",
            "36\n"
          ]
        }
      ],
      "source": [
        "class Person:\n",
        "  def __init__(self, name, age):\n",
        "    self.name = name\n",
        "    self.age = age\n",
        "\n",
        "p1 = Person(\"John\", 36)\n",
        "\n",
        "print(p1.name)\n",
        "print(p1.age)"
      ]
    },
    {
      "cell_type": "markdown",
      "id": "deebcf82",
      "metadata": {
        "id": "deebcf82"
      },
      "source": [
        "<a name='2-1'></a>\n",
        "\n",
        "# La función  __str__()\n",
        "[regresar al contenido](#c1)\n",
        "\n",
        "La función `__str__()` controla lo que debe devolverse cuando el objeto de la clase se representa como una cadena.\n",
        "\n",
        "Si la función `__str__()` no se establece, se devuelve la representación en cadena predeterminada del objeto."
      ]
    },
    {
      "cell_type": "markdown",
      "id": "df9b8de0",
      "metadata": {
        "id": "df9b8de0"
      },
      "source": [
        "La representación en cadena de un objeto SIN la función `__str__()`:"
      ]
    },
    {
      "cell_type": "code",
      "execution_count": null,
      "id": "d93fec43",
      "metadata": {
        "id": "d93fec43",
        "outputId": "86d718bf-b958-4c56-8ac7-7559ecba0812"
      },
      "outputs": [
        {
          "name": "stdout",
          "output_type": "stream",
          "text": [
            "<__main__.Person object at 0x000002EE28264D00>\n"
          ]
        }
      ],
      "source": [
        "class Person:\n",
        "  def __init__(self, name, age):\n",
        "    self.name = name\n",
        "    self.age = age\n",
        "\n",
        "p1 = Person(\"John\", 36)\n",
        "\n",
        "print(p1)"
      ]
    },
    {
      "cell_type": "markdown",
      "id": "8c2166f2",
      "metadata": {
        "id": "8c2166f2"
      },
      "source": [
        "La representación en cadena de un objeto CON la función `__str__()`:"
      ]
    },
    {
      "cell_type": "code",
      "execution_count": null,
      "id": "af8f92ec",
      "metadata": {
        "id": "af8f92ec",
        "outputId": "a558c566-086b-4f41-d8a4-0611dd88483a"
      },
      "outputs": [
        {
          "name": "stdout",
          "output_type": "stream",
          "text": [
            "John(36)\n"
          ]
        }
      ],
      "source": [
        "class Person:\n",
        "  def __init__(self, name, age):\n",
        "    self.name = name\n",
        "    self.age = age\n",
        "\n",
        "  def __str__(self):\n",
        "    return f\"{self.name}({self.age})\"\n",
        "\n",
        "p1 = Person(\"John\", 36)\n",
        "\n",
        "print(p1)"
      ]
    },
    {
      "cell_type": "code",
      "execution_count": null,
      "id": "c98d152c",
      "metadata": {
        "id": "c98d152c",
        "outputId": "923f5e9a-c43b-47c4-ef5a-666089314ba1"
      },
      "outputs": [
        {
          "name": "stdout",
          "output_type": "stream",
          "text": [
            "Hello my name is John\n"
          ]
        }
      ],
      "source": [
        "class Person:\n",
        "  def __init__(self, name, age):\n",
        "    self.name = name\n",
        "    self.age = age\n",
        "\n",
        "  def myfunc(self):\n",
        "    print(\"Hello my name is \" + self.name)\n",
        "\n",
        "p1 = Person(\"John\", 36)\n",
        "p1.myfunc()"
      ]
    },
    {
      "cell_type": "markdown",
      "id": "334a05cf",
      "metadata": {
        "id": "334a05cf"
      },
      "source": [
        "<a name='3'></a>\n",
        "\n",
        "# Métodos en los objetos\n",
        "[regresar al contenido](#c1)\n",
        "\n",
        "Los objetos también pueden contener métodos. Los métodos en los objetos son funciones que pertenecen al objeto.\n",
        "\n",
        "Creemos un método en la clase `Person` (Persona)."
      ]
    },
    {
      "cell_type": "code",
      "execution_count": null,
      "id": "cdc4fa30",
      "metadata": {
        "id": "cdc4fa30",
        "outputId": "5789ce0d-3022-456e-d103-9116df23ed26"
      },
      "outputs": [
        {
          "name": "stdout",
          "output_type": "stream",
          "text": [
            "Hello my name is John\n"
          ]
        }
      ],
      "source": [
        "class Person:\n",
        "  def __init__(self, name, age):\n",
        "    self.name = name\n",
        "    self.age = age\n",
        "\n",
        "  def myfunc(self):\n",
        "    print(\"Hello my name is \" + self.name)\n",
        "\n",
        "p1 = Person(\"John\", 36)\n",
        "p1.myfunc()"
      ]
    },
    {
      "cell_type": "markdown",
      "id": "93a9312a",
      "metadata": {
        "id": "93a9312a"
      },
      "source": [
        "En la programación orientada a objetos, tanto los atributos como los métodos son miembros de una clase, pero tienen diferentes propósitos y comportamientos:\n",
        "\n",
        "1. **Atributos**: Los atributos son variables que almacenan datos relacionados con el objeto. Representan las características o propiedades del objeto. Los atributos describen el estado de un objeto y son como sustantivos en el lenguaje natural. Por ejemplo, en una clase `Persona`, los atributos podrían ser `nombre`, `edad`, `género`, etc. Los atributos se definen en la clase y se asocian a cada instancia del objeto.\n",
        "\n",
        "2. **Métodos**: Los métodos son funciones que están definidas dentro de una clase y operan en los atributos y datos del objeto. Representan el comportamiento o las acciones que el objeto puede realizar. Los métodos describen lo que el objeto puede hacer y son como verbos en el lenguaje natural. Por ejemplo, en una clase `Coche`, los métodos podrían ser `arrancar()`, `detener()`, `acelerar()`, etc. Los métodos pueden acceder y modificar los atributos del objeto y realizar diversas operaciones.\n"
      ]
    },
    {
      "cell_type": "markdown",
      "id": "20082363",
      "metadata": {
        "id": "20082363"
      },
      "source": [
        "<a name='4'></a>\n",
        "\n",
        "# Parámetro self\n",
        "[regresar al contenido](#c1)\n",
        "\n",
        "El parámetro `self` es una referencia a la instancia actual de la clase y se utiliza para acceder a variables que pertenecen a la clase.\n",
        "\n",
        "No es necesario que se llame `self`, puedes ponerle el nombre que desees, pero debe ser el primer parámetro de cualquier función en la clase:"
      ]
    },
    {
      "cell_type": "code",
      "execution_count": null,
      "id": "8639bf52",
      "metadata": {
        "id": "8639bf52",
        "outputId": "9c884dc9-e680-439c-ef86-bb2ffa488f3b"
      },
      "outputs": [
        {
          "name": "stdout",
          "output_type": "stream",
          "text": [
            "Hello my name is John\n"
          ]
        }
      ],
      "source": [
        "class Person:\n",
        "  def __init__(mysillyobject, name, age):\n",
        "    mysillyobject.name = name\n",
        "    mysillyobject.age = age\n",
        "\n",
        "  def myfunc(abc):\n",
        "    print(\"Hello my name is \" + abc.name)\n",
        "\n",
        "p1 = Person(\"John\", 36)\n",
        "p1.myfunc()"
      ]
    },
    {
      "cell_type": "markdown",
      "id": "7750ab99",
      "metadata": {
        "id": "7750ab99"
      },
      "source": [
        "Puedes utilizar las palabras `mysillyobject` y `abc` en lugar de `self`:"
      ]
    },
    {
      "cell_type": "markdown",
      "id": "79a6e72a",
      "metadata": {
        "id": "79a6e72a"
      },
      "source": [
        "<a name='4-1'></a>\n",
        "\n",
        "# Modificando propiedades del objeto\n",
        "[regresar al contenido](#c1)\n",
        "\n",
        "Puedes modificar las propiedades de los objetos de esta manera:"
      ]
    },
    {
      "cell_type": "code",
      "execution_count": null,
      "id": "3317cd4e",
      "metadata": {
        "id": "3317cd4e",
        "outputId": "9c216462-3501-48ab-fcb5-1bdae7a4a826"
      },
      "outputs": [
        {
          "name": "stdout",
          "output_type": "stream",
          "text": [
            "My age 40\n"
          ]
        }
      ],
      "source": [
        "p1.age = 40\n",
        "print(\"My age \" + str(p1.age))"
      ]
    },
    {
      "cell_type": "markdown",
      "id": "b9e1b3dd",
      "metadata": {
        "id": "b9e1b3dd"
      },
      "source": [
        "<a name='4-2'></a>\n",
        "\n",
        "# Borrando propiedades del objeto\n",
        "[regresar al contenido](#c1)"
      ]
    },
    {
      "cell_type": "code",
      "execution_count": null,
      "id": "6e229cfd",
      "metadata": {
        "id": "6e229cfd"
      },
      "outputs": [],
      "source": [
        "del p1.age"
      ]
    },
    {
      "cell_type": "markdown",
      "id": "adc38908",
      "metadata": {
        "id": "adc38908"
      },
      "source": [
        "<a name='4-3'></a>\n",
        "\n",
        "# Borrando objetos\n",
        "[regresar al contenido](#c1)"
      ]
    },
    {
      "cell_type": "code",
      "execution_count": null,
      "id": "cf2934a6",
      "metadata": {
        "id": "cf2934a6",
        "outputId": "544150ce-8a9a-4cbf-b6b2-161b4bbd6ee8"
      },
      "outputs": [
        {
          "ename": "NameError",
          "evalue": "name 'p1' is not defined",
          "output_type": "error",
          "traceback": [
            "\u001b[1;31m---------------------------------------------------------------------------\u001b[0m",
            "\u001b[1;31mNameError\u001b[0m                                 Traceback (most recent call last)",
            "Input \u001b[1;32mIn [16]\u001b[0m, in \u001b[0;36m<cell line: 1>\u001b[1;34m()\u001b[0m\n\u001b[1;32m----> 1\u001b[0m \u001b[38;5;28;01mdel\u001b[39;00m p1\n",
            "\u001b[1;31mNameError\u001b[0m: name 'p1' is not defined"
          ]
        }
      ],
      "source": [
        "del p1"
      ]
    },
    {
      "cell_type": "markdown",
      "id": "202b7434",
      "metadata": {
        "id": "202b7434"
      },
      "source": [
        "<a name='5'></a>\n",
        "\n",
        "# Pass\n",
        "[regresar al contenido](#c1)"
      ]
    },
    {
      "cell_type": "code",
      "execution_count": null,
      "id": "ef5b266e",
      "metadata": {
        "id": "ef5b266e"
      },
      "outputs": [],
      "source": [
        "class Person:\n",
        "  pass"
      ]
    },
    {
      "cell_type": "markdown",
      "id": "51b66dcb",
      "metadata": {
        "id": "51b66dcb"
      },
      "source": [
        "<a name='6'></a>\n",
        "\n",
        "# Ejercicios propuestos\n",
        "[regresar al contenido](#c1)"
      ]
    },
    {
      "cell_type": "markdown",
      "id": "0c82d23c",
      "metadata": {
        "id": "0c82d23c"
      },
      "source": [
        "Ejercicios propuestos para practicar la creación de clases y la elaboración de métodos en Python:\n",
        "\n",
        "1. **Clase Calculadora**:\n",
        "   Crea una clase llamada `Calculadora` que tenga métodos para realizar operaciones matemáticas básicas como suma, resta, multiplicación y división. Luego, crea instancias de esta clase y utiliza los métodos para realizar cálculos.\n",
        "\n",
        "2. **Clase Contacto**:\n",
        "   Crea una clase llamada `Contacto` que represente la información de contacto de una persona, incluyendo nombre, dirección de correo electrónico y número de teléfono. Agrega métodos para mostrar y actualizar esta información.\n",
        "\n",
        "3. **Clase Libro**:\n",
        "   Crea una clase llamada `Libro` que tenga propiedades como título, autor y año de publicación. Agrega métodos para mostrar la información del libro y actualizarla si es necesario.\n",
        "\n",
        "4. **Clase Estudiante**:\n",
        "   Crea una clase llamada `Estudiante` que represente a un estudiante con propiedades como nombre, edad y calificaciones. Agrega un método para calcular el promedio de calificaciones del estudiante.\n",
        "\n",
        "5. **Clase Tienda**:\n",
        "   Crea una clase llamada `Tienda` que represente una tienda en línea con productos y precios. Agrega métodos para agregar productos al carrito de compras, calcular el total de la compra y realizar el pago.\n",
        "\n",
        "6. **Clase Figura Geométrica**:\n",
        "   Crea una clase llamada `FiguraGeometrica` que tenga propiedades como tipo de figura y dimensiones (por ejemplo, radio, base, altura). Agrega métodos para calcular el área y el perímetro de la figura, y crea subclases como `Círculo` y `Triángulo` que hereden de `FiguraGeometrica` y proporcionen implementaciones específicas para los cálculos.\n",
        "\n",
        "7. **Clase Red Social**:\n",
        "   Crea una clase llamada `RedSocial` que represente una red social con perfiles de usuario. Agrega métodos para agregar amigos, publicar mensajes y ver el feed de noticias.\n",
        "\n",
        "8. **Clase Banco**:\n",
        "   Crea una clase llamada `Banco` que represente un banco con cuentas de usuario. Agrega métodos para crear cuentas, realizar depósitos y retiros, y consultar saldos.\n",
        "\n",
        "9. **Clase Coche**:\n",
        "   Crea una clase llamada `Coche` que represente un automóvil con propiedades como marca, modelo y velocidad. Agrega métodos para acelerar, frenar y mostrar la información del coche.\n",
        "\n",
        "10. **Clase Película**:\n",
        "    Crea una clase llamada `Película` que represente una película con propiedades como título, director y duración. Agrega métodos para mostrar la información de la película y calcular su valoración promedio.\n",
        "\n",
        "Estos ejercicios te ayudarán a practicar la creación de clases y la elaboración de métodos en Python. Puedes empezar con ejercicios más simples y luego avanzar hacia los más complejos a medida que adquieras más experiencia. ¡Diviértete programando!"
      ]
    }
  ],
  "metadata": {
    "kernelspec": {
      "display_name": "Python 3 (ipykernel)",
      "language": "python",
      "name": "python3"
    },
    "language_info": {
      "codemirror_mode": {
        "name": "ipython",
        "version": 3
      },
      "file_extension": ".py",
      "mimetype": "text/x-python",
      "name": "python",
      "nbconvert_exporter": "python",
      "pygments_lexer": "ipython3",
      "version": "3.9.12"
    },
    "colab": {
      "provenance": [],
      "include_colab_link": true
    }
  },
  "nbformat": 4,
  "nbformat_minor": 5
}