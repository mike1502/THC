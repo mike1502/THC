{
 "cells": [
  {
   "cell_type": "markdown",
   "metadata": {},
   "source": [
    "<font color=\"Teal\" face=\"Comic Sans MS,arial\">\n",
    "  <h1 align=\"center\"><i> Operadores ariméticos y de comparación</i></h1>\n",
    "  </font>\n",
    "  \n",
    "> Elaborado por: Jesús Iván Coss Calderón. mat_ing_coss@ciencias.unam.mx"
   ]
  },
  {
   "cell_type": "markdown",
   "metadata": {},
   "source": [
    "**Objetivo general**\n",
    "\n",
    "* Aprender los fundamentos del lenguaje de programación python.\n",
    "\n",
    "**Objetivos particulares**\n",
    "\n",
    "* Que el estudiante aprenda los principios básicos de la programación estructurada y orientada a objetos"
   ]
  },
  {
   "cell_type": "markdown",
   "metadata": {},
   "source": [
    "[**Regresa al notebook principal**](https://github.com/seismomat/HerramientasComputacionales/blob/main/TemarioDePython/Temario%20de%20Python.ipynb)"
   ]
  },
  {
   "cell_type": "markdown",
   "metadata": {},
   "source": [
    "<a name='c1'></a>\n",
    "\n",
    "## Contenido\n",
    "\n",
    "- [Operadores aritméticos](#1)\n",
    "    - [Suma](#1-1)\n",
    "    - [Resta](#1-2)\n",
    "    - [Multiplicación](#1-3)\n",
    "    - [División](#1-4)\n",
    "    - [División Entera](#1-5)\n",
    "    - [Módulo](#1-6)\n",
    "    - [Potencia](#1-7)\n",
    "- [Tipos de datos](#2)\n",
    "    - [Complejos](#2-1)\n",
    "- [Casteo de variables](#3)\n",
    "- [Comparaciones](#4)\n",
    "- [Funciones predefinidas](#5)"
   ]
  },
  {
   "cell_type": "markdown",
   "metadata": {},
   "source": [
    "<a name='1'></a>\n",
    "\n",
    "# Operadores ariméticos\n",
    "[regresar al contenido](#c1)\n",
    "\n",
    "\n",
    "En python se tienen las operaciones elementales del arimética, la suma, la multiplicación y división, las cuales podemos calcular de la siguiente manera.\n"
   ]
  },
  {
   "cell_type": "markdown",
   "metadata": {},
   "source": [
    "<a name='1-1'></a>\n",
    "\n",
    "# Suma\n",
    "[regresar al contenido](#c1)\n",
    "\n",
    "Suma (+): Suma dos valores."
   ]
  },
  {
   "cell_type": "code",
   "execution_count": 2,
   "metadata": {},
   "outputs": [
    {
     "data": {
      "text/plain": [
       "8"
      ]
     },
     "execution_count": 2,
     "metadata": {},
     "output_type": "execute_result"
    }
   ],
   "source": [
    "resultado = 5 + 3  # resultado es 8\n",
    "resultado"
   ]
  },
  {
   "cell_type": "markdown",
   "metadata": {},
   "source": [
    "<a name='1-2'></a>\n",
    "\n",
    "# Resta\n",
    "[regresar al contenido](#c1)\n",
    "\n",
    "Resta (-): Resta el segundo valor del primero"
   ]
  },
  {
   "cell_type": "code",
   "execution_count": 11,
   "metadata": {},
   "outputs": [
    {
     "data": {
      "text/plain": [
       "6"
      ]
     },
     "execution_count": 11,
     "metadata": {},
     "output_type": "execute_result"
    }
   ],
   "source": [
    "resultado = 10 - 4  # resultado es 6\n",
    "resultado"
   ]
  },
  {
   "cell_type": "markdown",
   "metadata": {},
   "source": [
    "<a name='1-3'></a>\n",
    "\n",
    "# Multiplicación\n",
    "[regresar al contenido](#c1)\n",
    "\n",
    "Multiplicación (*): Multiplica dos valores"
   ]
  },
  {
   "cell_type": "code",
   "execution_count": 12,
   "metadata": {},
   "outputs": [
    {
     "data": {
      "text/plain": [
       "21"
      ]
     },
     "execution_count": 12,
     "metadata": {},
     "output_type": "execute_result"
    }
   ],
   "source": [
    "resultado = 3 * 7  # resultado es 21\n",
    "resultado"
   ]
  },
  {
   "cell_type": "markdown",
   "metadata": {},
   "source": [
    "<a name='1-4'></a>\n",
    "\n",
    "# División\n",
    "[regresar al contenido](#c1)\n",
    "\n",
    "División (/): Divide el primer valor por el segundo. Siempre produce un resultado de punto flotante"
   ]
  },
  {
   "cell_type": "code",
   "execution_count": 13,
   "metadata": {},
   "outputs": [
    {
     "data": {
      "text/plain": [
       "5.0"
      ]
     },
     "execution_count": 13,
     "metadata": {},
     "output_type": "execute_result"
    }
   ],
   "source": [
    "resultado = 15 / 3  # resultado es 5.0\n",
    "resultado"
   ]
  },
  {
   "cell_type": "markdown",
   "metadata": {},
   "source": [
    "<a name='1-5'></a>\n",
    "\n",
    "# División Entera\n",
    "[regresar al contenido](#c1)\n",
    "\n",
    "División Entera (//): Divide el primer valor por el segundo y redondea el resultado hacia abajo al número entero más cercano."
   ]
  },
  {
   "cell_type": "code",
   "execution_count": 14,
   "metadata": {},
   "outputs": [
    {
     "data": {
      "text/plain": [
       "3"
      ]
     },
     "execution_count": 14,
     "metadata": {},
     "output_type": "execute_result"
    }
   ],
   "source": [
    "resultado = 15 // 4  # resultado es 3\n",
    "resultado"
   ]
  },
  {
   "cell_type": "markdown",
   "metadata": {},
   "source": [
    "<a name='1-6'></a>\n",
    "\n",
    "# Módulo\n",
    "[regresar al contenido](#c1)\n",
    "\n",
    "Módulo (%): Devuelve el residuo de la división del primer valor por el segundo."
   ]
  },
  {
   "cell_type": "code",
   "execution_count": 15,
   "metadata": {},
   "outputs": [
    {
     "data": {
      "text/plain": [
       "3"
      ]
     },
     "execution_count": 15,
     "metadata": {},
     "output_type": "execute_result"
    }
   ],
   "source": [
    "resultado = 15 % 4  # resultado es 3\n",
    "resultado"
   ]
  },
  {
   "cell_type": "markdown",
   "metadata": {},
   "source": [
    "<a name='1-7'></a>\n",
    "\n",
    "# Potencia\n",
    "[regresar al contenido](#c1)\n",
    "\n",
    "Potencia ():** Eleva el primer valor a la potencia del segundo valor."
   ]
  },
  {
   "cell_type": "code",
   "execution_count": 16,
   "metadata": {},
   "outputs": [
    {
     "data": {
      "text/plain": [
       "8"
      ]
     },
     "execution_count": 16,
     "metadata": {},
     "output_type": "execute_result"
    }
   ],
   "source": [
    "resultado = 2 ** 3  # resultado es 8\n",
    "resultado"
   ]
  },
  {
   "cell_type": "markdown",
   "metadata": {},
   "source": [
    "<a name='2'></a>\n",
    "\n",
    "# Tipos de datos\n",
    "[regresar al contenido](#c1)\n",
    "\n",
    "En los lenguajes de programación, se tiene de manera estándar cuatro tipos de variable: entero, flotante, caracter y boleano"
   ]
  },
  {
   "cell_type": "code",
   "execution_count": 38,
   "metadata": {},
   "outputs": [
    {
     "name": "stdout",
     "output_type": "stream",
     "text": [
      "el tipo de dato de 5 es <class 'int'>\n",
      "el tipo de dato de 5.000000 es  <class 'float'>\n",
      "el tipo de dato de 5 es <class 'str'>\n",
      "el tipo de dato de True es <class 'bool'>\n"
     ]
    }
   ],
   "source": [
    "entero=5\n",
    "print('el tipo de dato de %d es %s'%(entero,type(5)))\n",
    "flotante=5.0\n",
    "print('el tipo de dato de %f es  %s'%(flotante,type(5.0)))\n",
    "cadena=\"5\"\n",
    "print('el tipo de dato de %s es %s'%(cadena,type(\"5\")))\n",
    "boleano=True\n",
    "print(\"el tipo de dato de %r es %s\"%(boleano,type(True)))"
   ]
  },
  {
   "cell_type": "markdown",
   "metadata": {},
   "source": [
    "<a name='2-1'></a>\n",
    "\n",
    "# Complejos\n",
    "[regresar al contenido](#c1)"
   ]
  },
  {
   "cell_type": "markdown",
   "metadata": {},
   "source": [
    "Un dato muy usado es aquél que representa al número complejo, el cual se declara de la siguiente manera:"
   ]
  },
  {
   "cell_type": "code",
   "execution_count": 44,
   "metadata": {},
   "outputs": [
    {
     "data": {
      "text/plain": [
       "complex"
      ]
     },
     "execution_count": 44,
     "metadata": {},
     "output_type": "execute_result"
    }
   ],
   "source": [
    "complejo = 1.2 + 5.0j\n",
    "type(complejo)"
   ]
  },
  {
   "cell_type": "markdown",
   "metadata": {},
   "source": [
    "<a name='3'></a>\n",
    "\n",
    "# Casteo de variables\n",
    "[regresar al contenido](#c1)\n",
    "\n",
    "En ocasiones cuando nos encontramos programando necesitamos realizar una pequeña transformación a la variables para poder operarlas con el criterio que necesitemos, el casteo es dicha transformación y para cada variable se hace de manera diferente, a continuación se muestran los comandos en python para castear variables."
   ]
  },
  {
   "cell_type": "code",
   "execution_count": 6,
   "metadata": {},
   "outputs": [
    {
     "name": "stdout",
     "output_type": "stream",
     "text": [
      " de flotante 2.579000 a entero 2 \n",
      "\n",
      " de entero 2 a flotante 2.000000 \n",
      "\n",
      " de flotante 2.500000 a cadena 2.5 \n",
      "\n",
      " de cadena 5 a flotante 5.000000  \n",
      "\n"
     ]
    }
   ],
   "source": [
    "print(\" de flotante %f a entero %d \\n\"%(2.579,int(2.579)))\n",
    "\n",
    "print(\" de entero %d a flotante %f \\n\"%(2,float(2)))\n",
    "\n",
    "print(\" de flotante %f a cadena %s \\n\"%(2.5,str(2.5)))\n",
    "\n",
    "print(\" de cadena %s a flotante %f  \\n\"%(\"5\",float(\"5\")))"
   ]
  },
  {
   "cell_type": "markdown",
   "metadata": {},
   "source": [
    "<a name='4'></a>\n",
    "\n",
    "# Comparaciones\n",
    "[regresar al contenido](#c1)\n",
    "\n",
    "En python, al igual que en otros lenguajes se tiene la manera de comparar dos números, arrays, a continuación se presenta un tabla con los comparativos.\n",
    "\n",
    "| Operación. | Símbolo. |\n",
    "| :-:  | :-: |\n",
    "Igual a (comparación)| == |\n",
    "Distinto de (comparación)| != o <>|\n",
    "Mayor que, Menor que| >, <|\n",
    "Mayor o igual, Menor o igual| >=, =<|\n",
    "y, o |and, or|\n",
    "cierto, falso| True,False|\n",
    "\n",
    "En el siguiente fragmento de código se compara si el número 8 es mayor a 5."
   ]
  },
  {
   "cell_type": "code",
   "execution_count": 45,
   "metadata": {},
   "outputs": [
    {
     "name": "stdout",
     "output_type": "stream",
     "text": [
      "True\n"
     ]
    }
   ],
   "source": [
    "resultado = 8 > 5\n",
    "print(resultado)"
   ]
  },
  {
   "cell_type": "markdown",
   "metadata": {},
   "source": [
    "En el siguiente bloque se añade el operador lógico \" or \"  se cumple cuando alguna de las proposiciones es verdadera, también se hacen comparaciones de mayor que en el siguiente renglón."
   ]
  },
  {
   "cell_type": "code",
   "execution_count": 46,
   "metadata": {},
   "outputs": [
    {
     "name": "stdout",
     "output_type": "stream",
     "text": [
      "True\n"
     ]
    }
   ],
   "source": [
    "resultado = (4 > 8) or (3 > 2)\n",
    "print(resultado)"
   ]
  },
  {
   "cell_type": "markdown",
   "metadata": {},
   "source": [
    "El operador lógico \" and \" se cumple cuando ambas condiciones son verdaderas."
   ]
  },
  {
   "cell_type": "code",
   "execution_count": 47,
   "metadata": {},
   "outputs": [
    {
     "name": "stdout",
     "output_type": "stream",
     "text": [
      "False\n"
     ]
    }
   ],
   "source": [
    "resultado = True and False\n",
    "print(resultado)"
   ]
  },
  {
   "cell_type": "code",
   "execution_count": 48,
   "metadata": {},
   "outputs": [
    {
     "name": "stdout",
     "output_type": "stream",
     "text": [
      "False\n"
     ]
    }
   ],
   "source": [
    "resultado = (4 > 8) and (3 > 2)\n",
    "print(resultado)"
   ]
  },
  {
   "cell_type": "markdown",
   "metadata": {},
   "source": [
    "El comparativo \" != \" denota que dos valores son distintos."
   ]
  },
  {
   "cell_type": "code",
   "execution_count": 49,
   "metadata": {},
   "outputs": [
    {
     "name": "stdout",
     "output_type": "stream",
     "text": [
      "True\n"
     ]
    }
   ],
   "source": [
    "resultado= (5!=1)\n",
    "print(resultado)"
   ]
  },
  {
   "cell_type": "markdown",
   "metadata": {},
   "source": [
    "Por último el comparativo de igualdad de denota \" == \""
   ]
  },
  {
   "cell_type": "code",
   "execution_count": 51,
   "metadata": {},
   "outputs": [
    {
     "name": "stdout",
     "output_type": "stream",
     "text": [
      "True\n"
     ]
    }
   ],
   "source": [
    "resultado= (5==round(5.2))\n",
    "print(resultado)"
   ]
  },
  {
   "cell_type": "markdown",
   "metadata": {},
   "source": [
    "<a name='5'></a>\n",
    "\n",
    "# Funciones predefinidas\n",
    "[regresar al contenido](#c1)"
   ]
  },
  {
   "cell_type": "code",
   "execution_count": 8,
   "metadata": {},
   "outputs": [
    {
     "data": {
      "text/plain": [
       "3"
      ]
     },
     "execution_count": 8,
     "metadata": {},
     "output_type": "execute_result"
    }
   ],
   "source": [
    "abs(-3) # saca el valor absoluto"
   ]
  },
  {
   "cell_type": "code",
   "execution_count": 9,
   "metadata": {},
   "outputs": [
    {
     "data": {
      "text/plain": [
       "2.15"
      ]
     },
     "execution_count": 9,
     "metadata": {},
     "output_type": "execute_result"
    }
   ],
   "source": [
    "round(2.1451, 2) # redondea a dos decimales"
   ]
  },
  {
   "cell_type": "code",
   "execution_count": 13,
   "metadata": {},
   "outputs": [
    {
     "data": {
      "text/plain": [
       "'Hola clase'"
      ]
     },
     "execution_count": 13,
     "metadata": {},
     "output_type": "execute_result"
    }
   ],
   "source": [
    "\"Hola\" + \" \" + \"clase\" # sumar cadenas es concatenarlas."
   ]
  },
  {
   "cell_type": "code",
   "execution_count": 16,
   "metadata": {},
   "outputs": [
    {
     "name": "stdout",
     "output_type": "stream",
     "text": [
      "Hola clase\n"
     ]
    }
   ],
   "source": [
    "print(\"Hola clase\") # aqui se muestra la concatenación"
   ]
  }
 ],
 "metadata": {
  "kernelspec": {
   "display_name": "Python 3 (ipykernel)",
   "language": "python",
   "name": "python3"
  },
  "language_info": {
   "codemirror_mode": {
    "name": "ipython",
    "version": 3
   },
   "file_extension": ".py",
   "mimetype": "text/x-python",
   "name": "python",
   "nbconvert_exporter": "python",
   "pygments_lexer": "ipython3",
   "version": "3.11.4"
  }
 },
 "nbformat": 4,
 "nbformat_minor": 4
}
