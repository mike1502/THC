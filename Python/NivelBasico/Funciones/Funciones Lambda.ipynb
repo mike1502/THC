{
  "cells": [
    {
      "cell_type": "markdown",
      "metadata": {
        "id": "view-in-github",
        "colab_type": "text"
      },
      "source": [
        "<a href=\"https://colab.research.google.com/github/seismomat/HerramientasComputacionales/blob/Ivan/NivelBasico/Funciones/Funciones%20Lambda.ipynb\" target=\"_parent\"><img src=\"https://colab.research.google.com/assets/colab-badge.svg\" alt=\"Open In Colab\"/></a>"
      ]
    },
    {
      "cell_type": "markdown",
      "id": "eea26030-2312-4db5-8c4a-23c7823382fe",
      "metadata": {
        "id": "eea26030-2312-4db5-8c4a-23c7823382fe"
      },
      "source": [
        "<font color=\"Red\" face=\"Comic Sans MS,arial\">\n",
        "  <h1 align=\"center\"><i>Funciones Lambda </i></h1>\n",
        "  </font>\n",
        "  \n",
        "> Elaborado por: Jesús Iván Coss Calderón. mat_ing_coss@ciencias.unam.mx"
      ]
    },
    {
      "cell_type": "markdown",
      "id": "d572795c",
      "metadata": {
        "id": "d572795c"
      },
      "source": [
        "**Objetivo general**\n",
        "\n",
        "* Aprender los fundamentos de la declaración de funciones lambda\n",
        "\n",
        "**Objetivos particulares**\n",
        "\n",
        "* Entender la elaboración de funciones lambda"
      ]
    },
    {
      "cell_type": "markdown",
      "id": "001e54d2",
      "metadata": {
        "id": "001e54d2"
      },
      "source": [
        "[**Regresa al notebook principal**](https://github.com/seismomat/HerramientasComputacionales/blob/main/Sintaxis%2Ccomentarios%2CTiposDeDatos.ipynb)"
      ]
    },
    {
      "cell_type": "markdown",
      "id": "b76ffc8a",
      "metadata": {
        "id": "b76ffc8a"
      },
      "source": [
        "<a name='c1'></a>\n",
        "\n",
        "## Contenido\n",
        "\n",
        "- [Funciones lambda](#1)\n",
        "    - [Declaración](#1-1)\n",
        "- [¿Por qué funciones lambda?](#2)\n",
        "- [Ejercicios propuestos](#3)"
      ]
    },
    {
      "cell_type": "markdown",
      "id": "269975e0",
      "metadata": {
        "id": "269975e0"
      },
      "source": [
        "<a name='1'></a>\n",
        "\n",
        "# Funciones lambda\n",
        "[regresar al contenido](#c1)\n",
        "\n",
        "Una función lambda es una pequeña función anónima.\n",
        "\n",
        "Una función lambda puede tomar cualquier número de argumentos, pero solo puede tener una expresión."
      ]
    },
    {
      "cell_type": "markdown",
      "id": "fb9dfa06",
      "metadata": {
        "id": "fb9dfa06"
      },
      "source": [
        "<a name='1-1'></a>\n",
        "\n",
        "## Declaración\n",
        "[regresar al contenido](#c1)\n",
        "\n",
        "La funciones lambda se declaran de la siguiente manera: `lambda argumentos : expresión`"
      ]
    },
    {
      "cell_type": "code",
      "execution_count": null,
      "id": "b516f0d1",
      "metadata": {
        "id": "b516f0d1",
        "outputId": "6f4b9e01-76dd-4d62-fab5-d9937ee3b973"
      },
      "outputs": [
        {
          "name": "stdout",
          "output_type": "stream",
          "text": [
            "15\n"
          ]
        }
      ],
      "source": [
        "x = lambda a : a + 10\n",
        "print(x(5))"
      ]
    },
    {
      "cell_type": "markdown",
      "id": "1e1300e6-d20f-43da-b0bf-cdaf3873e4dc",
      "metadata": {
        "id": "1e1300e6-d20f-43da-b0bf-cdaf3873e4dc"
      },
      "source": [
        "También les podemos pasar más de dos argumentos"
      ]
    },
    {
      "cell_type": "code",
      "execution_count": null,
      "id": "1ff15207-e7ff-4453-b988-faf6887374d2",
      "metadata": {
        "id": "1ff15207-e7ff-4453-b988-faf6887374d2",
        "outputId": "54e95cb3-6e73-4d09-f595-70990ab43303"
      },
      "outputs": [
        {
          "name": "stdout",
          "output_type": "stream",
          "text": [
            "30\n"
          ]
        }
      ],
      "source": [
        "x = lambda a, b : a * b\n",
        "print(x(5, 6))"
      ]
    },
    {
      "cell_type": "code",
      "execution_count": null,
      "id": "5a690ae3-71dd-458c-a3c6-6fa06ca3a9b8",
      "metadata": {
        "id": "5a690ae3-71dd-458c-a3c6-6fa06ca3a9b8",
        "outputId": "4ddfce98-24b6-434e-bf5c-280a7a9cc3d1"
      },
      "outputs": [
        {
          "name": "stdout",
          "output_type": "stream",
          "text": [
            "13\n"
          ]
        }
      ],
      "source": [
        "x = lambda a, b, c : a + b + c\n",
        "print(x(5, 6, 2))"
      ]
    },
    {
      "cell_type": "markdown",
      "id": "d003deb7",
      "metadata": {
        "id": "d003deb7"
      },
      "source": [
        "<a name='2'></a>\n",
        "\n",
        "# ¿Por qué funciones lambda?\n",
        "[regresar al contenido](#c1)"
      ]
    },
    {
      "cell_type": "markdown",
      "id": "52d6e80c-a7b3-458b-8cd5-229907d3aef2",
      "metadata": {
        "id": "52d6e80c-a7b3-458b-8cd5-229907d3aef2"
      },
      "source": [
        "El poder de la función lambda se muestra mejor cuando las usas como una función anónima dentro de otra función.\n",
        "\n",
        "Digamos que tienes una definición de función que toma un argumento, y ese argumento será multiplicado por un número desconocido."
      ]
    },
    {
      "cell_type": "code",
      "execution_count": null,
      "id": "27c06062-0e3b-4dd5-88a4-29b5784fdb9c",
      "metadata": {
        "id": "27c06062-0e3b-4dd5-88a4-29b5784fdb9c"
      },
      "outputs": [],
      "source": [
        "def mifunc(n):\n",
        "  return lambda a : a * n"
      ]
    },
    {
      "cell_type": "code",
      "execution_count": null,
      "id": "ffba3cb6-1f9a-4025-b46a-45791a848c56",
      "metadata": {
        "id": "ffba3cb6-1f9a-4025-b46a-45791a848c56",
        "outputId": "90a75e8e-e431-4131-b2b4-3d0cfcedab73"
      },
      "outputs": [
        {
          "name": "stdout",
          "output_type": "stream",
          "text": [
            "22\n"
          ]
        }
      ],
      "source": [
        "midoble = mifunc(2)\n",
        "\n",
        "print(midoble(11))"
      ]
    },
    {
      "cell_type": "markdown",
      "id": "5ed1d17d-06a7-447d-be7b-c09627ab06a1",
      "metadata": {
        "id": "5ed1d17d-06a7-447d-be7b-c09627ab06a1"
      },
      "source": [
        "La función anterior siempre duplique el número que envías."
      ]
    },
    {
      "cell_type": "code",
      "execution_count": null,
      "id": "8275b2b5-5e0a-45d6-8f18-017268ab955f",
      "metadata": {
        "id": "8275b2b5-5e0a-45d6-8f18-017268ab955f",
        "outputId": "e8b650e9-e159-4108-faa1-543321444fde"
      },
      "outputs": [
        {
          "name": "stdout",
          "output_type": "stream",
          "text": [
            "22\n",
            "33\n"
          ]
        }
      ],
      "source": [
        "def mifunc(n):\n",
        "  return lambda a : a * n\n",
        "\n",
        "MiDoble = mifunc(2)\n",
        "MiTriple = mifunc(3)\n",
        "\n",
        "print(MiDoble(11))\n",
        "print(MiTriple(11))"
      ]
    },
    {
      "cell_type": "markdown",
      "id": "202b7434",
      "metadata": {
        "id": "202b7434"
      },
      "source": [
        "<a name='3'></a>\n",
        "\n",
        "# Ejercicios propuestos\n",
        "[regresar al contenido](#c1)"
      ]
    },
    {
      "cell_type": "markdown",
      "id": "7739c210",
      "metadata": {
        "id": "7739c210"
      },
      "source": [
        "Ejercicios propuestos que puedes resolver utilizando funciones lambda en Python:\n",
        "\n",
        "1. **Calculadora de Operaciones Básicas:**\n",
        "Crea una calculadora que acepte dos números y una operación (suma, resta, multiplicación, división) como entrada y use funciones lambda para realizar la operación deseada.\n",
        "\n",
        "2. **Ordenar una Lista de Tuplas:**\n",
        "Dada una lista de tuplas, donde cada tupla contiene un nombre y una edad, ordena la lista de acuerdo a la edad utilizando una función lambda como clave de ordenamiento.\n",
        "\n",
        "3. **Filtrar Números Pares:**\n",
        "Dada una lista de números, filtra solo los números pares utilizando una función lambda y la función `filter()`.\n",
        "\n",
        "4. **Cálculo de Impuestos:**\n",
        "Escribe un programa que calcule el impuesto sobre el salario de una persona. Usa una función lambda para calcular el impuesto basado en el ingreso ingresado.\n",
        "\n",
        "5. **Combinar Dos Listas:**\n",
        "Dadas dos listas de números, crea una nueva lista que contenga la suma de los elementos correspondientes en las dos listas utilizando una función lambda y la función `map()`.\n",
        "\n",
        "6. **Contador de Palabras:**\n",
        "Escribe una función que tome una lista de cadenas y devuelva la longitud de cada cadena utilizando una función lambda y la función `map()`.\n",
        "\n",
        "7. **Validador de Contraseña:**\n",
        "Crea una función que valide si una contraseña es segura. Una contraseña se considera segura si tiene al menos 8 caracteres y contiene al menos un número y un carácter especial. Usa funciones lambda para verificar las condiciones.\n",
        "\n",
        "8. **Cálculo de Intereses Compuestos:**\n",
        "Escribe un programa que calcule el monto total después de ciertos años usando la fórmula de interés compuesto. Utiliza una función lambda para calcular el interés compuesto.\n",
        "\n",
        "9. **Filtro de Números Primos:**\n",
        "Dada una lista de números, filtra solo los números primos utilizando una función lambda y la función `filter()`.\n",
        "\n",
        "10. **Conversión de Temperaturas:**\n",
        "Crea un programa que convierta una lista de temperaturas en grados Celsius a Fahrenheit utilizando una función lambda y la función `map()`.\n",
        "\n",
        "Estos ejercicios te ayudarán a practicar y comprender mejor cómo trabajar con funciones lambda en Python y cómo aplicarlas en diferentes situaciones. ¡Diviértete resolviéndolos!"
      ]
    }
  ],
  "metadata": {
    "kernelspec": {
      "display_name": "Python 3 (ipykernel)",
      "language": "python",
      "name": "python3"
    },
    "language_info": {
      "codemirror_mode": {
        "name": "ipython",
        "version": 3
      },
      "file_extension": ".py",
      "mimetype": "text/x-python",
      "name": "python",
      "nbconvert_exporter": "python",
      "pygments_lexer": "ipython3",
      "version": "3.11.4"
    },
    "colab": {
      "provenance": [],
      "include_colab_link": true
    }
  },
  "nbformat": 4,
  "nbformat_minor": 5
}