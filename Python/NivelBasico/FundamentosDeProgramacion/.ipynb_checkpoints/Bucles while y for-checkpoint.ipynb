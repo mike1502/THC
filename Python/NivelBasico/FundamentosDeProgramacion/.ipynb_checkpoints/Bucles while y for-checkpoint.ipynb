{
 "cells": [
  {
   "cell_type": "markdown",
   "id": "fc40c47a",
   "metadata": {
    "colab_type": "text",
    "id": "view-in-github"
   },
   "source": [
    "<a href=\"https://colab.research.google.com/github/seismomat/HerramientasComputacionales/blob/Ivan/Bucles%20while%20y%20fort.ipynb\" target=\"_parent\"><img src=\"https://colab.research.google.com/assets/colab-badge.svg\" alt=\"Open In Colab\"/></a>"
   ]
  },
  {
   "cell_type": "markdown",
   "id": "0c4018bd",
   "metadata": {
    "id": "0c4018bd"
   },
   "source": [
    "<font color=\"Red\" face=\"Comic Sans MS,arial\">\n",
    "  <h1 align=\"center\"><i>Bucles: while y for </i></h1>\n",
    "  </font>\n",
    "  \n",
    "> Elaborado por: Jesús Iván Coss Calderón. mat_ing_coss@ciencias.unam.mx"
   ]
  },
  {
   "cell_type": "markdown",
   "id": "d572795c",
   "metadata": {
    "id": "d572795c"
   },
   "source": [
    "**Objetivo general**\n",
    "\n",
    "* Aprender los fundamentos de la estructura de control conocidas como While y For\n",
    "\n",
    "**Objetivos particulares**\n",
    "\n",
    "* Entender la aplicación de los bucles While y For"
   ]
  },
  {
   "cell_type": "markdown",
   "id": "001e54d2",
   "metadata": {
    "id": "001e54d2"
   },
   "source": [
    "[**Regresa al notebook principal**](https://github.com/seismomat/HerramientasComputacionales/blob/main/TemarioDePython/Temario%20de%20Python.ipynb)"
   ]
  },
  {
   "cell_type": "markdown",
   "id": "b76ffc8a",
   "metadata": {
    "id": "b76ffc8a"
   },
   "source": [
    "<a name='c1'></a>\n",
    "\n",
    "## Contenido\n",
    "\n",
    "- [Ciclo While](#1)\n",
    "    - [Ejemplo de ciclo While](#1-1)\n",
    "    - [Ejemplo de ciclo While not](#1-2)\n",
    "    - [Sentencia else](#1-3)\n",
    "- [Ejercicio](#2)\n",
    "- [Ciclo For](#3)\n",
    "    - [Ejemplos](#3-1)\n",
    "- [Sentencia break](#4)\n",
    "- [Sentencia continue](#5)\n",
    "- [Ejercicios propuestos](#6)"
   ]
  },
  {
   "cell_type": "markdown",
   "id": "269975e0",
   "metadata": {
    "id": "269975e0"
   },
   "source": [
    "<a name='1'></a>\n",
    "\n",
    "# Ciclo While\n",
    "[regresar al contenido](#c1)\n",
    "\n",
    "El ciclo while en Python es una estructura de control que permite repetir un bloque de código mientras una condición sea verdadera. La sintaxis básica del ciclo **while** es la siguiente:"
   ]
  },
  {
   "cell_type": "markdown",
   "id": "1e922707",
   "metadata": {
    "id": "1e922707"
   },
   "source": [
    "while condicion:\n",
    "    # Código a ejecutar mientras la condición sea verdadera"
   ]
  },
  {
   "cell_type": "markdown",
   "id": "1ed05202",
   "metadata": {
    "id": "1ed05202"
   },
   "source": [
    "En inglés, << while >> significa << mientras >>. La sentencia while permite expresar en Python acciones cuyo significado es:\n",
    "<< Mientras se cumpla esta condición, repite estas acciones.>>"
   ]
  },
  {
   "cell_type": "markdown",
   "id": "fb9dfa06",
   "metadata": {
    "id": "fb9dfa06"
   },
   "source": [
    "<a name='1-1'></a>\n",
    "\n",
    "## Ejemplo de ciclo While\n",
    "[regresar al contenido](#c1)"
   ]
  },
  {
   "cell_type": "code",
   "execution_count": null,
   "id": "e8b76986",
   "metadata": {
    "id": "e8b76986",
    "outputId": "fa2211d8-3e44-4fbd-8881-9390546c27d5"
   },
   "outputs": [
    {
     "name": "stdout",
     "output_type": "stream",
     "text": [
      "0\n",
      "1\n",
      "2\n",
      "3\n",
      "4\n",
      "5\n"
     ]
    }
   ],
   "source": [
    "cuentas = 0\n",
    "while cuentas < 6:\n",
    "    print(cuentas)\n",
    "    cuentas = cuentas + 1"
   ]
  },
  {
   "cell_type": "markdown",
   "id": "0dac7983",
   "metadata": {
    "id": "0dac7983"
   },
   "source": [
    "<a name='1-2'></a>\n",
    "\n",
    "## Ejemplo de ciclo While not\n",
    "[regresar al contenido](#c1)"
   ]
  },
  {
   "cell_type": "code",
   "execution_count": null,
   "id": "9f11f8af",
   "metadata": {
    "id": "9f11f8af",
    "outputId": "82964401-53ed-4186-de3c-25b5d471347a"
   },
   "outputs": [
    {
     "name": "stdout",
     "output_type": "stream",
     "text": [
      "x = 1\n",
      "x = 2\n",
      "x = 3\n",
      "x = 4\n",
      "x = 5\n"
     ]
    }
   ],
   "source": [
    "x = 0\n",
    "while not x == 5:\n",
    "    x = x + 1\n",
    "    print(\"x = %d\" % x)"
   ]
  },
  {
   "cell_type": "markdown",
   "id": "4a1efc57",
   "metadata": {
    "id": "4a1efc57"
   },
   "source": [
    "<a name='1-3'></a>\n",
    "\n",
    "## Sentencia else\n",
    "[regresar al contenido](#c1)"
   ]
  },
  {
   "cell_type": "code",
   "execution_count": null,
   "id": "041f1595",
   "metadata": {
    "id": "041f1595",
    "outputId": "3ac5e8cf-b762-4de9-8b66-82aade99caf5"
   },
   "outputs": [
    {
     "name": "stdout",
     "output_type": "stream",
     "text": [
      "1\n",
      "2\n",
      "3\n",
      "4\n",
      "5\n",
      "i is no longer less than 6\n"
     ]
    }
   ],
   "source": [
    "i = 1\n",
    "while i < 6:\n",
    "  print(i)\n",
    "  i += 1\n",
    "else:\n",
    "  print(\"i is no longer less than 6\")"
   ]
  },
  {
   "cell_type": "markdown",
   "id": "d003deb7",
   "metadata": {
    "id": "d003deb7"
   },
   "source": [
    "<a name='2'></a>\n",
    "\n",
    "# Ejercicio\n",
    "[regresar al contenido](#c1)"
   ]
  },
  {
   "cell_type": "code",
   "execution_count": null,
   "id": "b698126a",
   "metadata": {
    "id": "b698126a",
    "outputId": "334e39a8-ac0f-4f7c-fd63-55d38552e46c"
   },
   "outputs": [
    {
     "name": "stdout",
     "output_type": "stream",
     "text": [
      "1\n",
      "1\n",
      "2\n",
      "3\n",
      "5\n",
      "8\n",
      "13\n",
      "21\n",
      "34\n",
      "55\n",
      "89\n"
     ]
    }
   ],
   "source": [
    "# Generar una secuencia de Fibonacci\n",
    "a, b = 0, 1\n",
    "while b < 100:\n",
    "    print(b)\n",
    "    a, b = b, a + b"
   ]
  },
  {
   "cell_type": "markdown",
   "id": "334a05cf",
   "metadata": {
    "id": "334a05cf"
   },
   "source": [
    "<a name='3'></a>\n",
    "\n",
    "# Ciclo For\n",
    "[regresar al contenido](#c1)"
   ]
  },
  {
   "cell_type": "markdown",
   "id": "c76b3126",
   "metadata": {
    "id": "c76b3126"
   },
   "source": [
    "Un bucle **for** se utiliza para iterar sobre una secuencia (que puede ser una lista, una tupla, un diccionario, un conjunto o una cadena).\n",
    "\n",
    "Esto es menos similar a la palabra clave **for** en otros lenguajes de programación y funciona más como un método iterador como se encuentra en otros lenguajes de programación orientados a objetos.\n",
    "\n",
    "Con el bucle **for**, podemos ejecutar un conjunto de declaraciones, una vez para cada elemento en una lista, tupla, conjunto, etc."
   ]
  },
  {
   "cell_type": "markdown",
   "id": "6d467241",
   "metadata": {
    "id": "6d467241"
   },
   "source": [
    "El bucle for-in, que se puede leer como << para todo elemento de una serie, hacer. . . >>. Un bucle for-in presenta el siguiente aspecto:"
   ]
  },
  {
   "cell_type": "markdown",
   "id": "20082363",
   "metadata": {
    "id": "20082363"
   },
   "source": [
    "<a name='3-1'></a>\n",
    "\n",
    "## Ejemplos\n",
    "[regresar al contenido](#c1)"
   ]
  },
  {
   "cell_type": "code",
   "execution_count": null,
   "id": "d71ea7c6",
   "metadata": {
    "id": "d71ea7c6",
    "outputId": "e016ca7e-90f2-4420-fa29-69ba10636463"
   },
   "outputs": [
    {
     "name": "stdout",
     "output_type": "stream",
     "text": [
      "apple\n",
      "banana\n",
      "cherry\n"
     ]
    }
   ],
   "source": [
    "fruits = [\"apple\", \"banana\", \"cherry\"]\n",
    "for x in fruits:\n",
    "  print(x)"
   ]
  },
  {
   "cell_type": "code",
   "execution_count": null,
   "id": "cc802d2e",
   "metadata": {
    "id": "cc802d2e",
    "outputId": "d7189404-031c-47ad-becf-5467337d0b50"
   },
   "outputs": [
    {
     "name": "stdout",
     "output_type": "stream",
     "text": [
      "0\n",
      "1\n",
      "2\n",
      "3\n",
      "4\n",
      "5\n"
     ]
    }
   ],
   "source": [
    "for x in range(6):\n",
    "  print(x)"
   ]
  },
  {
   "cell_type": "markdown",
   "id": "08ab73af",
   "metadata": {
    "id": "08ab73af"
   },
   "source": [
    "<a name='4'></a>\n",
    "\n",
    "# Sentencia break\n",
    "[regresar al contenido](#c1)"
   ]
  },
  {
   "cell_type": "code",
   "execution_count": null,
   "id": "f2f9cf0f",
   "metadata": {
    "id": "f2f9cf0f"
   },
   "outputs": [],
   "source": [
    "fruits = [\"apple\", \"banana\", \"cherry\"]\n",
    "for x in fruits:\n",
    "  print(x)\n",
    "  if x == \"banana\":\n",
    "    break"
   ]
  },
  {
   "cell_type": "code",
   "execution_count": null,
   "id": "a245c587",
   "metadata": {
    "id": "a245c587",
    "outputId": "90597dbe-6798-4c7d-cb3e-4e22a6fbd267"
   },
   "outputs": [
    {
     "name": "stdout",
     "output_type": "stream",
     "text": [
      "1\n",
      "2\n",
      "3\n"
     ]
    }
   ],
   "source": [
    "i = 1\n",
    "while i < 6:\n",
    "  print(i)\n",
    "  if i == 3:\n",
    "    break\n",
    "  i += 1"
   ]
  },
  {
   "cell_type": "markdown",
   "id": "98c4d4c7",
   "metadata": {
    "id": "98c4d4c7"
   },
   "source": [
    "<a name='5'></a>\n",
    "\n",
    "# Sentencia continue\n",
    "[regresar al contenido](#c1)"
   ]
  },
  {
   "cell_type": "code",
   "execution_count": null,
   "id": "98cf327a",
   "metadata": {
    "id": "98cf327a",
    "outputId": "2f02776e-207c-4559-8a63-8c56c0c62298"
   },
   "outputs": [
    {
     "name": "stdout",
     "output_type": "stream",
     "text": [
      "apple\n",
      "cherry\n"
     ]
    }
   ],
   "source": [
    "fruits = [\"apple\", \"banana\", \"cherry\"]\n",
    "for x in fruits:\n",
    "  if x == \"banana\":\n",
    "    continue\n",
    "  print(x)"
   ]
  },
  {
   "cell_type": "code",
   "execution_count": null,
   "id": "e214167a",
   "metadata": {
    "id": "e214167a",
    "outputId": "d204a73f-5431-4962-d780-e360e45300da"
   },
   "outputs": [
    {
     "name": "stdout",
     "output_type": "stream",
     "text": [
      "1\n",
      "2\n",
      "4\n",
      "5\n",
      "6\n"
     ]
    }
   ],
   "source": [
    "i = 0\n",
    "while i < 6:\n",
    "  i += 1\n",
    "  if i == 3:\n",
    "    continue\n",
    "  print(i)"
   ]
  },
  {
   "cell_type": "markdown",
   "id": "202b7434",
   "metadata": {
    "id": "202b7434"
   },
   "source": [
    "<a name='6'></a>\n",
    "\n",
    "# Ejercicios propuestos\n",
    "[regresar al contenido](#c1)"
   ]
  },
  {
   "cell_type": "markdown",
   "id": "7739c210",
   "metadata": {
    "id": "7739c210"
   },
   "source": [
    "Propuestas de ejercicios\n",
    "\n",
    "**Ciclo `for` Ejercicios:**\n",
    "\n",
    "1. Imprimir los números del 1 al 10.\n",
    "2. Calcular la suma de los primeros 50 números naturales.\n",
    "3. Imprimir los elementos de una lista.\n",
    "4. Imprimir los caracteres de una cadena.\n",
    "5. Calcular el factorial de un número dado.\n",
    "6. Imprimir los números pares entre 1 y 100.\n",
    "7. Imprimir los elementos de un diccionario.\n",
    "8. Imprimir los elementos de un conjunto.\n",
    "9. Generar una lista de números y calcular su suma, promedio y máximo utilizando un bucle `for`.\n",
    "10. Imprimir la tabla de multiplicar de un número dado.\n",
    "\n",
    "**Ciclo `while` Ejercicios:**\n",
    "\n",
    "1. Calcular la suma de los números impares del 1 al 50.\n",
    "2. Realizar un juego de adivinanza donde el usuario debe adivinar un número secreto.\n",
    "3. Imprimir los múltiplos de 3 menores que 100 utilizando un bucle `while`.\n",
    "4. Realizar un contador regresivo desde 10 hasta 1.\n",
    "5. Calcular la suma de los dígitos de un número dado.\n",
    "6. Imprimir los números primos menores que 100 utilizando un bucle `while`.\n",
    "7. Calcular el producto de dos números enteros sin usar el operador de multiplicación (*).\n",
    "8. Implementar una calculadora simple que realice operaciones básicas (+, -, *, /) usando un bucle `while`.\n",
    "9. Imprimir los caracteres de una cadena en orden inverso.\n",
    "10. Generar una secuencia de Fibonacci hasta un número dado.\n",
    "\n",
    "Recuerda que estos ejercicios son solo ejemplos y puedes ajustarlos según tus necesidades y nivel de conocimiento en programación. ¡Diviértete practicando!"
   ]
  }
 ],
 "metadata": {
  "colab": {
   "include_colab_link": true,
   "provenance": []
  },
  "kernelspec": {
   "display_name": "Python 3 (ipykernel)",
   "language": "python",
   "name": "python3"
  },
  "language_info": {
   "codemirror_mode": {
    "name": "ipython",
    "version": 3
   },
   "file_extension": ".py",
   "mimetype": "text/x-python",
   "name": "python",
   "nbconvert_exporter": "python",
   "pygments_lexer": "ipython3",
   "version": "3.11.4"
  }
 },
 "nbformat": 4,
 "nbformat_minor": 5
}
