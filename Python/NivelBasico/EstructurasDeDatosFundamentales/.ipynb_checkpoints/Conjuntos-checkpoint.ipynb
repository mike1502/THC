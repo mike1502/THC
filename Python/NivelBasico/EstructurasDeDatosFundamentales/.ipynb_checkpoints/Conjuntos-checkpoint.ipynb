{
 "cells": [
  {
   "cell_type": "markdown",
   "id": "cb88e04e",
   "metadata": {
    "colab_type": "text",
    "id": "view-in-github"
   },
   "source": [
    "<a href=\"https://colab.research.google.com/github/seismomat/HerramientasComputacionales/blob/Ivan/Conjuntos.ipynb\" target=\"_parent\"><img src=\"https://colab.research.google.com/assets/colab-badge.svg\" alt=\"Open In Colab\"/></a>"
   ]
  },
  {
   "cell_type": "markdown",
   "id": "0598806e",
   "metadata": {
    "id": "0598806e"
   },
   "source": [
    "<font color=\"Red\" face=\"Comic Sans MS,arial\">\n",
    "  <h1 align=\"center\"><i>Conjuntos </i></h1>\n",
    "  </font>\n",
    "  \n",
    "> Elaborado por: Jesús Iván Coss Calderón. mat_ing_coss@ciencias.unam.mx"
   ]
  },
  {
   "cell_type": "markdown",
   "id": "892493c5",
   "metadata": {
    "id": "892493c5"
   },
   "source": [
    "**Objetivo general**\n",
    "\n",
    "* Aprender los fundamentos de la estructura de datos conocida como conjuntos\n",
    "\n",
    "**Objetivos particulares**\n",
    "\n",
    "* Entender los métodos de la clase set"
   ]
  },
  {
   "cell_type": "markdown",
   "id": "47c27379",
   "metadata": {
    "id": "47c27379"
   },
   "source": [
    "[**Regresa al notebook principal**](https://github.com/seismomat/HerramientasComputacionales/blob/main/TemarioDePython/Temario%20de%20Python.ipynb)"
   ]
  },
  {
   "cell_type": "markdown",
   "id": "bba08db4",
   "metadata": {
    "id": "bba08db4"
   },
   "source": [
    "<a name='c1'></a>\n",
    "\n",
    "## Contenido\n",
    "\n",
    "- [Listas](#1)\n",
    "    - [Declaración](#1-1)\n",
    "    - [Tipo de dato o clase](#1-2)\n",
    "    - [Borrar elementos de un conjunto](#1-3)\n",
    "    - [Comprobación de pertenencia](#1-4)\n",
    "    - [Agregar elementos](#1-5)\n",
    "    - [Operaciones con conjuntos](#1-6)\n",
    "    - [Eliminar elementos duplicados](#1-7)\n",
    "- [Ejemplo](#2)\n",
    "- [Tipos de datos en un diccionario](#3)\n",
    "- [Pasar valores de un conjunto a una lista o a un diccionario](#4)\n",
    "- [Utilidad de los conjuntos](#5)\n",
    "- [Ejercicios propuestos](#6)"
   ]
  },
  {
   "cell_type": "markdown",
   "id": "fa9de960",
   "metadata": {
    "id": "fa9de960"
   },
   "source": [
    "<a name='1'></a>\n",
    "\n",
    "# Conjuntos\n",
    "[regresar al contenido](#c1)\n",
    "\n",
    "\n",
    "Los conjuntos son otra estructura de datos en Python que te permiten almacenar una colección de elementos únicos. A diferencia de las listas, los conjuntos no mantienen un orden específico y no permiten elementos duplicados\n"
   ]
  },
  {
   "cell_type": "markdown",
   "id": "2523b049",
   "metadata": {
    "id": "2523b049"
   },
   "source": [
    "<a name='1-1'></a>\n",
    "\n",
    "# Declaración\n",
    "[regresar al contenido](#c1)\n",
    "\n",
    "La manera de declarar un conjunto es la siguiente"
   ]
  },
  {
   "cell_type": "code",
   "execution_count": null,
   "id": "089653d8",
   "metadata": {
    "id": "089653d8"
   },
   "outputs": [],
   "source": [
    "conjunto_vacio = set()  # Crear un conjunto vacío\n",
    "conjunto_numeros = {1, 2, 3, 4, 5}  # Crear un conjunto con elementos"
   ]
  },
  {
   "cell_type": "markdown",
   "id": "bf21d662",
   "metadata": {
    "id": "bf21d662"
   },
   "source": [
    "<a name='1-2'></a>\n",
    "\n",
    "# Tipo de dato o clase\n",
    "[regresar al contenido](#c1)\n",
    "\n",
    "Cabe mencionar que la clase de dicha estructura es **set**, como se observa a continuación"
   ]
  },
  {
   "cell_type": "code",
   "execution_count": null,
   "id": "26528169",
   "metadata": {
    "id": "26528169",
    "outputId": "7ff5470a-03b3-43e1-b149-49efcaa68a5a"
   },
   "outputs": [
    {
     "name": "stdout",
     "output_type": "stream",
     "text": [
      "<class 'set'>\n"
     ]
    }
   ],
   "source": [
    "print(type(conjunto_vacio))"
   ]
  },
  {
   "cell_type": "markdown",
   "id": "5cbba2cc",
   "metadata": {
    "id": "5cbba2cc"
   },
   "source": [
    "<a name='1-3'></a>\n",
    "\n",
    "# Borrar elementos de un conjunto\n",
    "[regresar al contenido](#c1)"
   ]
  },
  {
   "cell_type": "markdown",
   "id": "98b84393",
   "metadata": {
    "id": "98b84393"
   },
   "source": [
    "Si desea borrar el valor de la lista en un índice específico se hace de la siguiente manera **nombre_conjunto.remove(valor)**"
   ]
  },
  {
   "cell_type": "code",
   "execution_count": null,
   "id": "35a93859",
   "metadata": {
    "id": "35a93859",
    "outputId": "b3fa3d64-a887-48c8-ee81-51b2559e7761"
   },
   "outputs": [
    {
     "data": {
      "text/plain": [
       "dict_values(['Hamal', 2.0, 'K2III', 66])"
      ]
     },
     "execution_count": 25,
     "metadata": {},
     "output_type": "execute_result"
    }
   ],
   "source": [
    "conjunto_numeros.remove(3)  # Eliminar el número 3 del conjunto\n",
    "print(conjunto_numeros)"
   ]
  },
  {
   "cell_type": "markdown",
   "id": "26c3d282",
   "metadata": {
    "id": "26c3d282"
   },
   "source": [
    "<a name='1-4'></a>\n",
    "\n",
    "# Comprobación de pertenencia\n",
    "[regresar al contenido](#c1)"
   ]
  },
  {
   "cell_type": "markdown",
   "id": "bac4feeb",
   "metadata": {
    "id": "bac4feeb"
   },
   "source": [
    "La manera para visualizar un elemento específico de la lista es **nombre_lista [indice]**"
   ]
  },
  {
   "cell_type": "code",
   "execution_count": null,
   "id": "a61f04bb",
   "metadata": {
    "id": "a61f04bb",
    "outputId": "b191b3dc-39f4-4725-a887-a7eca594d3c1"
   },
   "outputs": [
    {
     "name": "stdout",
     "output_type": "stream",
     "text": [
      "2 está en el conjunto_a\n"
     ]
    }
   ],
   "source": [
    "conjunto_a = {1, 2, 3}\n",
    "if 2 in conjunto_a:\n",
    "    print(\"2 está en el conjunto_a\")"
   ]
  },
  {
   "cell_type": "markdown",
   "id": "470c9eb0",
   "metadata": {
    "id": "470c9eb0"
   },
   "source": [
    "<a name='1-5'></a>\n",
    "\n",
    "# Agregar elementos\n",
    "[regresar al contenido](#c1)"
   ]
  },
  {
   "cell_type": "markdown",
   "id": "fbdb1ce0",
   "metadata": {
    "id": "fbdb1ce0"
   },
   "source": [
    "Para agregar una nueva variable se realiza de la siguiente manera **nombre_conjunto.add(valor_nuevo)**"
   ]
  },
  {
   "cell_type": "code",
   "execution_count": null,
   "id": "1d68d1e7",
   "metadata": {
    "id": "1d68d1e7"
   },
   "outputs": [],
   "source": [
    "conjunto_numeros.add(6)  # Agregar el número 6 al conjunto"
   ]
  },
  {
   "cell_type": "markdown",
   "id": "2b2deb36",
   "metadata": {
    "id": "2b2deb36"
   },
   "source": [
    "Imprimimos la lista para visualizar que se haya agregado el elemento nuevo."
   ]
  },
  {
   "cell_type": "code",
   "execution_count": null,
   "id": "90a99770",
   "metadata": {
    "id": "90a99770",
    "outputId": "aaf1f20b-92ee-4982-e323-fb8561a8804c"
   },
   "outputs": [
    {
     "name": "stdout",
     "output_type": "stream",
     "text": [
      "['manzana', 'banana', 'naranja', 'kiwi']\n"
     ]
    }
   ],
   "source": [
    "print(conjunto_numeros)  # Imprime ['manzana', 'pera', 'naranja', 'kiwi', 'uva']"
   ]
  },
  {
   "cell_type": "markdown",
   "id": "b9aded12",
   "metadata": {
    "id": "b9aded12"
   },
   "source": [
    "<a name='1-6'></a>\n",
    "\n",
    "# Operaciones con conjuntos\n",
    "[regresar al contenido](#c1)\n",
    "\n",
    "1. \" | \": unión de conjuntos\n",
    "2. \" & \": intersección de conjuntos\n",
    "3. \" - \": diferencia de conjuntos"
   ]
  },
  {
   "cell_type": "code",
   "execution_count": null,
   "id": "9ef38df9",
   "metadata": {
    "id": "9ef38df9",
    "outputId": "e9e678cb-c914-4746-8759-57fa8ddc5014"
   },
   "outputs": [
    {
     "name": "stdout",
     "output_type": "stream",
     "text": [
      "4\n"
     ]
    }
   ],
   "source": [
    "conjunto_a = {1, 2, 3}\n",
    "conjunto_b = {3, 4, 5}\n",
    "\n",
    "union = conjunto_a | conjunto_b  # Unión de conjuntos (1, 2, 3, 4, 5)\n",
    "interseccion = conjunto_a & conjunto_b  # Intersección de conjuntos (3)\n",
    "diferencia = conjunto_a - conjunto_b  # Diferencia de conjuntos (1, 2)"
   ]
  },
  {
   "cell_type": "markdown",
   "id": "b7fdc0df",
   "metadata": {
    "id": "b7fdc0df"
   },
   "source": [
    "<a name='1-7'></a>\n",
    "\n",
    "# Eliminar elementos duplicados\n",
    "[regresar al contenido](#c1)"
   ]
  },
  {
   "cell_type": "code",
   "execution_count": null,
   "id": "b9d7c81b",
   "metadata": {
    "id": "b9d7c81b"
   },
   "outputs": [],
   "source": [
    "lista_duplicados = [1, 2, 2, 3, 3, 4, 5, 5]\n",
    "conjunto_sin_duplicados = set(lista_duplicados)"
   ]
  },
  {
   "cell_type": "markdown",
   "id": "44fbd2b3",
   "metadata": {
    "id": "44fbd2b3"
   },
   "source": [
    "<a name='2'></a>\n",
    "\n",
    "# Ejemplo\n",
    "[regresar al contenido](#c1)\n",
    "\n",
    "Se puede iterar sobre los elementos de un conjunto"
   ]
  },
  {
   "cell_type": "code",
   "execution_count": null,
   "id": "c8237473",
   "metadata": {
    "id": "c8237473",
    "outputId": "be662c70-ad8a-4f89-c89f-f1f4e896a5a1"
   },
   "outputs": [
    {
     "name": "stdout",
     "output_type": "stream",
     "text": [
      "1\n",
      "2\n",
      "3\n",
      "4\n",
      "5\n"
     ]
    }
   ],
   "source": [
    "conjunto = {1, 2, 3, 4, 5}\n",
    "for elemento in conjunto:\n",
    "    print(elemento)"
   ]
  },
  {
   "cell_type": "markdown",
   "id": "98bfec92",
   "metadata": {
    "id": "98bfec92"
   },
   "source": [
    "También se puede utilizar la estructura de control if-elseif-else"
   ]
  },
  {
   "cell_type": "code",
   "execution_count": null,
   "id": "83ad4cb5",
   "metadata": {
    "id": "83ad4cb5",
    "outputId": "54d5d32c-7d35-4eb3-814b-2671369ee5a4"
   },
   "outputs": [
    {
     "name": "stdout",
     "output_type": "stream",
     "text": [
      "Sí,el número dos está en tu conjunto\n"
     ]
    }
   ],
   "source": [
    "if 2 in conjunto:\n",
    "    print('Sí,el número dos está en tu conjunto')"
   ]
  },
  {
   "cell_type": "markdown",
   "id": "01d6e36c",
   "metadata": {
    "id": "01d6e36c"
   },
   "source": [
    "<a name='3'></a>\n",
    "\n",
    "# Tipos de datos en un conjunto\n",
    "[regresar al contenido](#c1)\n",
    "\n",
    "En un conjunto se pueden guardar todo tipo de variables y tipos de datos."
   ]
  },
  {
   "cell_type": "code",
   "execution_count": null,
   "id": "e1d2a9fb",
   "metadata": {
    "id": "e1d2a9fb",
    "outputId": "bda7bbcc-97d3-4c8e-c6e4-b47082050b36"
   },
   "outputs": [
    {
     "name": "stdout",
     "output_type": "stream",
     "text": [
      "(1, 2, 3)\n"
     ]
    }
   ],
   "source": [
    "mi_tupla = (1, 2, 3)\n",
    "print(mi_tupla)"
   ]
  },
  {
   "cell_type": "code",
   "execution_count": null,
   "id": "237e5266",
   "metadata": {
    "id": "237e5266",
    "outputId": "1f96d018-a55e-486b-e234-ef24a422986d"
   },
   "outputs": [
    {
     "name": "stdout",
     "output_type": "stream",
     "text": [
      "{(1, 2), (3, 4), (5, 6)}\n"
     ]
    }
   ],
   "source": [
    "conjunto_de_tuplas = {(1, 2), (3, 4), (5, 6)}\n",
    "print(conjunto_de_tuplas)"
   ]
  },
  {
   "cell_type": "code",
   "execution_count": null,
   "id": "8626a887",
   "metadata": {
    "id": "8626a887",
    "outputId": "7e4a8b12-e6aa-4c41-b0fa-f3bab2f427b5"
   },
   "outputs": [
    {
     "name": "stdout",
     "output_type": "stream",
     "text": [
      "{'Alice', 'Charlie', 'Bob'}\n"
     ]
    }
   ],
   "source": [
    "nombres = {'Alice', 'Bob', 'Charlie'}\n",
    "print(nombres)"
   ]
  },
  {
   "cell_type": "markdown",
   "id": "68917abf",
   "metadata": {
    "id": "68917abf"
   },
   "source": [
    "<a name='4'></a>\n",
    "\n",
    "# Pasar valores de un conjunto a una lista o a un diccionario\n",
    "[regresar al contenido](#c1)"
   ]
  },
  {
   "cell_type": "code",
   "execution_count": null,
   "id": "8eab08a3",
   "metadata": {
    "id": "8eab08a3",
    "outputId": "06e4cb4b-32ef-4e7a-fd1f-1930b4e8aa50"
   },
   "outputs": [
    {
     "name": "stdout",
     "output_type": "stream",
     "text": [
      "[1, 2, 3, 4, 5]\n"
     ]
    }
   ],
   "source": [
    "conjunto = {1, 2, 3, 4, 5}\n",
    "lista = list(conjunto)\n",
    "\n",
    "print(lista)  # Imprime [1, 2, 3, 4, 5]"
   ]
  },
  {
   "cell_type": "code",
   "execution_count": null,
   "id": "42ea29eb",
   "metadata": {
    "id": "42ea29eb",
    "outputId": "5edecc6d-adee-4ba3-d733-331f0e9028dd"
   },
   "outputs": [
    {
     "name": "stdout",
     "output_type": "stream",
     "text": [
      "{'manzana': None, 'banana': None, 'uva': None, 'naranja': None}\n"
     ]
    }
   ],
   "source": [
    "conjunto = {'manzana', 'banana', 'naranja', 'uva'}\n",
    "diccionario = dict.fromkeys(conjunto)\n",
    "\n",
    "print(diccionario)"
   ]
  },
  {
   "cell_type": "markdown",
   "id": "06c413ef",
   "metadata": {
    "id": "06c413ef"
   },
   "source": [
    "<a name='5'></a>\n",
    "\n",
    "# Utilidad de los conjuntos\n",
    "[regresar al contenido](#c1)"
   ]
  },
  {
   "cell_type": "code",
   "execution_count": null,
   "id": "2c99d518",
   "metadata": {
    "id": "2c99d518",
    "outputId": "1100cb74-a3b8-4df3-9cbe-110ba9dcbe4b"
   },
   "outputs": [
    {
     "name": "stdout",
     "output_type": "stream",
     "text": [
      "Suscripciones actuales:\n",
      "- usuario5\n",
      "- usuario1\n",
      "- usuario4\n",
      "- usuario3\n",
      "- usuario2\n",
      "usuario3 ya está suscrito.\n",
      "Usuarios que se han dado de baja:\n",
      "- usuario6\n"
     ]
    }
   ],
   "source": [
    "def main():\n",
    "    suscripciones_actuales = {'usuario1', 'usuario2', 'usuario3'}\n",
    "    suscripciones_nuevas = {'usuario2', 'usuario4', 'usuario5'}\n",
    "\n",
    "    # Actualizar las suscripciones agregando los nuevos suscriptores\n",
    "    suscripciones_actuales.update(suscripciones_nuevas)\n",
    "\n",
    "    print(\"Suscripciones actuales:\")\n",
    "    for usuario in suscripciones_actuales:\n",
    "        print(\"- \" + usuario)\n",
    "\n",
    "    # Verificar si un usuario ya está suscrito\n",
    "    usuario_buscar = 'usuario3'\n",
    "    if usuario_buscar in suscripciones_actuales:\n",
    "        print(f\"{usuario_buscar} ya está suscrito.\")\n",
    "    else:\n",
    "        print(f\"{usuario_buscar} no está suscrito.\")\n",
    "\n",
    "    # Calcular los usuarios que se han dado de baja\n",
    "    suscripciones_anteriores = {'usuario1', 'usuario3', 'usuario6'}\n",
    "    usuarios_dados_de_baja = suscripciones_anteriores.difference(suscripciones_actuales)\n",
    "\n",
    "    print(\"Usuarios que se han dado de baja:\")\n",
    "    for usuario in usuarios_dados_de_baja:\n",
    "        print(\"- \" + usuario)\n",
    "\n",
    "if __name__ == \"__main__\":\n",
    "    main()"
   ]
  },
  {
   "cell_type": "markdown",
   "id": "90451fc5",
   "metadata": {
    "id": "90451fc5"
   },
   "source": [
    "<a name='6'></a>\n",
    "\n",
    "# Ejercicios propuestos\n",
    "[regresar al contenido](#c1)"
   ]
  },
  {
   "cell_type": "markdown",
   "id": "d986e8d0",
   "metadata": {
    "id": "d986e8d0"
   },
   "source": [
    "Propuestas de ejercicios para practicar con conjuntos en Python:\n",
    "\n",
    "1. **Eliminar Duplicados de una Lista:** Escribe un programa que tome una lista y elimine los elementos duplicados utilizando conjuntos.\n",
    "\n",
    "2. **Unión e Intersección:** Crea dos conjuntos con elementos y encuentra la unión e intersección entre ellos.\n",
    "\n",
    "3. **Contador de Elementos Únicos:** Implementa una función que tome una lista como entrada y devuelva la cantidad de elementos únicos utilizando conjuntos.\n",
    "\n",
    "4. **Diferencia Simétrica:** Escribe un programa que tome dos conjuntos y calcule la diferencia simétrica (elementos que están en uno de los conjuntos, pero no en ambos).\n",
    "\n",
    "5. **Comprobar Anagramas:** Crea una función que tome dos cadenas y determine si son anagramas (contienen las mismas letras en diferentes órdenes).\n",
    "\n",
    "6. **Palabras Sin Repetición de Letras:** Implementa una función que tome una lista de palabras y devuelva una lista de palabras que no contienen letras repetidas.\n",
    "\n",
    "7. **Conjunto de Vocales:** Crea un conjunto que contenga todas las vocales y verifica si una palabra dada contiene todas las vocales.\n",
    "\n",
    "8. **Parejas de Suma K:** Dado un conjunto de números y un valor `K`, encuentra todas las parejas de números que sumen `K`.\n",
    "\n",
    "9. **Eliminar Palabras Comunes:** Escribe una función que tome dos listas de palabras y elimine las palabras que aparecen en ambas listas.\n",
    "\n",
    "10. **Diccionario de Frecuencia de Letras:** Crea un programa que tome una cadena y genere un diccionario con la frecuencia de cada letra en la cadena, utilizando conjuntos y diccionarios.\n",
    "\n",
    "11. **Eliminar Elementos en Lista A de Conjunto B:** Dadas una lista y un conjunto, elimina los elementos de la lista que también están en el conjunto.\n",
    "\n",
    "12. **Conjunto de Divisores:** Escribe una función que tome un número entero y devuelva un conjunto con sus divisores.\n",
    "\n",
    "13. **Eliminar Elementos Comunes:** Crea un programa que tome dos listas y elimine los elementos que están en ambas listas.\n",
    "\n",
    "14. **Verificar Subconjunto:** Escribe una función que verifique si un conjunto es un subconjunto de otro conjunto.\n",
    "\n",
    "15. **Números Amigos:** Encuentra todos los pares de números amigos en un rango dado. Dos números son amigos si la suma de los divisores propios de uno es igual al otro número y viceversa.\n",
    "\n",
    "Estos ejercicios te brindarán la oportunidad de practicar y familiarizarte con los conceptos y operaciones que se pueden realizar con conjuntos en Python. ¡Diviértete resolviéndolos!"
   ]
  }
 ],
 "metadata": {
  "colab": {
   "include_colab_link": true,
   "provenance": []
  },
  "kernelspec": {
   "display_name": "Python 3 (ipykernel)",
   "language": "python",
   "name": "python3"
  },
  "language_info": {
   "codemirror_mode": {
    "name": "ipython",
    "version": 3
   },
   "file_extension": ".py",
   "mimetype": "text/x-python",
   "name": "python",
   "nbconvert_exporter": "python",
   "pygments_lexer": "ipython3",
   "version": "3.11.4"
  }
 },
 "nbformat": 4,
 "nbformat_minor": 5
}
