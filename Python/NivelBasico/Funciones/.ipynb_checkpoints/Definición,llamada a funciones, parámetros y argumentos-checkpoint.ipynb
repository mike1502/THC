{
 "cells": [
  {
   "cell_type": "markdown",
   "id": "1fc5142f",
   "metadata": {
    "colab_type": "text",
    "id": "view-in-github"
   },
   "source": [
    "<a href=\"https://colab.research.google.com/github/seismomat/HerramientasComputacionales/blob/Ivan/Definici%C3%B3n%2Cllamada%20a%20funciones%2C%20par%C3%A1metros%20y%20argumentos.ipynb\" target=\"_parent\"><img src=\"https://colab.research.google.com/assets/colab-badge.svg\" alt=\"Open In Colab\"/></a>"
   ]
  },
  {
   "cell_type": "markdown",
   "id": "0c4018bd",
   "metadata": {
    "id": "0c4018bd"
   },
   "source": [
    "<font color=\"Red\" face=\"Comic Sans MS,arial\">\n",
    "  <h1 align=\"center\"><i>Definición,llamada a funciones, parámetros y argumentos </i></h1>\n",
    "  </font>\n",
    "  \n",
    "> Elaborado por: Jesús Iván Coss Calderón. mat_ing_coss@ciencias.unam.mx"
   ]
  },
  {
   "cell_type": "markdown",
   "id": "d572795c",
   "metadata": {
    "id": "d572795c"
   },
   "source": [
    "**Objetivo general**\n",
    "\n",
    "* Aprender los fundamentos de la declaración de funciones\n",
    "\n",
    "**Objetivos particulares**\n",
    "\n",
    "* Entender la elaboración de funciones"
   ]
  },
  {
   "cell_type": "markdown",
   "id": "001e54d2",
   "metadata": {
    "id": "001e54d2"
   },
   "source": [
    "[**Regresa al notebook principal**](https://github.com/seismomat/HerramientasComputacionales/blob/main/TemarioDePython/Temario%20de%20Python.ipynb)"
   ]
  },
  {
   "cell_type": "markdown",
   "id": "b76ffc8a",
   "metadata": {
    "id": "b76ffc8a"
   },
   "source": [
    "<a name='c1'></a>\n",
    "\n",
    "## Contenido\n",
    "\n",
    "- [Funciones](#1)\n",
    "    - [Declaración](#1-1)\n",
    "    - [Llamando funciones creadas](#1-2)\n",
    "- [Argumentos](#2)\n",
    "    - [¿Argumentos o parámetros?](#2-1)\n",
    "- [Número de argumentos](#3)\n",
    "    - [*args](#3-1)\n",
    "    - [Clave Arguments](#3-2)\n",
    "    - [**kwargs](#3-3)\n",
    "- [Parámetro default](#4)\n",
    "- [Pasando una estructura de datos como parámetros](#5)"
   ]
  },
  {
   "cell_type": "markdown",
   "id": "269975e0",
   "metadata": {
    "id": "269975e0"
   },
   "source": [
    "<a name='1'></a>\n",
    "\n",
    "# Funciones\n",
    "[regresar al contenido](#c1)\n",
    "\n",
    "Una función es un bloque de código que solo se ejecuta cuando se llama.\n",
    "\n",
    "Puedes pasar datos, conocidos como parámetros, a una función.\n",
    "\n",
    "Una función puede devolver datos como resultado."
   ]
  },
  {
   "cell_type": "markdown",
   "id": "fb9dfa06",
   "metadata": {
    "id": "fb9dfa06"
   },
   "source": [
    "<a name='1-1'></a>\n",
    "\n",
    "## Declaración\n",
    "[regresar al contenido](#c1)\n",
    "\n",
    "En Python, una función se define usando la palabra clave **def** seguido de dos puntos **:**"
   ]
  },
  {
   "cell_type": "code",
   "execution_count": null,
   "id": "b516f0d1",
   "metadata": {
    "id": "b516f0d1"
   },
   "outputs": [],
   "source": [
    "def mi_funcion():\n",
    "  print(\"Hola, te saludo desde la función\")"
   ]
  },
  {
   "cell_type": "markdown",
   "id": "afa98fb0",
   "metadata": {
    "id": "afa98fb0"
   },
   "source": [
    "<a name='1-2'></a>\n",
    "\n",
    "## Llamando funciones creadas\n",
    "[regresar al contenido](#c1)\n",
    "\n",
    "Para llamar a una función, utiliza el nombre de la función seguido de paréntesis."
   ]
  },
  {
   "cell_type": "code",
   "execution_count": null,
   "id": "82370167",
   "metadata": {
    "id": "82370167",
    "outputId": "aac2b5ab-8884-43cf-bdfd-c502f4190787"
   },
   "outputs": [
    {
     "name": "stdout",
     "output_type": "stream",
     "text": [
      "Hola, te saludo desde la función\n"
     ]
    }
   ],
   "source": [
    "mi_funcion()"
   ]
  },
  {
   "cell_type": "markdown",
   "id": "d003deb7",
   "metadata": {
    "id": "d003deb7"
   },
   "source": [
    "<a name='2'></a>\n",
    "\n",
    "# Argumentos\n",
    "[regresar al contenido](#c1)\n",
    "\n",
    "La información puede ser pasada a las funciones como argumentos.\n",
    "\n",
    "Los argumentos se especifican después del nombre de la función, dentro de los paréntesis. Puedes agregar tantos argumentos como desees, simplemente sepáralos con comas.\n",
    "\n",
    "El siguiente ejemplo tiene una función con un argumento (fname). Cuando la función es llamada, pasamos un nombre propio, que es usado dentro de la función para imprimir el nombre completo."
   ]
  },
  {
   "cell_type": "code",
   "execution_count": null,
   "id": "a7c7c289",
   "metadata": {
    "id": "a7c7c289",
    "outputId": "05893378-a9a1-4c83-e5a7-04f1624596f2"
   },
   "outputs": [
    {
     "name": "stdout",
     "output_type": "stream",
     "text": [
      "Hola Iván te saludo desde la función\n"
     ]
    }
   ],
   "source": [
    "def mi_funcion_nueva(fname):\n",
    "    print(\"Hola \"+fname +\" te saludo desde la función\")\n",
    "\n",
    "mi_funcion_nueva(\"Iván\")"
   ]
  },
  {
   "cell_type": "markdown",
   "id": "859574f2",
   "metadata": {
    "id": "859574f2"
   },
   "source": [
    "<a name='2-1'></a>\n",
    "\n",
    "## ¿Argumentos o parámetros?\n",
    "[regresar al contenido](#c1)\n",
    "\n",
    "Los términos \"parámetro\" y \"argumento\" pueden ser usados para referirse a lo mismo: información que es pasada a una función."
   ]
  },
  {
   "cell_type": "markdown",
   "id": "bb842955",
   "metadata": {
    "id": "bb842955"
   },
   "source": [
    "Desde la perspectiva de una función:\n",
    "\n",
    "Un parámetro es la variable que se enumera dentro de los paréntesis en la definición de la función.\n",
    "\n",
    "Un argumento es el valor que se envía a la función cuando se llama a la misma."
   ]
  },
  {
   "cell_type": "markdown",
   "id": "334a05cf",
   "metadata": {
    "id": "334a05cf"
   },
   "source": [
    "<a name='3'></a>\n",
    "\n",
    "# Número de argumentos\n",
    "[regresar al contenido](#c1)"
   ]
  },
  {
   "cell_type": "markdown",
   "id": "bcb05f42",
   "metadata": {
    "id": "bcb05f42"
   },
   "source": [
    "Por defecto, una función debe ser llamada con el número correcto de argumentos. Esto significa que si tu función espera 2 argumentos, debes llamar a la función con 2 argumentos, ni más ni menos."
   ]
  },
  {
   "cell_type": "code",
   "execution_count": null,
   "id": "6c8e2357",
   "metadata": {
    "id": "6c8e2357",
    "outputId": "555113c9-77b9-476e-d1df-824ddec8494d"
   },
   "outputs": [
    {
     "name": "stdout",
     "output_type": "stream",
     "text": [
      "Hola Iván CC te saludo desde la función\n"
     ]
    }
   ],
   "source": [
    "def Nombre(fname,lname):\n",
    "    print(\"Hola \"+fname + \" \" + lname+ \" te saludo desde la función\")\n",
    "\n",
    "Nombre(\"Iván\",\"CC\")"
   ]
  },
  {
   "cell_type": "markdown",
   "id": "bbe2365c",
   "metadata": {
    "id": "bbe2365c"
   },
   "source": [
    "<a name='3-1'></a>\n",
    "\n",
    "## *args\n",
    "[regresar al contenido](#c1)\n",
    "\n",
    "Si no sabes cuántos argumentos se pasarán a tu función, agrega un * antes del nombre del parámetro en la definición de la función.\n",
    "\n",
    "De esta manera, la función recibirá una tupla de argumentos y podrá acceder a los elementos correspondientes."
   ]
  },
  {
   "cell_type": "code",
   "execution_count": null,
   "id": "f43db839",
   "metadata": {
    "id": "f43db839",
    "outputId": "f631b0ea-9fdd-49bd-baa7-e60ba2574a3d"
   },
   "outputs": [
    {
     "name": "stdout",
     "output_type": "stream",
     "text": [
      "El niño menor es Linus\n"
     ]
    }
   ],
   "source": [
    "def mi_funcion(*kids):\n",
    "    print(\"El niño menor es \" + kids[2])\n",
    "\n",
    "mi_funcion(\"Emil\", \"Tobias\", \"Linus\")"
   ]
  },
  {
   "cell_type": "markdown",
   "id": "8083941e",
   "metadata": {
    "id": "8083941e"
   },
   "source": [
    "<a name='3-2'></a>\n",
    "\n",
    "## Clave Arguments\n",
    "[regresar al contenido](#c1)\n",
    "\n",
    "También puedes enviar argumentos utilizando la sintaxis clave = valor.\n",
    "\n",
    "De esta manera, el orden de los argumentos no importa."
   ]
  },
  {
   "cell_type": "code",
   "execution_count": null,
   "id": "90126d63",
   "metadata": {
    "id": "90126d63",
    "outputId": "b441c44e-0569-48aa-a8b7-ebd9fe466400"
   },
   "outputs": [
    {
     "name": "stdout",
     "output_type": "stream",
     "text": [
      "El niño menor es Linus\n"
     ]
    }
   ],
   "source": [
    "def mi_funcion(niño3,niño2,niño1):\n",
    "    print(\"El niño menor es \" + niño3)\n",
    "\n",
    "mi_funcion(niño1 = \"Emil\", niño2 = \"Tobias\", niño3 = \"Linus\")"
   ]
  },
  {
   "cell_type": "markdown",
   "id": "4cc48302",
   "metadata": {
    "id": "4cc48302"
   },
   "source": [
    "<a name='3-3'></a>\n",
    "\n",
    "## **kwargs\n",
    "[regresar al contenido](#c1)\n",
    "\n",
    "Si no sabes cuántos argumentos de palabras clave se pasarán a tu función, agrega dos asteriscos: ** antes del nombre del parámetro en la definición de la función.\n",
    "\n",
    "De esta manera, la función recibirá un diccionario de argumentos y podrá acceder a los elementos correspondientes."
   ]
  },
  {
   "cell_type": "code",
   "execution_count": null,
   "id": "49c0988b",
   "metadata": {
    "id": "49c0988b",
    "outputId": "0540f131-9034-4a19-daf9-c686804c5839"
   },
   "outputs": [
    {
     "name": "stdout",
     "output_type": "stream",
     "text": [
      "El apellido es Vapython\n"
     ]
    }
   ],
   "source": [
    "def mi_funcion(**chamaco):\n",
    "  print(\"El apellido es \" + chamaco[\"Ape\"])\n",
    "\n",
    "mi_funcion(nombre = \"Aquiles\", Ape = \"Vapython\")"
   ]
  },
  {
   "cell_type": "markdown",
   "id": "20082363",
   "metadata": {
    "id": "20082363"
   },
   "source": [
    "<a name='4'></a>\n",
    "\n",
    "# Parámetro default\n",
    "[regresar al contenido](#c1)\n",
    "\n",
    "El siguiente ejemplo muestra cómo usar un valor de parámetro predeterminado.\n",
    "\n",
    "Si llamamos a la función sin argumento, utiliza el valor predeterminado."
   ]
  },
  {
   "cell_type": "code",
   "execution_count": null,
   "id": "f7601487",
   "metadata": {
    "id": "f7601487",
    "outputId": "3ffe9bbb-9b5f-49f8-e38b-db3c9a7eb673"
   },
   "outputs": [
    {
     "name": "stdout",
     "output_type": "stream",
     "text": [
      "Yo soy de México\n"
     ]
    }
   ],
   "source": [
    "def mi_funcion(pais=\"México\"):\n",
    "    print(\"Yo soy de \"+ pais)\n",
    "\n",
    "mi_funcion()"
   ]
  },
  {
   "cell_type": "code",
   "execution_count": null,
   "id": "12e51c92",
   "metadata": {
    "id": "12e51c92",
    "outputId": "5c725d0c-bc31-458e-d060-0c21e7b41b2b"
   },
   "outputs": [
    {
     "name": "stdout",
     "output_type": "stream",
     "text": [
      "Yo soy de Alemania\n"
     ]
    }
   ],
   "source": [
    "mi_funcion(\"Alemania\")"
   ]
  },
  {
   "cell_type": "markdown",
   "id": "1ea1dd42",
   "metadata": {
    "id": "1ea1dd42"
   },
   "source": [
    "<a name='5'></a>\n",
    "\n",
    "# Pasando una estructura de datos como parámetros\n",
    "[regresar al contenido](#c1)\n",
    "\n",
    "Puedes enviar cualquier tipo de dato como argumento a una función (cadena, número, lista, diccionario, etc.), y se tratará como el mismo tipo de dato dentro de la función.\n",
    "\n",
    "Por ejemplo, si envías una lista como argumento, seguirá siendo una lista cuando llegue a la función."
   ]
  },
  {
   "cell_type": "code",
   "execution_count": null,
   "id": "bbb9aeba",
   "metadata": {
    "id": "bbb9aeba",
    "outputId": "0e1e810b-a2ce-42c0-9eed-3360bc5dded8"
   },
   "outputs": [
    {
     "name": "stdout",
     "output_type": "stream",
     "text": [
      "manzana\n",
      "banana\n",
      "mora\n"
     ]
    }
   ],
   "source": [
    "def mi_funcion(frutas):\n",
    "  for x in frutas:\n",
    "    print(x)\n",
    "\n",
    "frutas = [\"manzana\", \"banana\", \"mora\"]\n",
    "\n",
    "mi_funcion(frutas)"
   ]
  }
 ],
 "metadata": {
  "colab": {
   "include_colab_link": true,
   "provenance": []
  },
  "kernelspec": {
   "display_name": "Python 3 (ipykernel)",
   "language": "python",
   "name": "python3"
  },
  "language_info": {
   "codemirror_mode": {
    "name": "ipython",
    "version": 3
   },
   "file_extension": ".py",
   "mimetype": "text/x-python",
   "name": "python",
   "nbconvert_exporter": "python",
   "pygments_lexer": "ipython3",
   "version": "3.11.4"
  }
 },
 "nbformat": 4,
 "nbformat_minor": 5
}
