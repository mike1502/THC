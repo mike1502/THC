{
  "cells": [
    {
      "cell_type": "markdown",
      "metadata": {
        "id": "view-in-github",
        "colab_type": "text"
      },
      "source": [
        "<a href=\"https://colab.research.google.com/github/seismomat/HerramientasComputacionales/blob/main/NivelIntermedio/Modulos_Y_Bibliotecas/Random.ipynb\" target=\"_parent\"><img src=\"https://colab.research.google.com/assets/colab-badge.svg\" alt=\"Open In Colab\"/></a>"
      ]
    },
    {
      "cell_type": "markdown",
      "id": "0c4018bd",
      "metadata": {
        "id": "0c4018bd"
      },
      "source": [
        "<font color=\"Red\" face=\"Comic Sans MS,arial\">\n",
        "  <h1 align=\"center\"><i>Random </i></h1>\n",
        "  </font>\n",
        "  \n",
        "> Elaborado por: Jesús Iván Coss Calderón. mat_ing_coss@ciencias.unam.mx"
      ]
    },
    {
      "cell_type": "markdown",
      "id": "d572795c",
      "metadata": {
        "id": "d572795c"
      },
      "source": [
        "**Objetivo general**\n",
        "\n",
        "* Aprender los fundamentos del módulo Random\n",
        "\n",
        "**Objetivos particulares**\n",
        "\n",
        "* Entender el funcionamiento del módulo Random"
      ]
    },
    {
      "cell_type": "markdown",
      "id": "001e54d2",
      "metadata": {
        "id": "001e54d2"
      },
      "source": [
        "[**Regresa al notebook principal**](https://github.com/seismomat/HerramientasComputacionales/blob/main/TemarioDePython/Temario%20de%20Python.ipynb)"
      ]
    },
    {
      "cell_type": "markdown",
      "id": "b76ffc8a",
      "metadata": {
        "id": "b76ffc8a"
      },
      "source": [
        "<a name='c1'></a>\n",
        "\n",
        "## Contenido\n",
        "\n",
        "- [Seed](#1)\n",
        "- [getstate()](#2)\n",
        "- [radint()](#3)\n",
        "- [choice()](#4)"
      ]
    },
    {
      "cell_type": "markdown",
      "id": "269975e0",
      "metadata": {
        "id": "269975e0"
      },
      "source": [
        "<a name='1'></a>\n",
        "\n",
        "# Seed\n",
        "[regresar al contenido](#c1)\n",
        "\n",
        "El método seed() se utiliza para inicializar el generador de números aleatorios.\n",
        "\n",
        "El generador de números aleatorios necesita un número para empezar (un valor de semilla) para poder generar un número aleatorio."
      ]
    },
    {
      "cell_type": "code",
      "execution_count": null,
      "id": "da054a9c",
      "metadata": {
        "id": "da054a9c",
        "outputId": "2c8cdcf6-9ff4-4bf8-a992-41d980ca4397"
      },
      "outputs": [
        {
          "name": "stdout",
          "output_type": "stream",
          "text": [
            "0.5714025946899135\n"
          ]
        }
      ],
      "source": [
        "import random\n",
        "\n",
        "random.seed(10)\n",
        "print(random.random())"
      ]
    },
    {
      "cell_type": "markdown",
      "id": "d003deb7",
      "metadata": {
        "id": "d003deb7"
      },
      "source": [
        "<a name='2'></a>\n",
        "\n",
        "# getstate()\n",
        "[regresar al contenido](#c1)\n",
        "\n",
        "El método getstate() devuelve un objeto con el estado actual del generador de números aleatorios.\n",
        "\n",
        "Utiliza este método para capturar el estado y luego utiliza el método setstate() con el estado capturado para restaurar el estado."
      ]
    },
    {
      "cell_type": "code",
      "execution_count": null,
      "id": "a7c7c289",
      "metadata": {
        "id": "a7c7c289",
        "outputId": "bc2695d6-e9ad-4eca-9901-51f5c7d2671b"
      },
      "outputs": [
        {
          "name": "stdout",
          "output_type": "stream",
          "text": [
            "(3, (2910518045, 2919558713, 592432859, 1634426085, 3924201493, 2436393689, 1577666200, 2922410003, 974169664, 795094350, 229866157, 130904809, 1313496028, 151893204, 3486739395, 1254617844, 3741002464, 4043461294, 940567236, 3349574631, 3489906999, 3261599347, 2403221536, 670872903, 3291149686, 2850655986, 2300538667, 1966995484, 175963536, 924945844, 1168257397, 2243822545, 2476790015, 2148121793, 3534563085, 1634343159, 2195478836, 1940344654, 370949334, 790535762, 1834814106, 4193214965, 3695000399, 2646949069, 1255132785, 3590688196, 3614018245, 1434516408, 1253983818, 2914647727, 2606531973, 2406691187, 1975526356, 189193241, 1108539432, 2680589103, 1694965793, 1270659808, 2973657439, 2369101683, 3184678051, 2395301497, 3818025635, 2083282924, 2495703181, 2124728846, 2038113894, 4244989963, 1156889065, 862609957, 2423551262, 3819059707, 663961624, 1681714007, 956580344, 1691052737, 2131558558, 654187240, 632833144, 3714198047, 567096537, 899554154, 1802427323, 749355744, 2193727072, 814094773, 1966673377, 3483188262, 3304963165, 1367177032, 3891513754, 2505812233, 2020523939, 1985742846, 626704061, 2653107502, 369960010, 286620024, 1371527384, 3694698447, 857611653, 869587454, 2700337194, 2374526720, 49116546, 643099391, 182535168, 3408150791, 1262701388, 2044935380, 66933741, 1206230504, 3689390267, 3730160777, 1209037781, 3887489275, 4160956783, 3262330543, 1378506881, 213395142, 4003002911, 1240622885, 1127976482, 862859126, 951706629, 423108747, 795053686, 963998611, 1732453326, 736754916, 848978347, 3030738943, 3997094088, 3230629491, 2362366182, 380869993, 1437617939, 4032723754, 2655721859, 494454313, 3031980635, 3186607144, 1650607978, 4217776597, 4190195720, 725273803, 4006933892, 2918307247, 2612992595, 3215906428, 2851350426, 138902605, 1697094929, 2328216144, 394484776, 1652463476, 1630639266, 3699042210, 290713434, 3556002357, 1343746095, 1326206488, 655702823, 104936293, 2562826877, 1655598022, 3369850420, 2464204480, 3646132136, 3777599822, 3250707394, 1311671700, 660106068, 2666540169, 3855967181, 3367262877, 3654600570, 4182463737, 2035454178, 3131455025, 3350888983, 2034228846, 3896381437, 553700319, 1513975352, 696913668, 899881025, 2219743994, 1037817141, 1134907302, 393009801, 1982642987, 2425999375, 791671476, 3795955847, 1034404248, 4020367997, 27481502, 1351841369, 2355714421, 2404611283, 479609721, 1112463824, 3928318551, 938984560, 719567750, 110352693, 1639696170, 3186598251, 761292111, 475645688, 2270995138, 728894833, 2926173947, 1320936647, 3383250105, 65720013, 2671014330, 2847387027, 2969121075, 3329352935, 3770288520, 3964206281, 4168182361, 1707359060, 1408257001, 3450715693, 628449203, 610896409, 588905957, 1322830820, 3640462283, 4044750620, 2988164925, 4083824041, 1990129261, 4156233382, 3627401237, 3211010341, 1666616239, 2972480848, 844583042, 44704583, 3282062939, 2321904370, 13127913, 2065944849, 2364468384, 476631061, 3534359369, 1647310850, 266968272, 3454720710, 1795924682, 1820316222, 2507582687, 1496785810, 3992024104, 2288242718, 1335683996, 723170702, 1489652666, 3949068654, 320306710, 4039547071, 1817806802, 3128530084, 1963667656, 2299476734, 2214544820, 256065957, 976636793, 438871982, 3257022782, 3658046347, 1888125657, 3003359985, 3232519787, 2193873780, 2536958314, 612736659, 1757352080, 4126160663, 4208600692, 3357929051, 1349803408, 709797723, 2862193196, 2733865338, 1847917732, 2982838690, 756992610, 416120390, 1772328840, 3511192812, 3639215236, 581323757, 3429866854, 3299034763, 81263526, 2143662131, 3509206122, 1142149236, 2288638797, 2314182509, 3192068459, 2648103877, 31364268, 2871284653, 1933723073, 3554926164, 3163027549, 896467848, 3570120642, 4038118284, 392098617, 1167346532, 1785455384, 2033872205, 1693658308, 2059628508, 2889657430, 2071562487, 4113666792, 3822310955, 3533962258, 1371655696, 1403861461, 421464014, 3959461194, 4149058179, 1086465771, 1015946246, 2621382350, 2000582283, 2881047661, 1627167598, 3039242003, 870964291, 3355521124, 2260981, 1193867314, 1982094414, 3007508121, 2789947772, 167554690, 3028775942, 3246523627, 3674172133, 2758002636, 1559765501, 2027717592, 2915111825, 1190458685, 1058903556, 2432688681, 971451939, 1888620569, 975460118, 1624467345, 136309091, 3997234029, 598318846, 2989382797, 3608316101, 45266846, 1528146332, 1965658838, 3637786198, 2524595919, 4232358541, 1631453446, 1639144870, 4020252532, 3236917143, 1360250576, 2788984411, 3762745571, 3613352771, 3217621372, 301525683, 1343328237, 376601489, 1111565393, 3852204545, 425855701, 3603214514, 336697868, 803277263, 4248673218, 3324796209, 1656738380, 3899708684, 4031041788, 2708835100, 1110160947, 1298501877, 1740735328, 862669803, 3200748959, 1070336453, 1445010694, 780106578, 153499529, 1688823727, 3505867478, 2474839954, 4132413130, 3784848098, 2090083651, 4108657297, 1011350285, 1479116717, 988654479, 1105442054, 380740504, 3203487161, 2643610060, 3322988986, 3221217626, 3592249213, 2779884253, 2044186223, 3076165135, 3806351734, 3060357717, 2863011615, 1169058161, 1113969302, 1045981805, 311464233, 2236176646, 1435805243, 3509008257, 2512719556, 3206195232, 1171330831, 3022981576, 3076049986, 1677146765, 3823183119, 1331676465, 774674370, 2425031589, 3005427466, 3407759373, 3141051671, 3903949247, 3364298405, 1079187575, 3726093522, 2717490088, 3888044370, 1773096918, 123582274, 3938703114, 116639222, 1093335968, 4230241756, 592927768, 1215086274, 990026541, 2309421364, 1242303966, 996591525, 4178510717, 3476836050, 2178247059, 3556310446, 2628742925, 122665979, 1780590194, 2922761788, 1222392510, 631653315, 3959254022, 3653793144, 612798403, 3314303312, 3895051139, 1208878662, 484620038, 3626750088, 3921956316, 3904249617, 3353478870, 249377279, 1753034227, 3565445698, 2095500303, 2480455683, 1292245244, 946291267, 684375320, 104145271, 2913686448, 2225127489, 2472333904, 750174656, 4004286304, 4085497527, 3271252141, 1864494644, 4199917053, 1358886282, 358292498, 2284423264, 797448349, 2293886434, 2336156133, 2389862705, 1443734706, 1644943784, 4261302510, 3324227082, 2865938428, 3042091860, 454590046, 1243572319, 1931670576, 709576968, 1404809709, 434868187, 2115929572, 4209433267, 1742225740, 824328396, 2952650178, 3096666239, 2887532264, 4149344548, 2648994466, 1276043052, 2495228838, 3764729951, 730275817, 4277707459, 1591279516, 312613621, 1748807698, 397249599, 3326824925, 892425536, 1889212692, 1705415062, 2399075847, 2028569480, 2077597603, 559770995, 216133874, 813523529, 1663090043, 1327536309, 1126315189, 3535249660, 1641628170, 348337888, 3109355426, 4058285115, 859672864, 2699711497, 816683043, 2182992420, 1814760603, 3746802868, 3646961272, 3713358315, 492059394, 1300908413, 3272406897, 1809600926, 2628610618, 244337251, 1948103926, 991353850, 543539075, 1534159671, 1747272920, 4028644690, 2570417421, 2025455257, 1249379269, 2357813788, 266006694, 1706446538, 1938738160, 2482161797, 3559851357, 3073890391, 227514435, 152405858, 1227333167, 261909105, 3384151334, 1102033054, 197708743, 1157470553, 478563148, 440882900, 686627002, 357675544, 477440013, 1561143843, 2428402127, 3322010885, 3820876946, 3288851063, 2607677986, 222929805, 4257935406, 3469582068, 3578401122, 3245095917, 1435026106, 1525707182, 1550874090, 3218908085, 1476614429, 1169975610, 1160989991, 1383567367, 4084887544, 2096043608, 2194693540, 2), None)\n"
          ]
        }
      ],
      "source": [
        "import random\n",
        "\n",
        "print(random.getstate())"
      ]
    },
    {
      "cell_type": "markdown",
      "id": "334a05cf",
      "metadata": {
        "id": "334a05cf"
      },
      "source": [
        "<a name='3'></a>\n",
        "\n",
        "# radint()\n",
        "[regresar al contenido](#c1)\n",
        "\n",
        "El método randint() devuelve un número entero seleccionado de forma aleatoria dentro del rango especificado."
      ]
    },
    {
      "cell_type": "code",
      "execution_count": null,
      "id": "635946a6",
      "metadata": {
        "id": "635946a6",
        "outputId": "a33d710f-d68e-4b1d-d871-8461854161b7"
      },
      "outputs": [
        {
          "name": "stdout",
          "output_type": "stream",
          "text": [
            "6\n"
          ]
        }
      ],
      "source": [
        "import random\n",
        "\n",
        "print(random.randint(3, 9))"
      ]
    },
    {
      "cell_type": "markdown",
      "id": "20082363",
      "metadata": {
        "id": "20082363"
      },
      "source": [
        "<a name='4'></a>\n",
        "\n",
        "# choice()\n",
        "[regresar al contenido](#c1)\n",
        "\n",
        "El método choice() devuelve un elemento seleccionado al azar de la secuencia especificada. La secuencia puede ser una cadena (string), un rango (range), una lista (list), una tupla (tuple) u cualquier otro tipo de secuencia."
      ]
    },
    {
      "cell_type": "code",
      "execution_count": null,
      "id": "6588db43",
      "metadata": {
        "id": "6588db43",
        "outputId": "b3752894-47bd-4ad9-b231-60ea0d798057"
      },
      "outputs": [
        {
          "name": "stdout",
          "output_type": "stream",
          "text": [
            "banana\n"
          ]
        }
      ],
      "source": [
        "import random\n",
        "\n",
        "mylist = [\"apple\", \"banana\", \"cherry\"]\n",
        "\n",
        "print(random.choice(mylist))"
      ]
    },
    {
      "cell_type": "markdown",
      "id": "ac6d62d8",
      "metadata": {
        "id": "ac6d62d8"
      },
      "source": [
        "Lista de diversas funciones relacionadas con la generación de números aleatorios en el módulo random de Python, junto con breves descripciones\n",
        "\n",
        "| Función           | Descripción                                        |\n",
        "|-------------------|----------------------------------------------------|\n",
        "| `seed()`          | Inicializa el generador de números aleatorios.     |\n",
        "| `getstate()`      | Devuelve el estado interno actual del generador de números aleatorios. |\n",
        "| `setstate()`      | Restaura el estado interno del generador de números aleatorios. |\n",
        "| `getrandbits()`   | Devuelve un número que representa los bits aleatorios. |\n",
        "| `randrange()`     | Devuelve un número aleatorio dentro de un rango especificado. |\n",
        "| `randint()`       | Devuelve un número aleatorio dentro de un rango especificado. |\n",
        "| `choice()`        | Devuelve un elemento aleatorio de la secuencia especificada. |\n",
        "| `choices()`       | Devuelve una lista con una selección aleatoria de la secuencia especificada. |\n",
        "| `shuffle()`       | Toma una secuencia y la devuelve en un orden aleatorio. |\n",
        "| `sample()`        | Devuelve una muestra especificada de una secuencia. |\n",
        "| `random()`        | Devuelve un número decimal aleatorio entre 0 y 1.  |\n",
        "| `uniform()`       | Devuelve un número decimal aleatorio entre dos parámetros especificados. |\n",
        "| `triangular()`    | Devuelve un número decimal aleatorio entre dos parámetros, con un punto medio opcional. |\n",
        "| `betavariate()`   | Devuelve un número decimal aleatorio basado en la distribución Beta. |\n",
        "| `expovariate()`   | Devuelve un número decimal aleatorio basado en la distribución Exponencial. |\n",
        "| `gammavariate()`  | Devuelve un número decimal aleatorio basado en la distribución Gamma. |\n",
        "| `gauss()`         | Devuelve un número decimal aleatorio basado en la distribución Gaussiana (normal). |\n",
        "| `lognormvariate()`| Devuelve un número decimal aleatorio basado en la distribución log-normal. |\n",
        "| `normalvariate()` | Devuelve un número decimal aleatorio basado en la distribución normal. |\n",
        "| `vonmisesvariate()`| Devuelve un número decimal aleatorio basado en la distribución von Mises. |\n",
        "| `paretovariate()` | Devuelve un número decimal aleatorio basado en la distribución de Pareto. |\n",
        "| `weibullvariate()` | Devuelve un número decimal aleatorio basado en la distribución Weibull. |\n"
      ]
    }
  ],
  "metadata": {
    "kernelspec": {
      "display_name": "Python 3 (ipykernel)",
      "language": "python",
      "name": "python3"
    },
    "language_info": {
      "codemirror_mode": {
        "name": "ipython",
        "version": 3
      },
      "file_extension": ".py",
      "mimetype": "text/x-python",
      "name": "python",
      "nbconvert_exporter": "python",
      "pygments_lexer": "ipython3",
      "version": "3.9.12"
    },
    "colab": {
      "provenance": [],
      "include_colab_link": true
    }
  },
  "nbformat": 4,
  "nbformat_minor": 5
}