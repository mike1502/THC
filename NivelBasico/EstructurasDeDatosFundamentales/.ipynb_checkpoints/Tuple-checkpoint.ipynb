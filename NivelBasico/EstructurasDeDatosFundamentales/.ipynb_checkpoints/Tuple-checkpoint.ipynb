{
 "cells": [
  {
   "cell_type": "markdown",
   "id": "03d4cb59",
   "metadata": {
    "colab_type": "text",
    "id": "view-in-github"
   },
   "source": [
    "<a href=\"https://colab.research.google.com/github/seismomat/HerramientasComputacionales/blob/Ivan/Tuple.ipynb\" target=\"_parent\"><img src=\"https://colab.research.google.com/assets/colab-badge.svg\" alt=\"Open In Colab\"/></a>"
   ]
  },
  {
   "cell_type": "markdown",
   "id": "0598806e",
   "metadata": {
    "id": "0598806e"
   },
   "source": [
    "<font color=\"Red\" face=\"Comic Sans MS,arial\">\n",
    "  <h1 align=\"center\"><i>Tuplas </i></h1>\n",
    "  </font>\n",
    "  \n",
    "> Elaborado por: Jesús Iván Coss Calderón. mat_ing_coss@ciencias.unam.mx"
   ]
  },
  {
   "cell_type": "markdown",
   "id": "892493c5",
   "metadata": {
    "id": "892493c5"
   },
   "source": [
    "**Objetivo general**\n",
    "\n",
    "* Aprender los fundamentos de la estructura de datos conocida como tuplas\n",
    "\n",
    "**Objetivos particulares**\n",
    "\n",
    "* Entender los métodos de la clase tuple"
   ]
  },
  {
   "cell_type": "markdown",
   "id": "47c27379",
   "metadata": {
    "id": "47c27379"
   },
   "source": [
    "[**Regresa al notebook principal**](https://github.com/seismomat/HerramientasComputacionales/blob/main/TemarioDePython/Temario%20de%20Python.ipynb)"
   ]
  },
  {
   "cell_type": "markdown",
   "id": "bba08db4",
   "metadata": {
    "id": "bba08db4"
   },
   "source": [
    "<a name='c1'></a>\n",
    "\n",
    "## Contenido\n",
    "\n",
    "- [Tuplas](#1)\n",
    "    - [Declaración](#1-1)\n",
    "    - [Tipo de dato o clase](#1-2)\n",
    "    - [Método de acceso a elementos](#1-3)\n",
    "    - [Borrar elementos en una tupla](#1-4)\n",
    "    - [Agregar elementos](#1-5)\n",
    "    - [Longitud de la tupla](#1-6)\n",
    "- [Ejemplo](#2)\n",
    "- [Tipos de datos en una tupla](#3)\n",
    "- [Pasar valores de una lista a una tupla](#4)\n",
    "- [Utilidad de las tuplas](#5)\n",
    "- [Ejercicios propuestos](#6)"
   ]
  },
  {
   "cell_type": "markdown",
   "id": "fa9de960",
   "metadata": {
    "id": "fa9de960"
   },
   "source": [
    "<a name='1'></a>\n",
    "\n",
    "# Tuplas\n",
    "[regresar al contenido](#c1)\n",
    "\n",
    "\n",
    "Una tupla es una colección ordenada e inmutable de elementos. A diferencia de las listas, las tuplas no pueden modificarse después de su creación. Se definen utilizando paréntesis y pueden contener diferentes tipos de elementos, como números, cadenas, booleanos, e incluso otras tuplas. Las tuplas son útiles cuando necesitas almacenar un conjunto de valores que no deben cambiar.\n"
   ]
  },
  {
   "cell_type": "markdown",
   "id": "2523b049",
   "metadata": {
    "id": "2523b049"
   },
   "source": [
    "<a name='1-1'></a>\n",
    "\n",
    "## Declaración\n",
    "[regresar al contenido](#c1)\n",
    "\n",
    "La manera de declarar una tupla es la siguiente"
   ]
  },
  {
   "cell_type": "code",
   "execution_count": 1,
   "id": "089653d8",
   "metadata": {
    "id": "089653d8",
    "outputId": "45014355-983b-48af-f623-588415019536"
   },
   "outputs": [
    {
     "name": "stdout",
     "output_type": "stream",
     "text": [
      "(1, 2, 3, 'Hola', True)\n"
     ]
    }
   ],
   "source": [
    "# Crear una tupla\n",
    "mi_tupla = (1, 2, 3, \"Hola\", True)\n",
    "print(mi_tupla)"
   ]
  },
  {
   "cell_type": "markdown",
   "id": "bf21d662",
   "metadata": {
    "id": "bf21d662"
   },
   "source": [
    "<a name='1-2'></a>\n",
    "\n",
    "## Tipo de dato o clase\n",
    "[regresar al contenido](#c1)\n",
    "\n",
    "Cabe mencionar que la clase de dicha estructura es **tupla**, como se observa a continuación"
   ]
  },
  {
   "cell_type": "code",
   "execution_count": 2,
   "id": "26528169",
   "metadata": {
    "id": "26528169",
    "outputId": "7ff5470a-03b3-43e1-b149-49efcaa68a5a"
   },
   "outputs": [
    {
     "name": "stdout",
     "output_type": "stream",
     "text": [
      "<class 'tuple'>\n"
     ]
    }
   ],
   "source": [
    "print(type(mi_tupla))"
   ]
  },
  {
   "cell_type": "markdown",
   "id": "c654166f",
   "metadata": {
    "id": "c654166f"
   },
   "source": [
    "<a name='1-3'></a>\n",
    "\n",
    "## Método de acceso a elementos\n",
    "[regresar al contenido](#c1)\n",
    "\n",
    "La manera para visualizar un elemento específico de la lista es **nombre_lista [indice]**"
   ]
  },
  {
   "cell_type": "code",
   "execution_count": 3,
   "id": "d157b8aa",
   "metadata": {
    "id": "d157b8aa",
    "outputId": "b177d74c-3d58-445b-c910-91a068f03407"
   },
   "outputs": [
    {
     "name": "stdout",
     "output_type": "stream",
     "text": [
      "1\n",
      "Hola\n"
     ]
    }
   ],
   "source": [
    "# Acceder a elementos de la tupla por índice\n",
    "print(mi_tupla[0])  # Imprime: 1\n",
    "print(mi_tupla[3])  # Imprime: Hola"
   ]
  },
  {
   "cell_type": "markdown",
   "id": "5cbba2cc",
   "metadata": {
    "id": "5cbba2cc"
   },
   "source": [
    "<a name='1-4'></a>\n",
    "\n",
    "## Borrar elementos en una tupla\n",
    "[regresar al contenido](#c1)"
   ]
  },
  {
   "cell_type": "markdown",
   "id": "98b84393",
   "metadata": {
    "id": "98b84393"
   },
   "source": [
    "Si desea borrar el valor de la lista en un índice específico se hace de la siguiente manera "
   ]
  },
  {
   "cell_type": "code",
   "execution_count": 7,
   "id": "35a93859",
   "metadata": {
    "id": "35a93859",
    "outputId": "b3fa3d64-a887-48c8-ee81-51b2559e7761"
   },
   "outputs": [],
   "source": [
    "mi_tupla = (1, 2, 3, 4, 5)\n",
    "\n",
    "elemento_a_borrar = 3\n",
    "nueva_tupla = tuple(elemento for elemento in mi_tupla if elemento != elemento_a_borrar)"
   ]
  },
  {
   "cell_type": "markdown",
   "id": "470c9eb0",
   "metadata": {
    "id": "470c9eb0"
   },
   "source": [
    "<a name='1-5'></a>\n",
    "\n",
    "## Agregar elementos\n",
    "[regresar al contenido](#c1)"
   ]
  },
  {
   "cell_type": "markdown",
   "id": "fbdb1ce0",
   "metadata": {
    "id": "fbdb1ce0"
   },
   "source": [
    "Para agregar una nueva variable se realiza de la siguiente manera "
   ]
  },
  {
   "cell_type": "code",
   "execution_count": 11,
   "id": "1d68d1e7",
   "metadata": {
    "id": "1d68d1e7"
   },
   "outputs": [
    {
     "name": "stdout",
     "output_type": "stream",
     "text": [
      "(1, 2, 3, 4, 5)\n"
     ]
    }
   ],
   "source": [
    "mi_lista = [1, 2, 3]\n",
    "mi_lista.append(4)\n",
    "mi_lista.append(5)\n",
    "mi_lista=tuple(mi_lista)\n",
    "print(mi_lista)  # Resultado: [1, 2, 3, 4, 5]"
   ]
  },
  {
   "cell_type": "markdown",
   "id": "b9aded12",
   "metadata": {
    "id": "b9aded12"
   },
   "source": [
    "<a name='1-6'></a>\n",
    "\n",
    "## Longitud de la tupla\n",
    "[regresar al contenido](#c1)\n",
    "\n",
    "Para obtener de la longitud de la tupla se hace con el método **len**"
   ]
  },
  {
   "cell_type": "code",
   "execution_count": null,
   "id": "9ef38df9",
   "metadata": {
    "id": "9ef38df9",
    "outputId": "e9e678cb-c914-4746-8759-57fa8ddc5014"
   },
   "outputs": [],
   "source": [
    "thistuple = (\"apple\", \"banana\", \"cherry\")\n",
    "print(len(thistuple))"
   ]
  },
  {
   "cell_type": "markdown",
   "id": "44fbd2b3",
   "metadata": {
    "id": "44fbd2b3"
   },
   "source": [
    "<a name='2'></a>\n",
    "\n",
    "# Ejemplo\n",
    "[regresar al contenido](#c1)\n",
    "\n",
    "Se puede iterar sobre los elementos de la tupla"
   ]
  },
  {
   "cell_type": "code",
   "execution_count": null,
   "id": "c8237473",
   "metadata": {
    "id": "c8237473",
    "outputId": "be662c70-ad8a-4f89-c89f-f1f4e896a5a1"
   },
   "outputs": [],
   "source": [
    "for fruta in frutas:\n",
    "    print(fruta)"
   ]
  },
  {
   "cell_type": "markdown",
   "id": "98bfec92",
   "metadata": {
    "id": "98bfec92"
   },
   "source": [
    "También se puede utilizar la estructura de control if-elseif-else"
   ]
  },
  {
   "cell_type": "code",
   "execution_count": null,
   "id": "83ad4cb5",
   "metadata": {
    "id": "83ad4cb5",
    "outputId": "54d5d32c-7d35-4eb3-814b-2671369ee5a4"
   },
   "outputs": [],
   "source": [
    "if 'manzana' in frutas:\n",
    "    print('Sí, la manzana está en la tupla.')"
   ]
  },
  {
   "cell_type": "markdown",
   "id": "01d6e36c",
   "metadata": {
    "id": "01d6e36c"
   },
   "source": [
    "<a name='3'></a>\n",
    "\n",
    "# Tipos de datos en una tupla\n",
    "[regresar al contenido](#c1)\n",
    "\n",
    "En una tupla se pueden guardar todo tipo de variables y tipos de datos."
   ]
  },
  {
   "cell_type": "code",
   "execution_count": null,
   "id": "e1d2a9fb",
   "metadata": {
    "id": "e1d2a9fb"
   },
   "outputs": [],
   "source": [
    "tuple1 = (\"abc\", 34, True, 40.56, \"male\")"
   ]
  },
  {
   "cell_type": "code",
   "execution_count": null,
   "id": "8626a887",
   "metadata": {
    "id": "8626a887",
    "outputId": "7e4a8b12-e6aa-4c41-b0fa-f3bab2f427b5"
   },
   "outputs": [],
   "source": [
    "tuple1 "
   ]
  },
  {
   "cell_type": "markdown",
   "id": "68917abf",
   "metadata": {
    "id": "68917abf"
   },
   "source": [
    "<a name='4'></a>\n",
    "\n",
    "# Pasar valores de una lista a una tupla\n",
    "[regresar al contenido](#c1)"
   ]
  },
  {
   "cell_type": "code",
   "execution_count": null,
   "id": "8eab08a3",
   "metadata": {
    "id": "8eab08a3",
    "outputId": "06e4cb4b-32ef-4e7a-fd1f-1930b4e8aa50"
   },
   "outputs": [],
   "source": [
    "lista = [1, 2, 3, 4, 5]\n",
    "tupla = tuple(lista)\n",
    "\n",
    "print(tupla)  # Imprime: (1, 2, 3, 4, 5)"
   ]
  },
  {
   "cell_type": "markdown",
   "id": "06c413ef",
   "metadata": {
    "id": "06c413ef"
   },
   "source": [
    "<a name='5'></a>\n",
    "\n",
    "# Utilidad de las tuplas\n",
    "[regresar al contenido](#c1)"
   ]
  },
  {
   "cell_type": "code",
   "execution_count": null,
   "id": "2c99d518",
   "metadata": {
    "id": "2c99d518",
    "outputId": "1100cb74-a3b8-4df3-9cbe-110ba9dcbe4b"
   },
   "outputs": [],
   "source": [
    "# Definir tuplas para coordenadas\n",
    "punto1 = (3, 5)\n",
    "punto2 = (-2, 7)\n",
    "punto3 = (0, 0)\n",
    "\n",
    "# Acceder a los valores de las coordenadas\n",
    "x1, y1 = punto1\n",
    "x2, y2 = punto2\n",
    "x3, y3 = punto3\n",
    "\n",
    "# Calcular la distancia entre dos puntos\n",
    "def distancia(p1, p2):\n",
    "    x1, y1 = p1\n",
    "    x2, y2 = p2\n",
    "    return ((x2 - x1)**2 + (y2 - y1)**2)**0.5\n",
    "\n",
    "distancia_entre_puntos = distancia(punto1, punto2)\n",
    "print(\"La distancia entre punto1 y punto2 es:\", distancia_entre_puntos)\n"
   ]
  },
  {
   "cell_type": "markdown",
   "id": "90451fc5",
   "metadata": {
    "id": "90451fc5"
   },
   "source": [
    "<a name='6'></a>\n",
    "\n",
    "# Ejercicios propuestos\n",
    "[regresar al contenido](#c1)"
   ]
  },
  {
   "cell_type": "markdown",
   "id": "d986e8d0",
   "metadata": {
    "id": "d986e8d0"
   },
   "source": [
    "Propuestas de ejercicios para practicar con tuplas en Python:\n",
    "\n",
    "1. **Promedio y Mayor Valor:** Escribe una función que reciba una lista de tuplas, donde cada tupla contiene el nombre de un estudiante y su calificación. La función debe calcular el promedio de las calificaciones y encontrar el estudiante con la calificación más alta.\n",
    "\n",
    "2. **Conteo de Elementos:** Crea una función que tome una lista de elementos y devuelva una tupla que contenga la cantidad de elementos únicos y la cantidad total de elementos en la lista.\n",
    "\n",
    "3. **Ordenación Personalizada:** Escribe una función que tome una lista de tuplas, donde cada tupla contiene un nombre y una edad. La función debe ordenar las tuplas en función de la edad de manera ascendente.\n",
    "\n",
    "4. **Desempaquetado de Tuplas:** Crea una función que reciba una lista de tuplas, donde cada tupla contiene el nombre de un producto y su precio. La función debe calcular el precio total de todos los productos.\n",
    "\n",
    "5. **Frecuencia de Elementos:** Escribe una función que tome una lista de elementos y devuelva un diccionario donde las claves son los elementos únicos y los valores son las frecuencias de esos elementos en la lista.\n",
    "\n",
    "6. **Mezcla de Listas:** Crea una función que tome dos listas del mismo tamaño y las mezcle en una lista de tuplas, donde cada tupla contiene un elemento de la primera lista y un elemento correspondiente de la segunda lista.\n",
    "\n",
    "7. **División de Palabras:** Implementa una función que tome una cadena de texto y la divida en palabras. Devuelve una lista de tuplas donde cada tupla contiene una palabra y la longitud de esa palabra.\n",
    "\n",
    "8. **Puntos en el Plano:** Escribe una función que tome una lista de tuplas, donde cada tupla contiene las coordenadas (x, y) de un punto en el plano. La función debe calcular la distancia promedio de todos los puntos al origen (0, 0).\n",
    "\n",
    "9. **Clasificación de Valores:** Crea una función que tome una lista de valores y una tupla de rangos (inicio, fin). La función debe clasificar los valores en función de si están dentro del rango o no.\n",
    "\n",
    "10. **Cálculo de Coordenadas:** Implementa una función que tome una lista de tuplas, donde cada tupla contiene un ángulo en grados y una distancia radial. La función debe calcular las coordenadas cartesianas (x, y) de cada punto en función de sus ángulos y distancias.\n",
    "\n",
    "Estos ejercicios te ayudarán a practicar y comprender cómo trabajar con tuplas en diferentes situaciones. Puedes adaptarlos y modificarlos según tu nivel de conocimiento y preferencias. ¡Diviértete resolviendo estos desafíos con tuplas!"
   ]
  }
 ],
 "metadata": {
  "colab": {
   "include_colab_link": true,
   "provenance": []
  },
  "kernelspec": {
   "display_name": "Python 3 (ipykernel)",
   "language": "python",
   "name": "python3"
  },
  "language_info": {
   "codemirror_mode": {
    "name": "ipython",
    "version": 3
   },
   "file_extension": ".py",
   "mimetype": "text/x-python",
   "name": "python",
   "nbconvert_exporter": "python",
   "pygments_lexer": "ipython3",
   "version": "3.11.4"
  }
 },
 "nbformat": 4,
 "nbformat_minor": 5
}
