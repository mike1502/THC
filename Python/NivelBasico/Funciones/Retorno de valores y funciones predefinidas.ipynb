{
  "cells": [
    {
      "cell_type": "markdown",
      "metadata": {
        "id": "view-in-github",
        "colab_type": "text"
      },
      "source": [
        "<a href=\"https://colab.research.google.com/github/seismomat/HerramientasComputacionales/blob/main/NivelBasico/Funciones/Retorno%20de%20valores%20y%20funciones%20predefinidas.ipynb\" target=\"_parent\"><img src=\"https://colab.research.google.com/assets/colab-badge.svg\" alt=\"Open In Colab\"/></a>"
      ]
    },
    {
      "cell_type": "markdown",
      "id": "0c4018bd",
      "metadata": {
        "id": "0c4018bd"
      },
      "source": [
        "<font color=\"Red\" face=\"Comic Sans MS,arial\">\n",
        "  <h1 align=\"center\"><i>Retorno de valores y funciones predefinidas </i></h1>\n",
        "  </font>\n",
        "  \n",
        "> Elaborado por: Jesús Iván Coss Calderón. mat_ing_coss@ciencias.unam.mx"
      ]
    },
    {
      "cell_type": "markdown",
      "id": "d572795c",
      "metadata": {
        "id": "d572795c"
      },
      "source": [
        "**Objetivo general**\n",
        "\n",
        "* Aprender los fundamentos de la declaración de funciones\n",
        "\n",
        "**Objetivos particulares**\n",
        "\n",
        "* Entender la elaboración de funciones con retorno de valores"
      ]
    },
    {
      "cell_type": "markdown",
      "id": "001e54d2",
      "metadata": {
        "id": "001e54d2"
      },
      "source": [
        "[**Regresa al notebook principal**](https://github.com/seismomat/HerramientasComputacionales/blob/main/TemarioDePython/Temario%20de%20Python.ipynb)"
      ]
    },
    {
      "cell_type": "markdown",
      "id": "b76ffc8a",
      "metadata": {
        "id": "b76ffc8a"
      },
      "source": [
        "<a name='c1'></a>\n",
        "\n",
        "## Contenido\n",
        "\n",
        "- [Retorno de valores](#1)\n",
        "- [Sentencia Pass](#2)\n",
        "- [Funciones predefinidas](#3)\n",
        "    - [Máximo y mínimo](#3-1)\n",
        "    - [Suma](#3-2)\n",
        "    - [Round](#3-3)\n",
        "    - [len](#3-4)\n",
        "    - [Range](#3-5)\n",
        "- [Ejercicios propuestos](#4)"
      ]
    },
    {
      "cell_type": "markdown",
      "id": "269975e0",
      "metadata": {
        "id": "269975e0"
      },
      "source": [
        "<a name='1'></a>\n",
        "\n",
        "# Retorno de valores\n",
        "[regresar al contenido](#c1)\n",
        "\n",
        "Para que una función devuelva valores, se debe utilizar la sentencia `return`"
      ]
    },
    {
      "cell_type": "code",
      "execution_count": null,
      "id": "cc320d22",
      "metadata": {
        "id": "cc320d22",
        "outputId": "df6b2563-2999-46bc-edcf-3d52865bf6a9"
      },
      "outputs": [
        {
          "name": "stdout",
          "output_type": "stream",
          "text": [
            "15\n"
          ]
        }
      ],
      "source": [
        "def mi_funcion(x):\n",
        "  return 5 * x\n",
        "\n",
        "print(mi_funcion(3))"
      ]
    },
    {
      "cell_type": "markdown",
      "id": "d003deb7",
      "metadata": {
        "id": "d003deb7"
      },
      "source": [
        "<a name='2'></a>\n",
        "\n",
        "# Sentencia Pass\n",
        "[regresar al contenido](#c1)\n",
        "\n",
        "Las definiciones de funciones no pueden estar vacías, pero si por alguna razón tienes una definición de función sin contenido, puedes usar la declaración `pass` para evitar que se produzca un error."
      ]
    },
    {
      "cell_type": "code",
      "execution_count": null,
      "id": "a7c7c289",
      "metadata": {
        "id": "a7c7c289"
      },
      "outputs": [],
      "source": [
        "def mi_funcion(x):\n",
        "  pass"
      ]
    },
    {
      "cell_type": "markdown",
      "id": "334a05cf",
      "metadata": {
        "id": "334a05cf"
      },
      "source": [
        "<a name='3'></a>\n",
        "\n",
        "# Funciones predefinidas\n",
        "[regresar al contenido](#c1)"
      ]
    },
    {
      "cell_type": "markdown",
      "id": "20082363",
      "metadata": {
        "id": "20082363"
      },
      "source": [
        "<a name='3-1'></a>\n",
        "\n",
        "## Máximo y mínimo\n",
        "[regresar al contenido](#c1)\n",
        "\n",
        "El máximo de una lista o arreglo de obtiene con el comando `max(lista)` y el mínimo con el comando `min(lista)`"
      ]
    },
    {
      "cell_type": "code",
      "execution_count": null,
      "id": "66ef390c",
      "metadata": {
        "id": "66ef390c",
        "outputId": "63feb077-ee5d-42dc-dfd1-ed0095d57e59"
      },
      "outputs": [
        {
          "name": "stdout",
          "output_type": "stream",
          "text": [
            "12 3\n"
          ]
        }
      ],
      "source": [
        "numbers = [5, 12, 8, 3]\n",
        "max_num = max(numbers)\n",
        "min_num = min(numbers)\n",
        "print(max_num, min_num)  # Salida: 12 3"
      ]
    },
    {
      "cell_type": "markdown",
      "id": "ddbd9e00",
      "metadata": {
        "id": "ddbd9e00"
      },
      "source": [
        "<a name='3-2'></a>\n",
        "\n",
        "## Suma\n",
        "[regresar al contenido](#c1)\n",
        "\n",
        "La suma de elementos en una lista se obtiene con `sum(lista)`"
      ]
    },
    {
      "cell_type": "code",
      "execution_count": null,
      "id": "5eb08c45",
      "metadata": {
        "id": "5eb08c45",
        "outputId": "c894294d-91b8-4f1d-ed53-adc3764b402d"
      },
      "outputs": [
        {
          "name": "stdout",
          "output_type": "stream",
          "text": [
            "15\n"
          ]
        }
      ],
      "source": [
        "nums = [1, 2, 3, 4, 5]\n",
        "total = sum(nums)\n",
        "print(total)  # Salida: 15"
      ]
    },
    {
      "cell_type": "markdown",
      "id": "69386f03",
      "metadata": {
        "id": "69386f03"
      },
      "source": [
        "<a name='3-3'></a>\n",
        "\n",
        "## Round\n",
        "[regresar al contenido](#c1)\n",
        "\n",
        "Con la función `round(numero)` se redondea una cantidad a los dígitos que se necesite"
      ]
    },
    {
      "cell_type": "code",
      "execution_count": null,
      "id": "7fa676d7",
      "metadata": {
        "id": "7fa676d7",
        "outputId": "f9fafbf0-40b0-4a5b-934b-d7a749361f2f"
      },
      "outputs": [
        {
          "name": "stdout",
          "output_type": "stream",
          "text": [
            "4\n"
          ]
        }
      ],
      "source": [
        "num = 3.7\n",
        "rounded_num = round(num)\n",
        "print(rounded_num)  # Salida: 4\n"
      ]
    },
    {
      "cell_type": "code",
      "execution_count": null,
      "id": "877b1643",
      "metadata": {
        "id": "877b1643",
        "outputId": "fe4721e2-1c94-4bf1-a7ba-4df9434e3bd0"
      },
      "outputs": [
        {
          "data": {
            "text/plain": [
              "3.457"
            ]
          },
          "execution_count": 12,
          "metadata": {},
          "output_type": "execute_result"
        }
      ],
      "source": [
        "num=3.456697\n",
        "round(num,3)"
      ]
    },
    {
      "cell_type": "markdown",
      "id": "9010332d",
      "metadata": {
        "id": "9010332d"
      },
      "source": [
        "<a name='3-4'></a>\n",
        "\n",
        "## Len\n",
        "[regresar al contenido](#c1)\n",
        "\n",
        "Con el comando `len` se obtiene la cantidad de elementos que tiene una lista o tupla."
      ]
    },
    {
      "cell_type": "code",
      "execution_count": null,
      "id": "16a558a5",
      "metadata": {
        "id": "16a558a5",
        "outputId": "accb8ece-57c9-4b63-885d-65e27825e39e"
      },
      "outputs": [
        {
          "name": "stdout",
          "output_type": "stream",
          "text": [
            "12\n"
          ]
        }
      ],
      "source": [
        "string = \"Hola, mundo!\"\n",
        "length = len(string)\n",
        "print(length)  # Salida: 12"
      ]
    },
    {
      "cell_type": "markdown",
      "id": "e413f41f",
      "metadata": {
        "id": "e413f41f"
      },
      "source": [
        "<a name='3-5'></a>\n",
        "\n",
        "## Range\n",
        "[regresar al contenido](#c1)\n",
        "\n",
        "El comando `range` te genera una sucesión de valores"
      ]
    },
    {
      "cell_type": "code",
      "execution_count": null,
      "id": "68c9f5ca",
      "metadata": {
        "id": "68c9f5ca",
        "outputId": "33d66e81-17fe-4214-a781-7ba05476dca6"
      },
      "outputs": [
        {
          "name": "stdout",
          "output_type": "stream",
          "text": [
            "[1, 2, 3, 4, 5]\n"
          ]
        }
      ],
      "source": [
        "nums_range = range(1, 6)  # Genera una secuencia de 1 a 5\n",
        "print(list(nums_range))  # Salida: [1, 2, 3, 4, 5]"
      ]
    },
    {
      "cell_type": "markdown",
      "id": "202b7434",
      "metadata": {
        "id": "202b7434"
      },
      "source": [
        "<a name='4'></a>\n",
        "\n",
        "# Ejercicios propuestos\n",
        "[regresar al contenido](#c1)"
      ]
    },
    {
      "cell_type": "markdown",
      "id": "7739c210",
      "metadata": {
        "id": "7739c210"
      },
      "source": [
        "Propuestas de ejercicios para practicar funciones, paso de parámetros y retorno de valores en Python:\n",
        "\n",
        "1. **Calculadora Básica:** Crea una función llamada `calculadora` que acepte dos números y una operación (suma, resta, multiplicación, división) como parámetros. La función debe realizar la operación correspondiente y devolver el resultado.\n",
        "\n",
        "2. **Área de un Círculo:** Escribe una función llamada `area_circulo` que reciba el radio de un círculo como parámetro y retorne el área correspondiente.\n",
        "\n",
        "3. **Conversión de Temperatura:** Crea una función llamada `convertir_temperatura` que reciba una temperatura en grados Celsius como parámetro y la convierta a grados Fahrenheit. La fórmula para la conversión es: Fahrenheit = Celsius * 9/5 + 32.\n",
        "\n",
        "4. **Ordenamiento de Números:** Define una función `ordenar_numeros` que tome una lista de números como argumento y retorne la lista ordenada de menor a mayor.\n",
        "\n",
        "5. **Cálculo de Promedio:** Crea una función llamada `calcular_promedio` que reciba una lista de números como parámetro y devuelva el promedio de esos números.\n",
        "\n",
        "6. **Generador de Números Primos:** Implementa una función llamada `numeros_primos` que tome un número entero como argumento y retorne una lista de todos los números primos menores o iguales al número dado.\n",
        "\n",
        "7. **Contador de Palabras:** Escribe una función llamada `contar_palabras` que tome una cadena de texto como parámetro y cuente cuántas palabras hay en ella. Puedes asumir que las palabras están separadas por espacios.\n",
        "\n",
        "8. **Suma de Números Pares:** Define una función llamada `sumar_pares` que tome un número entero positivo como parámetro y calcule la suma de todos los números pares desde 1 hasta ese número.\n",
        "\n",
        "9. **Cadena Invertida:** Crea una función llamada `cadena_invertida` que reciba una cadena de texto como parámetro y retorne la cadena invertida.\n",
        "\n",
        "10. **Calculadora de Descuento:** Implementa una función `calcular_descuento` que reciba el precio de un producto y un porcentaje de descuento como parámetros, y retorne el precio final después de aplicar el descuento.\n",
        "\n",
        "Recuerda que estos ejercicios son solo sugerencias y puedes modificarlos según tus necesidades y preferencias. ¡Diviértete practicando funciones en Python!"
      ]
    }
  ],
  "metadata": {
    "colab": {
      "provenance": [],
      "include_colab_link": true
    },
    "kernelspec": {
      "display_name": "Python 3 (ipykernel)",
      "language": "python",
      "name": "python3"
    },
    "language_info": {
      "codemirror_mode": {
        "name": "ipython",
        "version": 3
      },
      "file_extension": ".py",
      "mimetype": "text/x-python",
      "name": "python",
      "nbconvert_exporter": "python",
      "pygments_lexer": "ipython3",
      "version": "3.11.4"
    }
  },
  "nbformat": 4,
  "nbformat_minor": 5
}