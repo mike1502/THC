{
  "cells": [
    {
      "cell_type": "markdown",
      "metadata": {
        "id": "view-in-github",
        "colab_type": "text"
      },
      "source": [
        "<a href=\"https://colab.research.google.com/github/seismomat/HerramientasComputacionales/blob/main/NivelBasico/FundamentosDeProgramacion/Operadores%20aritm%C3%A9ticos%20y%20de%20comparaci%C3%B3n.ipynb\" target=\"_parent\"><img src=\"https://colab.research.google.com/assets/colab-badge.svg\" alt=\"Open In Colab\"/></a>"
      ]
    },
    {
      "cell_type": "markdown",
      "metadata": {
        "id": "yMl8UCumfTqd"
      },
      "source": [
        "<font color=\"Teal\" face=\"Comic Sans MS,arial\">\n",
        "  <h1 align=\"center\"><i> Operadores ariméticos y de comparación</i></h1>\n",
        "  </font>\n",
        "  \n",
        "> Elaborado por: Jesús Iván Coss Calderón. mat_ing_coss@ciencias.unam.mx"
      ]
    },
    {
      "cell_type": "markdown",
      "metadata": {
        "id": "_N1xZGLvfTqg"
      },
      "source": [
        "**Objetivo general**\n",
        "\n",
        "* Aprender los fundamentos del lenguaje de programación python.\n",
        "\n",
        "**Objetivos particulares**\n",
        "\n",
        "* Que el estudiante aprenda los principios básicos de la programación estructurada y orientada a objetos"
      ]
    },
    {
      "cell_type": "markdown",
      "metadata": {
        "id": "lnRCTXF_fTqh"
      },
      "source": [
        "<a name='c1'></a>\n",
        "\n",
        "## Contenido\n",
        "\n",
        "- [Operadores aritméticos](#1)\n",
        "    - [Suma](#1-1)\n",
        "    - [Resta](#1-2)\n",
        "    - [Multiplicación](#1-3)\n",
        "    - [División](#1-4)\n",
        "    - [División Entera](#1-5)\n",
        "    - [Módulo](#1-6)\n",
        "    - [Potencia](#1-7)\n",
        "- [Tipos de datos](#2)\n",
        "    - [Complejos](#2-1)\n",
        "- [Casteo de variables](#3)\n",
        "- [Comparaciones](#4)\n",
        "- [Funciones predefinidas](#5)"
      ]
    },
    {
      "cell_type": "markdown",
      "metadata": {
        "id": "Qxjl3KGifTqi"
      },
      "source": [
        "<a name='1'></a>\n",
        "\n",
        "# Operadores ariméticos\n",
        "[regresar al contenido](#c1)\n",
        "\n",
        "\n",
        "En python se tienen las operaciones elementales del arimética, la suma, la multiplicación y división, las cuales podemos calcular de la siguiente manera.\n"
      ]
    },
    {
      "cell_type": "markdown",
      "metadata": {
        "id": "pZB_bZ3pfTqj"
      },
      "source": [
        "<a name='1-1'></a>\n",
        "\n",
        "# Suma\n",
        "[regresar al contenido](#c1)\n",
        "\n",
        "Suma (+): Suma dos valores."
      ]
    },
    {
      "cell_type": "code",
      "execution_count": null,
      "metadata": {
        "id": "vtptD8OkfTqj",
        "outputId": "93fc3f4b-05e0-4adf-cd5c-1650568d231c"
      },
      "outputs": [
        {
          "data": {
            "text/plain": [
              "8"
            ]
          },
          "execution_count": 2,
          "metadata": {},
          "output_type": "execute_result"
        }
      ],
      "source": [
        "resultado = 5 + 3  # resultado es 8\n",
        "resultado"
      ]
    },
    {
      "cell_type": "markdown",
      "metadata": {
        "id": "i3CC0v_qfTql"
      },
      "source": [
        "<a name='1-2'></a>\n",
        "\n",
        "# Resta\n",
        "[regresar al contenido](#c1)\n",
        "\n",
        "Resta (-): Resta el segundo valor del primero"
      ]
    },
    {
      "cell_type": "code",
      "execution_count": null,
      "metadata": {
        "id": "kIJi6ksFfTql",
        "outputId": "8d362b2a-5626-48a2-bb1d-66030b9bd67e"
      },
      "outputs": [
        {
          "data": {
            "text/plain": [
              "6"
            ]
          },
          "execution_count": 11,
          "metadata": {},
          "output_type": "execute_result"
        }
      ],
      "source": [
        "resultado = 10 - 4  # resultado es 6\n",
        "resultado"
      ]
    },
    {
      "cell_type": "markdown",
      "metadata": {
        "id": "3rzo-mkTfTqn"
      },
      "source": [
        "<a name='1-3'></a>\n",
        "\n",
        "# Multiplicación\n",
        "[regresar al contenido](#c1)\n",
        "\n",
        "Multiplicación (*): Multiplica dos valores"
      ]
    },
    {
      "cell_type": "code",
      "execution_count": null,
      "metadata": {
        "id": "0CpxZTANfTqo",
        "outputId": "e5853371-2aeb-42ba-c0df-edef882051cf"
      },
      "outputs": [
        {
          "data": {
            "text/plain": [
              "21"
            ]
          },
          "execution_count": 12,
          "metadata": {},
          "output_type": "execute_result"
        }
      ],
      "source": [
        "resultado = 3 * 7  # resultado es 21\n",
        "resultado"
      ]
    },
    {
      "cell_type": "markdown",
      "metadata": {
        "id": "ChURK0aIfTqp"
      },
      "source": [
        "<a name='1-4'></a>\n",
        "\n",
        "# División\n",
        "[regresar al contenido](#c1)\n",
        "\n",
        "División (/): Divide el primer valor por el segundo. Siempre produce un resultado de punto flotante"
      ]
    },
    {
      "cell_type": "code",
      "execution_count": null,
      "metadata": {
        "id": "K4P7Jd9jfTqq",
        "outputId": "ee1ba779-a7e9-4a74-da12-aa6a4345503a"
      },
      "outputs": [
        {
          "data": {
            "text/plain": [
              "5.0"
            ]
          },
          "execution_count": 13,
          "metadata": {},
          "output_type": "execute_result"
        }
      ],
      "source": [
        "resultado = 15 / 3  # resultado es 5.0\n",
        "resultado"
      ]
    },
    {
      "cell_type": "markdown",
      "metadata": {
        "id": "MeVNrdQ7fTqq"
      },
      "source": [
        "<a name='1-5'></a>\n",
        "\n",
        "# División Entera\n",
        "[regresar al contenido](#c1)\n",
        "\n",
        "División Entera (//): Divide el primer valor por el segundo y redondea el resultado hacia abajo al número entero más cercano."
      ]
    },
    {
      "cell_type": "code",
      "execution_count": null,
      "metadata": {
        "id": "GVtxLMeEfTqr",
        "outputId": "06f37085-1499-4299-d70c-35726d2fd783"
      },
      "outputs": [
        {
          "data": {
            "text/plain": [
              "3"
            ]
          },
          "execution_count": 14,
          "metadata": {},
          "output_type": "execute_result"
        }
      ],
      "source": [
        "resultado = 15 // 4  # resultado es 3\n",
        "resultado"
      ]
    },
    {
      "cell_type": "markdown",
      "metadata": {
        "id": "ZIxiFfsyfTqr"
      },
      "source": [
        "<a name='1-6'></a>\n",
        "\n",
        "# Módulo\n",
        "[regresar al contenido](#c1)\n",
        "\n",
        "Módulo (%): Devuelve el residuo de la división del primer valor por el segundo."
      ]
    },
    {
      "cell_type": "code",
      "execution_count": null,
      "metadata": {
        "id": "yEWp0yiNfTqs",
        "outputId": "161a2177-4122-4416-a153-1e6657d8f2a5"
      },
      "outputs": [
        {
          "data": {
            "text/plain": [
              "3"
            ]
          },
          "execution_count": 15,
          "metadata": {},
          "output_type": "execute_result"
        }
      ],
      "source": [
        "resultado = 15 % 4  # resultado es 3\n",
        "resultado"
      ]
    },
    {
      "cell_type": "markdown",
      "metadata": {
        "id": "LtujF9_cfTqs"
      },
      "source": [
        "<a name='1-7'></a>\n",
        "\n",
        "# Potencia\n",
        "[regresar al contenido](#c1)\n",
        "\n",
        "Potencia ():** Eleva el primer valor a la potencia del segundo valor."
      ]
    },
    {
      "cell_type": "code",
      "execution_count": null,
      "metadata": {
        "id": "L4hRzrkyfTqt",
        "outputId": "915aeaf7-890d-4163-d1c0-4b2a0b5c6edd"
      },
      "outputs": [
        {
          "data": {
            "text/plain": [
              "8"
            ]
          },
          "execution_count": 16,
          "metadata": {},
          "output_type": "execute_result"
        }
      ],
      "source": [
        "resultado = 2 ** 3  # resultado es 8\n",
        "resultado"
      ]
    },
    {
      "cell_type": "markdown",
      "metadata": {
        "id": "skVBGpqkfTqt"
      },
      "source": [
        "<a name='2'></a>\n",
        "\n",
        "# Tipos de datos\n",
        "[regresar al contenido](#c1)\n",
        "\n",
        "En los lenguajes de programación, se tiene de manera estándar cuatro tipos de variable: entero, flotante, caracter y boleano"
      ]
    },
    {
      "cell_type": "code",
      "execution_count": null,
      "metadata": {
        "id": "AJCobrKGfTqu",
        "outputId": "9edcdf58-9ca9-4c5e-ed91-3a130169d1bf"
      },
      "outputs": [
        {
          "name": "stdout",
          "output_type": "stream",
          "text": [
            "el tipo de dato de 5 es <class 'int'>\n",
            "el tipo de dato de 5.000000 es  <class 'float'>\n",
            "el tipo de dato de 5 es <class 'str'>\n",
            "el tipo de dato de True es <class 'bool'>\n"
          ]
        }
      ],
      "source": [
        "entero=5\n",
        "print('el tipo de dato de %d es %s'%(entero,type(5)))\n",
        "flotante=5.0\n",
        "print('el tipo de dato de %f es  %s'%(flotante,type(5.0)))\n",
        "cadena=\"5\"\n",
        "print('el tipo de dato de %s es %s'%(cadena,type(\"5\")))\n",
        "boleano=True\n",
        "print(\"el tipo de dato de %r es %s\"%(boleano,type(True)))"
      ]
    },
    {
      "cell_type": "markdown",
      "metadata": {
        "id": "Fqf2_CXTfTqu"
      },
      "source": [
        "<a name='2-1'></a>\n",
        "\n",
        "# Complejos\n",
        "[regresar al contenido](#c1)"
      ]
    },
    {
      "cell_type": "markdown",
      "metadata": {
        "id": "prnSF97DfTqu"
      },
      "source": [
        "Un dato muy usado es aquél que representa al número complejo, el cual se declara de la siguiente manera:"
      ]
    },
    {
      "cell_type": "code",
      "execution_count": null,
      "metadata": {
        "id": "em2yg4K9fTqv",
        "outputId": "d82c8c3e-8ebe-4aee-ebd9-621d578af55b"
      },
      "outputs": [
        {
          "data": {
            "text/plain": [
              "complex"
            ]
          },
          "execution_count": 44,
          "metadata": {},
          "output_type": "execute_result"
        }
      ],
      "source": [
        "complejo = 1.2 + 5.0j\n",
        "type(complejo)"
      ]
    },
    {
      "cell_type": "markdown",
      "metadata": {
        "id": "w3g3gNLXfTqv"
      },
      "source": [
        "<a name='3'></a>\n",
        "\n",
        "# Casteo de variables\n",
        "[regresar al contenido](#c1)\n",
        "\n",
        "En ocasiones cuando nos encontramos programando necesitamos realizar una pequeña transformación a la variables para poder operarlas con el criterio que necesitemos, el casteo es dicha transformación y para cada variable se hace de manera diferente, a continuación se muestran los comandos en python para castear variables."
      ]
    },
    {
      "cell_type": "code",
      "execution_count": null,
      "metadata": {
        "id": "7XWxogZMfTqw",
        "outputId": "2f190708-485e-4444-96da-185b1b55443e"
      },
      "outputs": [
        {
          "name": "stdout",
          "output_type": "stream",
          "text": [
            " de flotante 2.579000 a entero 2 \n",
            "\n",
            " de entero 2 a flotante 2.000000 \n",
            "\n",
            " de flotante 2.500000 a cadena 2.5 \n",
            "\n",
            " de cadena 5 a flotante 5.000000  \n",
            "\n"
          ]
        }
      ],
      "source": [
        "print(\" de flotante %f a entero %d \\n\"%(2.579,int(2.579)))\n",
        "\n",
        "print(\" de entero %d a flotante %f \\n\"%(2,float(2)))\n",
        "\n",
        "print(\" de flotante %f a cadena %s \\n\"%(2.5,str(2.5)))\n",
        "\n",
        "print(\" de cadena %s a flotante %f  \\n\"%(\"5\",float(\"5\")))"
      ]
    },
    {
      "cell_type": "markdown",
      "metadata": {
        "id": "Fwf_AdigfTqw"
      },
      "source": [
        "<a name='4'></a>\n",
        "\n",
        "# Comparaciones\n",
        "[regresar al contenido](#c1)\n",
        "\n",
        "En python, al igual que en otros lenguajes se tiene la manera de comparar dos números, arrays, a continuación se presenta un tabla con los comparativos.\n",
        "\n",
        "| Operación. | Símbolo. |\n",
        "| :-:  | :-: |\n",
        "Igual a (comparación)| == |\n",
        "Distinto de (comparación)| != o <>|\n",
        "Mayor que, Menor que| >, <|\n",
        "Mayor o igual, Menor o igual| >=, =<|\n",
        "y, o |and, or|\n",
        "cierto, falso| True,False|\n",
        "\n",
        "En el siguiente fragmento de código se compara si el número 8 es mayor a 5."
      ]
    },
    {
      "cell_type": "code",
      "execution_count": null,
      "metadata": {
        "id": "XunOqeh5fTqx",
        "outputId": "90438446-31bd-4f23-8941-ec923529be44"
      },
      "outputs": [
        {
          "name": "stdout",
          "output_type": "stream",
          "text": [
            "True\n"
          ]
        }
      ],
      "source": [
        "resultado = 8 > 5\n",
        "print(resultado)"
      ]
    },
    {
      "cell_type": "markdown",
      "metadata": {
        "id": "rSz2CO1GfTqy"
      },
      "source": [
        "En el siguiente bloque se añade el operador lógico \" or \"  se cumple cuando alguna de las proposiciones es verdadera, también se hacen comparaciones de mayor que en el siguiente renglón."
      ]
    },
    {
      "cell_type": "code",
      "execution_count": null,
      "metadata": {
        "id": "KCdc2bg_fTqz",
        "outputId": "d2a4449c-05e4-4345-c070-86cb92ed561f"
      },
      "outputs": [
        {
          "name": "stdout",
          "output_type": "stream",
          "text": [
            "True\n"
          ]
        }
      ],
      "source": [
        "resultado = (4 > 8) or (3 > 2)\n",
        "print(resultado)"
      ]
    },
    {
      "cell_type": "markdown",
      "metadata": {
        "id": "A9sqaxAxfTqz"
      },
      "source": [
        "El operador lógico \" and \" se cumple cuando ambas condiciones son verdaderas."
      ]
    },
    {
      "cell_type": "code",
      "execution_count": null,
      "metadata": {
        "id": "Nq1zRg7RfTq0",
        "outputId": "d41c397d-89f2-4457-8108-37d9577a2e5a"
      },
      "outputs": [
        {
          "name": "stdout",
          "output_type": "stream",
          "text": [
            "False\n"
          ]
        }
      ],
      "source": [
        "resultado = True and False\n",
        "print(resultado)"
      ]
    },
    {
      "cell_type": "code",
      "execution_count": null,
      "metadata": {
        "id": "vX3G_wWqfTq1",
        "outputId": "7c2cbc55-0f43-424e-80ed-119e7bd4d7c4"
      },
      "outputs": [
        {
          "name": "stdout",
          "output_type": "stream",
          "text": [
            "False\n"
          ]
        }
      ],
      "source": [
        "resultado = (4 > 8) and (3 > 2)\n",
        "print(resultado)"
      ]
    },
    {
      "cell_type": "markdown",
      "metadata": {
        "id": "9NEKcYTLfTq1"
      },
      "source": [
        "El comparativo \" != \" denota que dos valores son distintos."
      ]
    },
    {
      "cell_type": "code",
      "execution_count": null,
      "metadata": {
        "id": "ndLF1twQfTq2",
        "outputId": "2a68762e-0210-461e-99e5-dce47dae3282"
      },
      "outputs": [
        {
          "name": "stdout",
          "output_type": "stream",
          "text": [
            "True\n"
          ]
        }
      ],
      "source": [
        "resultado= (5!=1)\n",
        "print(resultado)"
      ]
    },
    {
      "cell_type": "markdown",
      "metadata": {
        "id": "_wCtNIFofTq3"
      },
      "source": [
        "Por último el comparativo de igualdad de denota \" == \""
      ]
    },
    {
      "cell_type": "code",
      "execution_count": null,
      "metadata": {
        "id": "YyWutoS4fTq3",
        "outputId": "da82f5c3-5c25-4507-a5ac-860541ad89a6"
      },
      "outputs": [
        {
          "name": "stdout",
          "output_type": "stream",
          "text": [
            "True\n"
          ]
        }
      ],
      "source": [
        "resultado= (5==round(5.2))\n",
        "print(resultado)"
      ]
    },
    {
      "cell_type": "markdown",
      "metadata": {
        "id": "aZvMOKR3fTq3"
      },
      "source": [
        "<a name='5'></a>\n",
        "\n",
        "# Funciones predefinidas\n",
        "[regresar al contenido](#c1)"
      ]
    },
    {
      "cell_type": "code",
      "execution_count": null,
      "metadata": {
        "id": "bbGHN-dVfTq3",
        "outputId": "0a2ac774-5ef0-4989-cd29-3747a957dbad"
      },
      "outputs": [
        {
          "data": {
            "text/plain": [
              "3"
            ]
          },
          "execution_count": 8,
          "metadata": {},
          "output_type": "execute_result"
        }
      ],
      "source": [
        "abs(-3) # saca el valor absoluto"
      ]
    },
    {
      "cell_type": "code",
      "execution_count": null,
      "metadata": {
        "id": "fOxEDUwBfTq4",
        "outputId": "bbe08ae5-ac74-485d-8c4d-052b3a559a58"
      },
      "outputs": [
        {
          "data": {
            "text/plain": [
              "2.15"
            ]
          },
          "execution_count": 9,
          "metadata": {},
          "output_type": "execute_result"
        }
      ],
      "source": [
        "round(2.1451, 2) # redondea a dos decimales"
      ]
    },
    {
      "cell_type": "code",
      "execution_count": null,
      "metadata": {
        "id": "prGH0D7bfTq4",
        "outputId": "49014b64-0e02-4d9f-cfec-dcd5601ae0b8"
      },
      "outputs": [
        {
          "data": {
            "text/plain": [
              "'Hola clase'"
            ]
          },
          "execution_count": 13,
          "metadata": {},
          "output_type": "execute_result"
        }
      ],
      "source": [
        "\"Hola\" + \" \" + \"clase\" # sumar cadenas es concatenarlas."
      ]
    },
    {
      "cell_type": "code",
      "execution_count": null,
      "metadata": {
        "id": "WMZXPH0OfTq5",
        "outputId": "2980d915-af24-4b8f-f35c-baf658612d22"
      },
      "outputs": [
        {
          "name": "stdout",
          "output_type": "stream",
          "text": [
            "Hola clase\n"
          ]
        }
      ],
      "source": [
        "print(\"Hola clase\") # aqui se muestra la concatenación"
      ]
    }
  ],
  "metadata": {
    "kernelspec": {
      "display_name": "Python 3 (ipykernel)",
      "language": "python",
      "name": "python3"
    },
    "language_info": {
      "codemirror_mode": {
        "name": "ipython",
        "version": 3
      },
      "file_extension": ".py",
      "mimetype": "text/x-python",
      "name": "python",
      "nbconvert_exporter": "python",
      "pygments_lexer": "ipython3",
      "version": "3.9.12"
    },
    "colab": {
      "provenance": [],
      "include_colab_link": true
    }
  },
  "nbformat": 4,
  "nbformat_minor": 0
}