{
  "nbformat": 4,
  "nbformat_minor": 0,
  "metadata": {
    "colab": {
      "provenance": [],
      "authorship_tag": "ABX9TyNUbNIeI0lwQOPj6OTNpwk4",
      "include_colab_link": true
    },
    "kernelspec": {
      "name": "python3",
      "display_name": "Python 3"
    },
    "language_info": {
      "name": "python"
    }
  },
  "cells": [
    {
      "cell_type": "markdown",
      "metadata": {
        "id": "view-in-github",
        "colab_type": "text"
      },
      "source": [
        "<a href=\"https://colab.research.google.com/github/mike1502/THC/blob/main/primeraclase.ipynb\" target=\"_parent\"><img src=\"https://colab.research.google.com/assets/colab-badge.svg\" alt=\"Open In Colab\"/></a>"
      ]
    },
    {
      "cell_type": "markdown",
      "source": [
        "La ecuación de la **recta es**\n",
        "\n",
        "\\begin{equation}\n",
        "  y=mx+b\n",
        "\\end{equation}\n",
        "\n",
        "m es la pendiente de la *recta*."
      ],
      "metadata": {
        "id": "0j2kgq6Q8Gmy"
      }
    },
    {
      "cell_type": "markdown",
      "source": [
        "# Variables en Python\n",
        "\n",
        "## Introducción"
      ],
      "metadata": {
        "id": "V1wSV1KT8W-p"
      }
    },
    {
      "cell_type": "code",
      "execution_count": 3,
      "metadata": {
        "colab": {
          "base_uri": "https://localhost:8080/"
        },
        "id": "53hpBEEm7t9W",
        "outputId": "756dafdd-217b-48a0-dad8-4ddbfcd7b0d2"
      },
      "outputs": [
        {
          "output_type": "stream",
          "name": "stdout",
          "text": [
            "1 3.14 Hola Mundo\n"
          ]
        }
      ],
      "source": [
        "a=1   # variable de tipo entera\n",
        "b=3.14  # variable de punto flotante (con decimales)\n",
        "c='Hola Mundo'    # es una variable de tipo cadena (string)\n",
        "print(a,b,c)    # imprimir en pantala las variables (y el texto)"
      ]
    },
    {
      "cell_type": "code",
      "source": [
        "x=str(3)\n",
        "y=int(3)\n",
        "z=float(3)\n",
        "print(x,y,z)"
      ],
      "metadata": {
        "colab": {
          "base_uri": "https://localhost:8080/"
        },
        "id": "1NuNy3tzAFmC",
        "outputId": "44f526b6-9478-4276-8fa6-cbf91e94d165"
      },
      "execution_count": 4,
      "outputs": [
        {
          "output_type": "stream",
          "name": "stdout",
          "text": [
            "3 3 3.0\n"
          ]
        }
      ]
    },
    {
      "cell_type": "code",
      "source": [
        "print(type(x),type(y),type(z))"
      ],
      "metadata": {
        "colab": {
          "base_uri": "https://localhost:8080/"
        },
        "id": "RfwzZoW6A0EZ",
        "outputId": "8ccc3536-bfe4-4fda-9354-76c8f7c358a2"
      },
      "execution_count": 7,
      "outputs": [
        {
          "output_type": "stream",
          "name": "stdout",
          "text": [
            "<class 'str'> <class 'int'> <class 'float'>\n"
          ]
        }
      ]
    },
    {
      "cell_type": "code",
      "source": [
        "# Cadenas\n",
        "p=\"Miguel\"\n",
        "q='Miguel'\n",
        "print(p,q)"
      ],
      "metadata": {
        "colab": {
          "base_uri": "https://localhost:8080/"
        },
        "id": "1TtG2zFTCUth",
        "outputId": "aa9f2ec0-1455-4f04-d645-3eec22848acd"
      },
      "execution_count": 9,
      "outputs": [
        {
          "output_type": "stream",
          "name": "stdout",
          "text": [
            "Miguel Miguel\n"
          ]
        }
      ]
    },
    {
      "cell_type": "code",
      "source": [
        "m=7.4\n",
        "M=\"Mi nombre\"\n",
        "print(m,M)"
      ],
      "metadata": {
        "colab": {
          "base_uri": "https://localhost:8080/"
        },
        "id": "NTocK2mNCxOZ",
        "outputId": "0d8ac0ae-fb74-417e-ca93-f72b33b4d152"
      },
      "execution_count": 10,
      "outputs": [
        {
          "output_type": "stream",
          "name": "stdout",
          "text": [
            "7.4 Mi nombre\n"
          ]
        }
      ]
    },
    {
      "cell_type": "code",
      "source": [
        "x,y,z=1,2,\"hola mundo\"\n",
        "print(x,y,z)"
      ],
      "metadata": {
        "colab": {
          "base_uri": "https://localhost:8080/"
        },
        "id": "Zn5n6LNuD7t6",
        "outputId": "20b704a6-d8b6-44ef-d195-7b91582df0df"
      },
      "execution_count": 12,
      "outputs": [
        {
          "output_type": "stream",
          "name": "stdout",
          "text": [
            "1 2 hola mundo\n"
          ]
        }
      ]
    },
    {
      "cell_type": "code",
      "source": [
        "## calcular el área de un triángulo\n",
        "# area (a), base (b), altura (h)\n",
        "b=15  #b es el valor de la base del triángulo.\n",
        "h=20  #h es el valor de la altura del triángulo\n",
        "a=b*h/2   # fórmula para calcular el área del triángulo\n",
        "print('El área del triángulo es: ',a,' unidades cuadradas.')  #imprimo resultado"
      ],
      "metadata": {
        "colab": {
          "base_uri": "https://localhost:8080/"
        },
        "id": "W1MqmDJSEbvZ",
        "outputId": "0b2c9f4c-95dc-4179-c4a6-3b7ac37ca258"
      },
      "execution_count": 16,
      "outputs": [
        {
          "output_type": "stream",
          "name": "stdout",
          "text": [
            "El área del triángulo es:  150.0  unidades cuadradas.\n"
          ]
        }
      ]
    },
    {
      "cell_type": "code",
      "source": [
        "15/4"
      ],
      "metadata": {
        "colab": {
          "base_uri": "https://localhost:8080/"
        },
        "id": "Nu_oT07cF6ka",
        "outputId": "672a78c4-1bf9-4677-ced7-f10e99349db4"
      },
      "execution_count": 17,
      "outputs": [
        {
          "output_type": "execute_result",
          "data": {
            "text/plain": [
              "3.75"
            ]
          },
          "metadata": {},
          "execution_count": 17
        }
      ]
    },
    {
      "cell_type": "code",
      "source": [
        "suma=13+19.5\n",
        "suma"
      ],
      "metadata": {
        "colab": {
          "base_uri": "https://localhost:8080/"
        },
        "id": "FjVct6AqF8-y",
        "outputId": "a0f58142-ead0-4e66-aa0e-686f39823c82"
      },
      "execution_count": 21,
      "outputs": [
        {
          "output_type": "execute_result",
          "data": {
            "text/plain": [
              "32.5"
            ]
          },
          "metadata": {},
          "execution_count": 21
        }
      ]
    },
    {
      "cell_type": "code",
      "source": [
        "resta=9-15.5\n",
        "resta"
      ],
      "metadata": {
        "colab": {
          "base_uri": "https://localhost:8080/"
        },
        "id": "8lv4jsyaGMdx",
        "outputId": "e4b16f14-cdb7-482d-a4c5-33f6712259e7"
      },
      "execution_count": 23,
      "outputs": [
        {
          "output_type": "execute_result",
          "data": {
            "text/plain": [
              "-6.5"
            ]
          },
          "metadata": {},
          "execution_count": 23
        }
      ]
    },
    {
      "cell_type": "code",
      "source": [
        "mult=12*15\n",
        "mult"
      ],
      "metadata": {
        "colab": {
          "base_uri": "https://localhost:8080/"
        },
        "id": "YcKi2lmjGRGC",
        "outputId": "227014ec-42d0-4806-9015-b5111741edbb"
      },
      "execution_count": 25,
      "outputs": [
        {
          "output_type": "execute_result",
          "data": {
            "text/plain": [
              "180"
            ]
          },
          "metadata": {},
          "execution_count": 25
        }
      ]
    },
    {
      "cell_type": "code",
      "source": [
        "divide=17/3\n",
        "divide"
      ],
      "metadata": {
        "colab": {
          "base_uri": "https://localhost:8080/"
        },
        "id": "uD-KurKAGW2h",
        "outputId": "9e008669-e223-4d58-ad14-83676438db14"
      },
      "execution_count": 27,
      "outputs": [
        {
          "output_type": "execute_result",
          "data": {
            "text/plain": [
              "5.666666666666667"
            ]
          },
          "metadata": {},
          "execution_count": 27
        }
      ]
    },
    {
      "cell_type": "code",
      "source": [
        "a=5**8\n",
        "a"
      ],
      "metadata": {
        "colab": {
          "base_uri": "https://localhost:8080/"
        },
        "id": "JWb2v6vQGc65",
        "outputId": "457ce1a0-2853-4fe9-f388-3f13ff3b733f"
      },
      "execution_count": 29,
      "outputs": [
        {
          "output_type": "execute_result",
          "data": {
            "text/plain": [
              "390625"
            ]
          },
          "metadata": {},
          "execution_count": 29
        }
      ]
    },
    {
      "cell_type": "code",
      "source": [
        "5*3"
      ],
      "metadata": {
        "colab": {
          "base_uri": "https://localhost:8080/"
        },
        "id": "KSpzWhqIGl6p",
        "outputId": "8cbbc83a-0380-406f-9baf-9457ba9849b3"
      },
      "execution_count": 30,
      "outputs": [
        {
          "output_type": "execute_result",
          "data": {
            "text/plain": [
              "15"
            ]
          },
          "metadata": {},
          "execution_count": 30
        }
      ]
    },
    {
      "cell_type": "code",
      "source": [
        "25**(1/2) #raíz cuadrada"
      ],
      "metadata": {
        "colab": {
          "base_uri": "https://localhost:8080/"
        },
        "id": "Ytqw020rG6x5",
        "outputId": "d07b4407-7678-4fbe-ca03-ab0ba1bdbe9e"
      },
      "execution_count": 31,
      "outputs": [
        {
          "output_type": "execute_result",
          "data": {
            "text/plain": [
              "5.0"
            ]
          },
          "metadata": {},
          "execution_count": 31
        }
      ]
    },
    {
      "cell_type": "code",
      "source": [
        "#Palabras reservadas en Python\n",
        "import keyword\n",
        "print(keyword.kwlist)"
      ],
      "metadata": {
        "colab": {
          "base_uri": "https://localhost:8080/"
        },
        "id": "-J1nw632HJh6",
        "outputId": "8579b93a-ca9a-4421-d3ac-2fb678fb8603"
      },
      "execution_count": 33,
      "outputs": [
        {
          "output_type": "stream",
          "name": "stdout",
          "text": [
            "['False', 'None', 'True', 'and', 'as', 'assert', 'async', 'await', 'break', 'class', 'continue', 'def', 'del', 'elif', 'else', 'except', 'finally', 'for', 'from', 'global', 'if', 'import', 'in', 'is', 'lambda', 'nonlocal', 'not', 'or', 'pass', 'raise', 'return', 'try', 'while', 'with', 'yield']\n"
          ]
        }
      ]
    },
    {
      "cell_type": "code",
      "source": [
        "#numeros complejos\n",
        "comp=2+3j\n",
        "print(comp, type(comp))"
      ],
      "metadata": {
        "colab": {
          "base_uri": "https://localhost:8080/"
        },
        "id": "hhZAJ5x8Hs5x",
        "outputId": "2933cfba-4e51-411b-cda1-fafe5b600368"
      },
      "execution_count": 37,
      "outputs": [
        {
          "output_type": "stream",
          "name": "stdout",
          "text": [
            "(2+3j) <class 'complex'>\n"
          ]
        }
      ]
    }
  ]
}