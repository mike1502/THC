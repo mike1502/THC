{
  "cells": [
    {
      "cell_type": "markdown",
      "metadata": {
        "id": "view-in-github",
        "colab_type": "text"
      },
      "source": [
        "<a href=\"https://colab.research.google.com/github/mike1502/THC/blob/main/Python/NivelBasico/FundamentosDeProgramacion/Variables.ipynb\" target=\"_parent\"><img src=\"https://colab.research.google.com/assets/colab-badge.svg\" alt=\"Open In Colab\"/></a>"
      ]
    },
    {
      "cell_type": "markdown",
      "id": "0c4018bd",
      "metadata": {
        "id": "0c4018bd"
      },
      "source": [
        "<font color=\"Red\" face=\"Comic Sans MS,arial\">\n",
        "  <h1 align=\"center\"><i>Variables </i></h1>\n",
        "  </font>\n",
        "  \n",
        "> Elaborado por: Jesús Iván Coss Calderón. mat_ing_coss@ciencias.unam.mx\n",
        "\n",
        "> Modificado por: Miguel Ángel Carrillo Lucía: miguelcarrillo15@ciencias.unam.mx"
      ]
    },
    {
      "cell_type": "markdown",
      "id": "d572795c",
      "metadata": {
        "id": "d572795c"
      },
      "source": [
        "**Objetivo general**\n",
        "\n",
        "* Aprender los fundamentos de las variables en python\n",
        "\n",
        "**Objetivos particulares**\n",
        "\n",
        "* Entender el manejo de las variables"
      ]
    },
    {
      "cell_type": "markdown",
      "id": "001e54d2",
      "metadata": {
        "id": "001e54d2"
      },
      "source": [
        "[**Regresa al notebook principal**](https://github.com/seismomat/HerramientasComputacionales/blob/main/TemarioDePython/Temario%20de%20Python.ipynb)"
      ]
    },
    {
      "cell_type": "markdown",
      "id": "b76ffc8a",
      "metadata": {
        "id": "b76ffc8a"
      },
      "source": [
        "<a name='c1'></a>\n",
        "\n",
        "## Contenido\n",
        "\n",
        "- [Variables](#1)\n",
        "    - [Declaración](#1-1)\n",
        "    - [Casteo](#1-2)\n",
        "    - [Cadenas](#1-3)\n",
        "    - [Caso sensitivo](#1-4)    \n",
        "- [Nombre de Variables](#2)\n",
        "    - [Nombres legales para variables](#2-1)\n",
        "    - [Nombres ilegales para variables](#2-2)\n",
        "    - [Palabras reservadas en Python](#2-3)\n",
        "    - [Nombres con multipalabras](#2-4)\n",
        "        - [Caso Camel](#2-4-1)\n",
        "        - [Caso Pascal](#2-4-2)\n",
        "        - [Caso Serpiente](#2-4-3)\n",
        "- [Asignando múltiples valores](#3)\n",
        "    - [Un valor para múltiples variables](#3-1)\n",
        "    - [Desempaquetado de valores](#3-2)\n",
        "- [Salida de variables](#4)\n",
        "    - [Print](#4-1)\n",
        "    - [Print como en C](#4-2)\n",
        "    - [Print con concatenación](#4-3)\n",
        "- [Variables globales](#5)\n",
        "    - [La clave global](#5-1)\n",
        "- [Ejercicios propuestos](#6)"
      ]
    },
    {
      "cell_type": "markdown",
      "id": "269975e0",
      "metadata": {
        "id": "269975e0"
      },
      "source": [
        "<a name='1'></a>\n",
        "\n",
        "# Variables\n",
        "[regresar al contenido](#c1)\n",
        "\n",
        "Las variables son contenedores para almacenar valores de datos."
      ]
    },
    {
      "cell_type": "markdown",
      "id": "fb9dfa06",
      "metadata": {
        "id": "fb9dfa06"
      },
      "source": [
        "<a name='1-1'></a>\n",
        "\n",
        "## Declaración\n",
        "[regresar al contenido](#c1)"
      ]
    },
    {
      "cell_type": "markdown",
      "id": "b4ba7e62",
      "metadata": {
        "id": "b4ba7e62"
      },
      "source": [
        "Python no tiene un comando para declarar una variable.\n",
        "\n",
        "Una variable se crea en el momento en que le asignas un valor por primera vez."
      ]
    },
    {
      "cell_type": "code",
      "execution_count": null,
      "id": "b667a2db",
      "metadata": {
        "id": "b667a2db",
        "outputId": "77aa145f-fc3b-4780-e275-52b8da2be7c9"
      },
      "outputs": [
        {
          "name": "stdout",
          "output_type": "stream",
          "text": [
            "10 Iván\n"
          ]
        }
      ],
      "source": [
        "x = 10\n",
        "y = \"Iván\"\n",
        "print(x,y)"
      ]
    },
    {
      "cell_type": "markdown",
      "id": "b69354fb",
      "metadata": {
        "id": "b69354fb"
      },
      "source": [
        "Las variables no necesitan ser declaradas con un tipo específico y pueden cambiar de tipo incluso después de haber sido asignadas."
      ]
    },
    {
      "cell_type": "code",
      "execution_count": null,
      "id": "03a1f8e6",
      "metadata": {
        "id": "03a1f8e6",
        "outputId": "3bcaf2e7-73e6-45f3-8119-c1f6add680f6"
      },
      "outputs": [
        {
          "name": "stdout",
          "output_type": "stream",
          "text": [
            "Joselyne\n"
          ]
        }
      ],
      "source": [
        "x = 4       # x es una variable de tipo int\n",
        "x = \"Joselyne\" # x es ahora una variable de tipo str\n",
        "print(x)"
      ]
    },
    {
      "cell_type": "markdown",
      "id": "afa98fb0",
      "metadata": {
        "id": "afa98fb0"
      },
      "source": [
        "<a name='1-2'></a>\n",
        "\n",
        "## Casteo\n",
        "[regresar al contenido](#c1)\n",
        "\n",
        "Si deseas especificar el tipo de dato de una variable, esto se puede hacer mediante la conversión de tipos o casteo"
      ]
    },
    {
      "cell_type": "code",
      "execution_count": null,
      "id": "9026819f",
      "metadata": {
        "id": "9026819f",
        "outputId": "626d90e2-8f8d-446c-a3fc-9d0a6d949380"
      },
      "outputs": [
        {
          "name": "stdout",
          "output_type": "stream",
          "text": [
            "<class 'str'> <class 'int'> <class 'float'>\n"
          ]
        }
      ],
      "source": [
        "x = str(3)    # x es un str\n",
        "y = int(3)    # y es un entero\n",
        "z = float(3)  # z es un flotante\n",
        "\n",
        "print(type(x),type(y),type(z))"
      ]
    },
    {
      "cell_type": "markdown",
      "id": "d003deb7",
      "metadata": {
        "id": "d003deb7"
      },
      "source": [
        "<a name='1-3'></a>\n",
        "\n",
        "## Cadenas\n",
        "[regresar al contenido](#c1)\n",
        "\n",
        "Las variables de tipo cadena se pueden declarar utilizando comillas simples o dobles."
      ]
    },
    {
      "cell_type": "code",
      "execution_count": null,
      "id": "177ab7bd",
      "metadata": {
        "id": "177ab7bd"
      },
      "outputs": [],
      "source": [
        "x = \"Iván\"\n",
        "# is the same as\n",
        "y = 'Iván'"
      ]
    },
    {
      "cell_type": "code",
      "execution_count": null,
      "id": "fda7a565",
      "metadata": {
        "id": "fda7a565",
        "outputId": "6619b70f-e7d0-4a1a-c6e4-aaaa75505716"
      },
      "outputs": [
        {
          "name": "stdout",
          "output_type": "stream",
          "text": [
            "Iván Iván\n"
          ]
        }
      ],
      "source": [
        "print(x,y)"
      ]
    },
    {
      "cell_type": "markdown",
      "id": "334a05cf",
      "metadata": {
        "id": "334a05cf"
      },
      "source": [
        "<a name='1-4'></a>\n",
        "\n",
        "## Caso sensitivo\n",
        "[regresar al contenido](#c1)\n",
        "\n",
        "\n",
        "Los nombres de las variables son sensibles a mayúsculas y minúsculas."
      ]
    },
    {
      "cell_type": "code",
      "execution_count": null,
      "id": "6257ffa7",
      "metadata": {
        "id": "6257ffa7",
        "outputId": "3075454d-e2fc-4caf-be72-5b1525962b3e"
      },
      "outputs": [
        {
          "name": "stdout",
          "output_type": "stream",
          "text": [
            "4 Sally\n"
          ]
        }
      ],
      "source": [
        "a = 4\n",
        "A = \"Sally\"\n",
        "#A will not overwrite a\n",
        "\n",
        "print(a,A)"
      ]
    },
    {
      "cell_type": "markdown",
      "id": "20082363",
      "metadata": {
        "id": "20082363"
      },
      "source": [
        "<a name='2'></a>\n",
        "\n",
        "# Nombre de Variables\n",
        "[regresar al contenido](#c1)"
      ]
    },
    {
      "cell_type": "markdown",
      "id": "a9de6ce4",
      "metadata": {
        "id": "a9de6ce4"
      },
      "source": [
        "Una variable puede tener un nombre corto (como x e y) o un nombre más descriptivo (edad, nombre_auto, volumen_total). Reglas para las variables en Python:\n",
        "- El nombre de una variable debe comenzar con una letra o el carácter de subrayado.\n",
        "- El nombre de una variable no puede comenzar con un número.\n",
        "- El nombre de una variable solo puede contener caracteres alfanuméricos y guiones bajos (A-z, 0-9 y _).\n",
        "- Los nombres de las variables distinguen entre mayúsculas y minúsculas (edad, Edad y EDAD son tres variables diferentes).\n",
        "- El nombre de una variable no puede ser una de las palabras clave de Python."
      ]
    },
    {
      "cell_type": "markdown",
      "id": "aceedc34",
      "metadata": {
        "id": "aceedc34"
      },
      "source": [
        "<a name='2-1'></a>\n",
        "\n",
        "## Nombres legales para variables\n",
        "[regresar al contenido](#c1)"
      ]
    },
    {
      "cell_type": "code",
      "execution_count": null,
      "id": "67f46141",
      "metadata": {
        "id": "67f46141"
      },
      "outputs": [],
      "source": [
        "myvar = \"John\"\n",
        "my_var = \"John\"\n",
        "_my_var = \"John\"\n",
        "myVar = \"John\"\n",
        "MYVAR = \"John\"\n",
        "myvar2 = \"John\""
      ]
    },
    {
      "cell_type": "markdown",
      "id": "dd5ec2fd",
      "metadata": {
        "id": "dd5ec2fd"
      },
      "source": [
        "<a name='2-2'></a>\n",
        "\n",
        "## Nombres ilegales para variables\n",
        "[regresar al contenido](#c1)"
      ]
    },
    {
      "cell_type": "code",
      "execution_count": null,
      "id": "73ec0eaa",
      "metadata": {
        "id": "73ec0eaa",
        "outputId": "c3297758-0810-47b2-89ac-053be544bd87"
      },
      "outputs": [
        {
          "ename": "SyntaxError",
          "evalue": "invalid syntax (2185399839.py, line 1)",
          "output_type": "error",
          "traceback": [
            "\u001b[1;36m  Input \u001b[1;32mIn [17]\u001b[1;36m\u001b[0m\n\u001b[1;33m    2myvar = \"John\"\u001b[0m\n\u001b[1;37m     ^\u001b[0m\n\u001b[1;31mSyntaxError\u001b[0m\u001b[1;31m:\u001b[0m invalid syntax\n"
          ]
        }
      ],
      "source": [
        "2myvar = \"John\"\n",
        "my-var = \"John\"\n",
        "my var = \"John\""
      ]
    },
    {
      "cell_type": "markdown",
      "source": [
        "<a name='2-3'></a>\n",
        "\n",
        "## Palabras reservadas en Python."
      ],
      "metadata": {
        "id": "pFg5SBgF_7un"
      },
      "id": "pFg5SBgF_7un"
    },
    {
      "cell_type": "code",
      "source": [
        "help(\"keywords\")"
      ],
      "metadata": {
        "id": "U1yafVB-_2Og",
        "outputId": "540da0ee-93fe-421f-ec6d-4477180a448f",
        "colab": {
          "base_uri": "https://localhost:8080/"
        }
      },
      "id": "U1yafVB-_2Og",
      "execution_count": null,
      "outputs": [
        {
          "output_type": "stream",
          "name": "stdout",
          "text": [
            "\n",
            "Here is a list of the Python keywords.  Enter any keyword to get more help.\n",
            "\n",
            "False               class               from                or\n",
            "None                continue            global              pass\n",
            "True                def                 if                  raise\n",
            "and                 del                 import              return\n",
            "as                  elif                in                  try\n",
            "assert              else                is                  while\n",
            "async               except              lambda              with\n",
            "await               finally             nonlocal            yield\n",
            "break               for                 not                 \n",
            "\n"
          ]
        }
      ]
    },
    {
      "cell_type": "markdown",
      "id": "4adaa351",
      "metadata": {
        "id": "4adaa351"
      },
      "source": [
        "<a name='2-4'></a>\n",
        "\n",
        "## Nombres con multipalabras\n",
        "[regresar al contenido](#c1)"
      ]
    },
    {
      "cell_type": "markdown",
      "id": "d2aa46c1",
      "metadata": {
        "id": "d2aa46c1"
      },
      "source": [
        "Los nombres de variables con más de una palabra pueden ser difíciles de leer.\n",
        "\n",
        "Existen varias técnicas que puedes utilizar para hacerlos más legibles."
      ]
    },
    {
      "cell_type": "markdown",
      "id": "fa782463",
      "metadata": {
        "id": "fa782463"
      },
      "source": [
        "<a name='2-4-1'></a>\n",
        "\n",
        "### Caso Camel\n",
        "[regresar al contenido](#c1)\n",
        "\n",
        "Cada palabra comienza con letra mayúscula, salvo la primer palabra"
      ]
    },
    {
      "cell_type": "code",
      "execution_count": null,
      "id": "1dcfaf51",
      "metadata": {
        "id": "1dcfaf51"
      },
      "outputs": [],
      "source": [
        "myVariableName = \"Iván\""
      ]
    },
    {
      "cell_type": "markdown",
      "id": "38221843",
      "metadata": {
        "id": "38221843"
      },
      "source": [
        "<a name='2-4-2'></a>\n",
        "\n",
        "### Caso Pascal\n",
        "[regresar al contenido](#c1)\n",
        "\n",
        "Cada palabra comienza con letra mayúscula"
      ]
    },
    {
      "cell_type": "code",
      "execution_count": null,
      "id": "e6e86ca2",
      "metadata": {
        "id": "e6e86ca2"
      },
      "outputs": [],
      "source": [
        "MyVariableName = \"Iván\""
      ]
    },
    {
      "cell_type": "markdown",
      "id": "3812a46e",
      "metadata": {
        "id": "3812a46e"
      },
      "source": [
        "<a name='2-4-3'></a>\n",
        "\n",
        "### Caso Serpiente\n",
        "[regresar al contenido](#c1)\n",
        "\n",
        "Cada palabra es separada por un guión bajo"
      ]
    },
    {
      "cell_type": "code",
      "execution_count": null,
      "id": "543ca292",
      "metadata": {
        "id": "543ca292"
      },
      "outputs": [],
      "source": [
        "my_variable_name = \"Iván\""
      ]
    },
    {
      "cell_type": "markdown",
      "id": "0f36f133",
      "metadata": {
        "id": "0f36f133"
      },
      "source": [
        "<a name='3'></a>\n",
        "\n",
        "# Asignando múltiples valores\n",
        "[regresar al contenido](#c1)\n",
        "\n",
        "Python te permite asignar valores a múltiples variables en una sola línea."
      ]
    },
    {
      "cell_type": "code",
      "execution_count": null,
      "id": "e14023b1",
      "metadata": {
        "id": "e14023b1",
        "outputId": "42688f4d-3a3a-4fce-ddbb-419a784c3585"
      },
      "outputs": [
        {
          "name": "stdout",
          "output_type": "stream",
          "text": [
            "Orange\n",
            "Banana\n",
            "Cherry\n"
          ]
        }
      ],
      "source": [
        "x, y, z = \"Orange\", \"Banana\", \"Cherry\"\n",
        "print(x)\n",
        "print(y)\n",
        "print(z)"
      ]
    },
    {
      "cell_type": "markdown",
      "id": "59ec5d4e",
      "metadata": {
        "id": "59ec5d4e"
      },
      "source": [
        "<a name='3-1'></a>\n",
        "\n",
        "## Un valor para múltiples variables\n",
        "[regresar al contenido](#c1)\n",
        "\n",
        "Y puedes asignar el mismo valor a múltiples variables en una sola línea."
      ]
    },
    {
      "cell_type": "code",
      "execution_count": null,
      "id": "d972ee8f",
      "metadata": {
        "id": "d972ee8f",
        "outputId": "9fa15086-0a82-43d1-e095-75d2cc1ae394"
      },
      "outputs": [
        {
          "name": "stdout",
          "output_type": "stream",
          "text": [
            "Hola\n",
            "Hola\n",
            "Hola\n"
          ]
        }
      ],
      "source": [
        "x = y = z = \"Hola\"\n",
        "print(x)\n",
        "print(y)\n",
        "print(z)"
      ]
    },
    {
      "cell_type": "markdown",
      "id": "54609a5a",
      "metadata": {
        "id": "54609a5a"
      },
      "source": [
        "<a name='3-2'></a>\n",
        "\n",
        "## Desempaquetado de valores\n",
        "[regresar al contenido](#c1)\n",
        "\n",
        "Si tienes una colección de valores en una lista, tupla, etc., Python te permite extraer los valores en variables. A esto se le llama desempacar (unpacking)."
      ]
    },
    {
      "cell_type": "code",
      "execution_count": null,
      "id": "632c32f6",
      "metadata": {
        "id": "632c32f6",
        "outputId": "d1b67d51-5581-49ce-898a-837950f3096a"
      },
      "outputs": [
        {
          "name": "stdout",
          "output_type": "stream",
          "text": [
            "apple\n",
            "banana\n",
            "cherry\n"
          ]
        }
      ],
      "source": [
        "fruits = [\"apple\", \"banana\", \"cherry\"]\n",
        "x, y, z = fruits\n",
        "print(x)\n",
        "print(y)\n",
        "print(z)"
      ]
    },
    {
      "cell_type": "markdown",
      "id": "38c20ad6",
      "metadata": {
        "id": "38c20ad6"
      },
      "source": [
        "<a name='4'></a>\n",
        "\n",
        "# Salida de variables\n",
        "[regresar al contenido](#c1)\n",
        "\n",
        "Python te permite ver la salida de variables"
      ]
    },
    {
      "cell_type": "markdown",
      "id": "7298a435",
      "metadata": {
        "id": "7298a435"
      },
      "source": [
        "<a name='4-1'></a>\n",
        "\n",
        "# Print\n",
        "[regresar al contenido](#c1)\n",
        "\n",
        "Es muy frecuente utilizar el método print para visualizar la salida de variables"
      ]
    },
    {
      "cell_type": "code",
      "execution_count": null,
      "id": "2fb61064",
      "metadata": {
        "id": "2fb61064",
        "outputId": "11391c82-dcba-4fac-e49b-ebcd5a1e3ec1"
      },
      "outputs": [
        {
          "name": "stdout",
          "output_type": "stream",
          "text": [
            "Python is awesome\n"
          ]
        }
      ],
      "source": [
        "x = \"Python is awesome\"\n",
        "print(x)"
      ]
    },
    {
      "cell_type": "code",
      "execution_count": null,
      "id": "7dd7be66",
      "metadata": {
        "id": "7dd7be66",
        "outputId": "93c1ead8-6058-434a-d74a-2bdfc2cb6ce8"
      },
      "outputs": [
        {
          "name": "stdout",
          "output_type": "stream",
          "text": [
            "Python is awesome\n"
          ]
        }
      ],
      "source": [
        "x = \"Python \"\n",
        "y = \"is \"\n",
        "z = \"awesome\"\n",
        "print(x + y + z)"
      ]
    },
    {
      "cell_type": "code",
      "execution_count": null,
      "id": "1ca7d270",
      "metadata": {
        "id": "1ca7d270",
        "outputId": "861fb055-0c2b-4025-d4b9-07139d342c5b"
      },
      "outputs": [
        {
          "name": "stdout",
          "output_type": "stream",
          "text": [
            "15\n"
          ]
        }
      ],
      "source": [
        "x = 5\n",
        "y = 10\n",
        "print(x + y)"
      ]
    },
    {
      "cell_type": "code",
      "execution_count": null,
      "id": "17f4c424",
      "metadata": {
        "id": "17f4c424",
        "outputId": "242afc16-7ca6-4733-f260-980fe6e065af"
      },
      "outputs": [
        {
          "ename": "TypeError",
          "evalue": "unsupported operand type(s) for +: 'int' and 'str'",
          "output_type": "error",
          "traceback": [
            "\u001b[1;31m---------------------------------------------------------------------------\u001b[0m",
            "\u001b[1;31mTypeError\u001b[0m                                 Traceback (most recent call last)",
            "Input \u001b[1;32mIn [27]\u001b[0m, in \u001b[0;36m<cell line: 3>\u001b[1;34m()\u001b[0m\n\u001b[0;32m      1\u001b[0m x \u001b[38;5;241m=\u001b[39m \u001b[38;5;241m5\u001b[39m\n\u001b[0;32m      2\u001b[0m y \u001b[38;5;241m=\u001b[39m \u001b[38;5;124m\"\u001b[39m\u001b[38;5;124mJohn\u001b[39m\u001b[38;5;124m\"\u001b[39m\n\u001b[1;32m----> 3\u001b[0m \u001b[38;5;28mprint\u001b[39m(\u001b[43mx\u001b[49m\u001b[43m \u001b[49m\u001b[38;5;241;43m+\u001b[39;49m\u001b[43m \u001b[49m\u001b[43my\u001b[49m)\n",
            "\u001b[1;31mTypeError\u001b[0m: unsupported operand type(s) for +: 'int' and 'str'"
          ]
        }
      ],
      "source": [
        "x = 5\n",
        "y = \"John\"\n",
        "print(x + y)"
      ]
    },
    {
      "cell_type": "code",
      "execution_count": null,
      "id": "a13c2717",
      "metadata": {
        "id": "a13c2717",
        "outputId": "523076e3-1ea7-41b5-e986-1048882b31dc"
      },
      "outputs": [
        {
          "name": "stdout",
          "output_type": "stream",
          "text": [
            "5 John\n"
          ]
        }
      ],
      "source": [
        "x = 5\n",
        "y = \"John\"\n",
        "print(x , y)"
      ]
    },
    {
      "cell_type": "markdown",
      "id": "3a005f93",
      "metadata": {
        "id": "3a005f93"
      },
      "source": [
        "<a name='4-2'></a>\n",
        "\n",
        "# Print como en C\n",
        "[regresar al contenido](#c1)"
      ]
    },
    {
      "cell_type": "code",
      "execution_count": null,
      "id": "213fb8c7",
      "metadata": {
        "id": "213fb8c7",
        "outputId": "9ccfa7ef-964b-4cb0-b32e-8ac0c6a1dc23"
      },
      "outputs": [
        {
          "name": "stdout",
          "output_type": "stream",
          "text": [
            " de flotante 2.579000 a entero 2 \n",
            "\n"
          ]
        }
      ],
      "source": [
        "print(\" de flotante %f a entero %d \\n\"%(2.579,int(2.579)))"
      ]
    },
    {
      "cell_type": "code",
      "execution_count": null,
      "id": "89a5191c",
      "metadata": {
        "id": "89a5191c",
        "outputId": "025db07b-b63f-4d52-abd9-613b627fdf2d"
      },
      "outputs": [
        {
          "name": "stdout",
          "output_type": "stream",
          "text": [
            " de cadena 5 a flotante 5.000000  \n",
            "\n"
          ]
        }
      ],
      "source": [
        "print(\" de cadena %s a flotante %f  \\n\"%(\"5\",float(\"5\")))"
      ]
    },
    {
      "cell_type": "markdown",
      "id": "10870c9d",
      "metadata": {
        "id": "10870c9d"
      },
      "source": [
        "<a name='4-3'></a>\n",
        "\n",
        "# Print con concatenación\n",
        "[regresar al contenido](#c1)"
      ]
    },
    {
      "cell_type": "code",
      "execution_count": null,
      "id": "a60950c9",
      "metadata": {
        "id": "a60950c9",
        "outputId": "051b06ee-a857-4478-f482-563096074b0a"
      },
      "outputs": [
        {
          "name": "stdout",
          "output_type": "stream",
          "text": [
            "1267650600228229401496703205376.0000000000\n"
          ]
        }
      ],
      "source": [
        "print(\"%.10f\" % (2.0**100)) ## cantidad de numeros despues del punto"
      ]
    },
    {
      "cell_type": "code",
      "execution_count": null,
      "id": "c0bffdce",
      "metadata": {
        "id": "c0bffdce",
        "outputId": "b0567f7f-e0e2-4245-f380-f3666e3d925c"
      },
      "outputs": [
        {
          "name": "stdout",
          "output_type": "stream",
          "text": [
            "3.56700e-04\n"
          ]
        }
      ],
      "source": [
        "print(\"%.5e\" % 0.0003567) ## notacion cientifica"
      ]
    },
    {
      "cell_type": "code",
      "execution_count": null,
      "id": "44c79020",
      "metadata": {
        "id": "44c79020",
        "outputId": "49e5db27-8d96-4af7-e5ee-07a11ab7ec5e"
      },
      "outputs": [
        {
          "name": "stdout",
          "output_type": "stream",
          "text": [
            "+3.14\n"
          ]
        }
      ],
      "source": [
        "print(\"{:+.2f}\".format(+3.1415926))"
      ]
    },
    {
      "cell_type": "code",
      "execution_count": null,
      "id": "dc7c2e88",
      "metadata": {
        "id": "dc7c2e88",
        "outputId": "2fadc7da-ccc6-423e-f4a3-63bfcb7130e7"
      },
      "outputs": [
        {
          "name": "stdout",
          "output_type": "stream",
          "text": [
            "ho\n"
          ]
        }
      ],
      "source": [
        "print(\"{:.2s}\".format(\"hola\"))"
      ]
    },
    {
      "cell_type": "markdown",
      "id": "dfc244b4",
      "metadata": {
        "id": "dfc244b4"
      },
      "source": [
        "<a name='5'></a>\n",
        "\n",
        "# Variables globales\n",
        "[regresar al contenido](#c1)\n",
        "\n",
        "Las variables que se crean fuera de una función (como en todos los ejemplos anteriores) se conocen como variables globales.\n",
        "\n",
        "Las variables globales pueden ser utilizadas por todos, tanto dentro de funciones como fuera de ellas."
      ]
    },
    {
      "cell_type": "code",
      "execution_count": null,
      "id": "f75535cc",
      "metadata": {
        "id": "f75535cc",
        "outputId": "e469b1d6-235d-4f94-d854-b95c4c6e3ffc"
      },
      "outputs": [
        {
          "name": "stdout",
          "output_type": "stream",
          "text": [
            "Python is awesome\n"
          ]
        }
      ],
      "source": [
        "x = \"awesome\"\n",
        "\n",
        "def myfunc():\n",
        "  print(\"Python is \" + x)\n",
        "\n",
        "myfunc()"
      ]
    },
    {
      "cell_type": "markdown",
      "id": "c4e2f090",
      "metadata": {
        "id": "c4e2f090"
      },
      "source": [
        "Si creas una variable con el mismo nombre dentro de una función, esta variable será local y solo se podrá usar dentro de la función. La variable global con el mismo nombre permanecerá como estaba, global y con el valor original."
      ]
    },
    {
      "cell_type": "code",
      "execution_count": null,
      "id": "d7574e70",
      "metadata": {
        "id": "d7574e70",
        "outputId": "f4a60a15-088b-484b-955c-6d66d89688ce"
      },
      "outputs": [
        {
          "name": "stdout",
          "output_type": "stream",
          "text": [
            "Python is fantastic\n",
            "Python is awesome\n"
          ]
        }
      ],
      "source": [
        "x = \"awesome\"\n",
        "\n",
        "def myfunc():\n",
        "  x = \"fantastic\"\n",
        "  print(\"Python is \" + x)\n",
        "\n",
        "myfunc()\n",
        "\n",
        "print(\"Python is \" + x)"
      ]
    },
    {
      "cell_type": "markdown",
      "id": "db312a43",
      "metadata": {
        "id": "db312a43"
      },
      "source": [
        "<a name='5-1'></a>\n",
        "\n",
        "## La clave Global\n",
        "[regresar al contenido](#c1)\n",
        "\n",
        "Normalmente, cuando creas una variable dentro de una función, esa variable es local y solo se puede usar dentro de esa función.\n",
        "\n",
        "Para crear una variable global dentro de una función, puedes usar la palabra clave global."
      ]
    },
    {
      "cell_type": "code",
      "execution_count": null,
      "id": "525b5a05",
      "metadata": {
        "id": "525b5a05",
        "outputId": "d841745e-3670-46fc-85fb-27b95e14d229"
      },
      "outputs": [
        {
          "name": "stdout",
          "output_type": "stream",
          "text": [
            "Python is fantastic\n",
            "Python is fantastic\n"
          ]
        }
      ],
      "source": [
        "x = \"awesome\"\n",
        "def myfunc():\n",
        "    global x\n",
        "    x = \"fantastic\"\n",
        "    print(\"Python is \" + x)\n",
        "\n",
        "myfunc()\n",
        "\n",
        "print(\"Python is \" + x)"
      ]
    },
    {
      "cell_type": "markdown",
      "id": "3e5b7e97",
      "metadata": {
        "id": "3e5b7e97"
      },
      "source": [
        "Si usas la palabra clave global, la variable pertenece al ámbito global."
      ]
    },
    {
      "cell_type": "markdown",
      "id": "202b7434",
      "metadata": {
        "id": "202b7434"
      },
      "source": [
        "<a name='6'></a>\n",
        "\n",
        "# Ejercicios propuestos\n",
        "[regresar al contenido](#c1)"
      ]
    },
    {
      "cell_type": "markdown",
      "id": "7739c210",
      "metadata": {
        "id": "7739c210"
      },
      "source": [
        "Ejercicios propuestos que involucran el uso de variables en Python:\n",
        "\n",
        "1. **Calculadora Simple:** Crea un programa que solicite al usuario dos números y realice operaciones básicas como suma, resta, multiplicación y división. Muestra los resultados usando variables.\n",
        "\n",
        "2. **Conversión de Temperaturas:** Escribe un programa que permita al usuario ingresar una temperatura en grados Celsius y luego la convierta a grados Fahrenheit utilizando una variable para almacenar la fórmula de conversión.\n",
        "\n",
        "3. **Cálculo del Área de un Triángulo:** Pide al usuario que ingrese la base y la altura de un triángulo y calcula su área utilizando una variable para almacenar el resultado.\n",
        "\n",
        "4. **Contador de Palabras:** Crea un programa que tome una cadena de texto ingresada por el usuario y cuente cuántas palabras contiene. Utiliza una variable para mantener el contador.\n",
        "\n",
        "5. **Generador de Contraseñas:** Desarrolla un generador de contraseñas que combine letras mayúsculas, minúsculas, números y símbolos. Utiliza variables para almacenar los diferentes conjuntos de caracteres.\n",
        "\n",
        "6. **Cálculo del Promedio:** Escribe un programa que permita al usuario ingresar una lista de números separados por comas y luego calcule su promedio utilizando variables.\n",
        "\n",
        "7. **Juego de Adivinanza:** Crea un juego simple en el que el programa elija un número aleatorio y el usuario deba adivinarlo. Utiliza una variable para almacenar el número aleatorio y otra para contar los intentos del usuario.\n",
        "\n",
        "8. **Cambio de Moneda:** Diseña un programa que convierta una cantidad en dólares a euros utilizando una tasa de cambio. Usa variables para almacenar la cantidad en dólares, la tasa de cambio y el resultado en euros.\n",
        "\n",
        "9. **Calculadora de Descuentos:** Desarrolla un programa que calcule el precio final de un producto después de aplicar un descuento. El usuario debe ingresar el precio original y el porcentaje de descuento. Utiliza variables para almacenar los valores.\n",
        "\n",
        "10. **Registro de Estudiantes:** Crea un programa que permita a un profesor registrar los nombres y calificaciones de varios estudiantes. Utiliza variables para almacenar los nombres, calificaciones y calcular el promedio.\n",
        "\n",
        "Recuerda que estos ejercicios son solo una guía y puedes adaptarlos según tus necesidades y nivel de experiencia en programación. ¡Diviértete resolviendo problemas con variables en Python!"
      ]
    }
  ],
  "metadata": {
    "colab": {
      "provenance": [],
      "include_colab_link": true
    },
    "kernelspec": {
      "display_name": "Python 3 (ipykernel)",
      "language": "python",
      "name": "python3"
    },
    "language_info": {
      "codemirror_mode": {
        "name": "ipython",
        "version": 3
      },
      "file_extension": ".py",
      "mimetype": "text/x-python",
      "name": "python",
      "nbconvert_exporter": "python",
      "pygments_lexer": "ipython3",
      "version": "3.9.12"
    }
  },
  "nbformat": 4,
  "nbformat_minor": 5
}