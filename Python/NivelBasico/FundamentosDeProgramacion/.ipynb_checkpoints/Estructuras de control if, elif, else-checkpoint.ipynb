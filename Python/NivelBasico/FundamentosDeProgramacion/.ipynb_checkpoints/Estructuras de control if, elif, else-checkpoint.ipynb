{
 "cells": [
  {
   "cell_type": "markdown",
   "metadata": {
    "colab_type": "text",
    "id": "view-in-github"
   },
   "source": [
    "<a href=\"https://colab.research.google.com/github/seismomat/HerramientasComputacionales/blob/Ivan/Estructuras%20de%20control%20if%2C%20elif%2C%20else.ipynb\" target=\"_parent\"><img src=\"https://colab.research.google.com/assets/colab-badge.svg\" alt=\"Open In Colab\"/></a>"
   ]
  },
  {
   "cell_type": "markdown",
   "metadata": {
    "id": "kux0tvgsz-oR"
   },
   "source": [
    "<font color=\"Teal\" face=\"Comic Sans MS,arial\">\n",
    "  <h1 align=\"center\"><i> Estructuras de control: if, elif, else</i></h1>\n",
    "  </font>\n",
    "  \n",
    "> Elaborado por: Jesús Iván Coss Calderón. mat_ing_coss@ciencias.unam.mx"
   ]
  },
  {
   "cell_type": "markdown",
   "metadata": {
    "id": "BcGKVaNnz-oT"
   },
   "source": [
    "**Objetivo general**\n",
    "\n",
    "* Aprender los fundamentos de las estructuras de control.\n",
    "\n",
    "**Objetivos particulares**\n",
    "\n",
    "* Que el estudiante aprenda los principios básicos de la estructura if-elseif-else"
   ]
  },
  {
   "cell_type": "markdown",
   "metadata": {},
   "source": [
    "[**Regresa al notebook principal**](https://github.com/seismomat/HerramientasComputacionales/blob/main/TemarioDePython/Temario%20de%20Python.ipynb)"
   ]
  },
  {
   "cell_type": "markdown",
   "metadata": {
    "id": "HjnTFD7bz-oT"
   },
   "source": [
    "<a name='c1'></a>\n",
    "\n",
    "## Contenido\n",
    "\n",
    "- [Comparaciones](#1)\n",
    "- [Sentencia if](#2)\n",
    "    - [Identación o sangría](#2-1)\n",
    "- [Sentencia if-elif](#3)\n",
    "- [Sentencia if-elif-else](#4)\n",
    "- [If corto](#5)\n",
    "- [If-else corto](#6)\n",
    "- [And](#7)\n",
    "- [Or](#8)\n",
    "- [Not](#9)\n",
    "- [If anidado](#10)"
   ]
  },
  {
   "cell_type": "markdown",
   "metadata": {
    "id": "FuXeQ-k_z-oU"
   },
   "source": [
    "<a name='1'></a>\n",
    "\n",
    "# Comparaciones\n",
    "[regresar al contenido](#c1)\n",
    "\n",
    "Tabla con los comparativos.\n",
    "\n",
    "| Operación. | Símbolo. |\n",
    "| :-:  | :-: |\n",
    "Igual a (comparación)| == |\n",
    "Distinto de (comparación)| != o <>|\n",
    "Mayor que, Menor que| >, <|\n",
    "Mayor o igual, Menor o igual| >=, =<|\n",
    "y, o |and, or|\n",
    "cierto, falso| True,False|\n",
    "\n"
   ]
  },
  {
   "cell_type": "markdown",
   "metadata": {
    "id": "uj_PSX0wz-oV"
   },
   "source": [
    "<a name='2'></a>\n",
    "\n",
    "# Sentencia if\n",
    "[regresar al contenido](#c1)\n",
    "\n",
    "Una \"declaración if\" se escribe utilizando la palabra clave if."
   ]
  },
  {
   "cell_type": "code",
   "execution_count": null,
   "metadata": {
    "id": "eyA5K5xhz-oV",
    "outputId": "9bd4410b-73b2-4645-f893-06c035b0bc1a"
   },
   "outputs": [
    {
     "name": "stdout",
     "output_type": "stream",
     "text": [
      "b mayor que a\n"
     ]
    }
   ],
   "source": [
    "a = 33\n",
    "b = 200\n",
    "if b > a:\n",
    "  print(\"b mayor que a\")"
   ]
  },
  {
   "cell_type": "markdown",
   "metadata": {
    "id": "sJoIsRpxz-oW"
   },
   "source": [
    "En este ejemplo, utilizamos dos variables, \"a\" y \"b\", que se utilizan como parte de la declaración **if** para verificar si \"b\" es mayor que \"a\". Como \"a\" es 33 y \"b\" es 200, sabemos que 200 es mayor que 33, por lo que imprimimos en pantalla que \"b es mayor que a\"."
   ]
  },
  {
   "cell_type": "markdown",
   "metadata": {
    "id": "HnWNdpaYz-oX"
   },
   "source": [
    "<a name='2-1'></a>\n",
    "\n",
    "## Identación o sangría\n",
    "[regresar al contenido](#c1)"
   ]
  },
  {
   "cell_type": "markdown",
   "metadata": {
    "id": "KnYlxheuz-oY"
   },
   "source": [
    "La siguiente declaración \"if\" sin sangría (generará un error)"
   ]
  },
  {
   "cell_type": "code",
   "execution_count": null,
   "metadata": {
    "id": "jp-qUJuFz-oZ",
    "outputId": "0f47cf78-6018-406f-9257-08ef963d587e"
   },
   "outputs": [
    {
     "ename": "IndentationError",
     "evalue": "expected an indented block (1443227691.py, line 4)",
     "output_type": "error",
     "traceback": [
      "\u001b[1;36m  Input \u001b[1;32mIn [3]\u001b[1;36m\u001b[0m\n\u001b[1;33m    print(\"b is greater than a\") # you will get an error\u001b[0m\n\u001b[1;37m    ^\u001b[0m\n\u001b[1;31mIndentationError\u001b[0m\u001b[1;31m:\u001b[0m expected an indented block\n"
     ]
    }
   ],
   "source": [
    "a = 33\n",
    "b = 200\n",
    "if b > a:\n",
    "print(\"b is greater than a\") # you will get an error"
   ]
  },
  {
   "cell_type": "markdown",
   "metadata": {
    "id": "ZO5fm-ALz-oa"
   },
   "source": [
    "<a name='3'></a>\n",
    "\n",
    "# Sentencia if-elif\n",
    "[regresar al contenido](#c1)\n",
    "\n",
    "La palabra clave \"elif\" es la forma en que Python dice \"si las condiciones anteriores no fueron verdaderas, entonces prueba esta condición\"."
   ]
  },
  {
   "cell_type": "code",
   "execution_count": null,
   "metadata": {
    "id": "FMSrDwUVz-ob",
    "outputId": "b8ff366a-faa9-43a9-cd80-b5602d4b2c0c"
   },
   "outputs": [
    {
     "name": "stdout",
     "output_type": "stream",
     "text": [
      "a y b son iguales\n"
     ]
    }
   ],
   "source": [
    "a = 33\n",
    "b = 33\n",
    "if b > a:\n",
    "  print(\"b es mayor que a\")\n",
    "elif a == b:\n",
    "  print(\"a y b son iguales\")"
   ]
  },
  {
   "cell_type": "markdown",
   "metadata": {
    "id": "GINc9C29z-ob"
   },
   "source": [
    "En este ejemplo, \"a\" es igual a \"b\", por lo que la primera condición no es verdadera, pero la condición **elif** es verdadera, por lo que imprimimos en pantalla que \"a y b son iguales\"."
   ]
  },
  {
   "cell_type": "markdown",
   "metadata": {
    "id": "64fh8i4bz-ob"
   },
   "source": [
    "<a name='4'></a>\n",
    "\n",
    "# Sentencia if-elif-else\n",
    "[regresar al contenido](#c1)\n",
    "\n",
    "La palabra clave \"else\" atrapa cualquier cosa que no sea capturada por las condiciones anteriores."
   ]
  },
  {
   "cell_type": "code",
   "execution_count": null,
   "metadata": {
    "id": "xuyUZekiz-ob",
    "outputId": "b5ca82f1-2b70-4247-c511-d115cd0b71f4"
   },
   "outputs": [
    {
     "name": "stdout",
     "output_type": "stream",
     "text": [
      "a es mayor que b\n"
     ]
    }
   ],
   "source": [
    "a = 200\n",
    "b = 33\n",
    "if b > a:\n",
    "  print(\"b es mayor que a\")\n",
    "elif a == b:\n",
    "  print(\"a y b son iguales\")\n",
    "else:\n",
    "  print(\"a es mayor que b\")"
   ]
  },
  {
   "cell_type": "markdown",
   "metadata": {
    "id": "adZihcjfz-oc"
   },
   "source": [
    "En este ejemplo, \"a\" es mayor que \"b\", por lo que la primera condición no es verdadera, tampoco la condición **elif** es verdadera, por lo que pasamos a la condición **else** e imprimimos en pantalla que \"a es mayor que b\"."
   ]
  },
  {
   "cell_type": "markdown",
   "metadata": {
    "id": "VDDpCDf1z-oc"
   },
   "source": [
    "También podemos utilizar la estructura **if-else**"
   ]
  },
  {
   "cell_type": "code",
   "execution_count": null,
   "metadata": {
    "id": "niOzjRAJz-oc",
    "outputId": "53575a4d-d7f4-49d6-91fa-d5daff152b61"
   },
   "outputs": [
    {
     "name": "stdout",
     "output_type": "stream",
     "text": [
      "b no es mayor que a\n"
     ]
    }
   ],
   "source": [
    "a = 200\n",
    "b = 33\n",
    "if b > a:\n",
    "  print(\"b es mayor que a\")\n",
    "else:\n",
    "  print(\"b no es mayor que a\")"
   ]
  },
  {
   "cell_type": "markdown",
   "metadata": {
    "id": "T-vVSmChz-od"
   },
   "source": [
    "<a name='5'></a>\n",
    "\n",
    "# If corto\n",
    "[regresar al contenido](#c1)"
   ]
  },
  {
   "cell_type": "code",
   "execution_count": null,
   "metadata": {
    "id": "n_GMvjdPz-od",
    "outputId": "64184746-5fa6-4b49-9053-90885ccd2060"
   },
   "outputs": [
    {
     "name": "stdout",
     "output_type": "stream",
     "text": [
      "a es mayor que b\n"
     ]
    }
   ],
   "source": [
    "if a > b: print(\"a es mayor que b\")"
   ]
  },
  {
   "cell_type": "markdown",
   "metadata": {
    "id": "KyVuoYe7z-od"
   },
   "source": [
    "<a name='6'></a>\n",
    "\n",
    "# If-else corto\n",
    "[regresar al contenido](#c1)"
   ]
  },
  {
   "cell_type": "code",
   "execution_count": null,
   "metadata": {
    "id": "aU1JynB2z-od",
    "outputId": "55684e06-e20b-4fa6-e84d-c6380a934109"
   },
   "outputs": [
    {
     "name": "stdout",
     "output_type": "stream",
     "text": [
      "B\n"
     ]
    }
   ],
   "source": [
    "a = 2\n",
    "b = 330\n",
    "print(\"A\") if a > b else print(\"B\")"
   ]
  },
  {
   "cell_type": "markdown",
   "metadata": {
    "id": "dxvwhPyTz-od"
   },
   "source": [
    "También podemos anidar las estructuras cortas"
   ]
  },
  {
   "cell_type": "code",
   "execution_count": null,
   "metadata": {
    "id": "mjaAxAsDz-oe",
    "outputId": "17675255-f83d-4757-8846-6f94afdfab87"
   },
   "outputs": [
    {
     "name": "stdout",
     "output_type": "stream",
     "text": [
      "=\n"
     ]
    }
   ],
   "source": [
    "a = 330\n",
    "b = 330\n",
    "print(\"A\") if a > b else print(\"=\") if a == b else print(\"B\")"
   ]
  },
  {
   "cell_type": "markdown",
   "metadata": {
    "id": "OlbqOCgyz-oe"
   },
   "source": [
    "En el ejemplo anterior, se utiliza la estructura de expresión condicional anidada para determinar qué imprimir:\n",
    "\n",
    "1. La primera condición a > b verifica si \"a\" es mayor que \"b\". Como esto no es cierto (ambos tienen el mismo valor), pasamos a la siguiente parte.\n",
    "2. La segunda condición a == b verifica si \"a\" es igual a \"b\". Esto es cierto en este caso (ambos son 330), por lo que se ejecuta el bloque de código después de print(\"=\") y se imprime un \"=\" en pantalla.\n",
    "3. No es necesario un bloque else en esta estructura porque ya hemos cubierto todas las posibles situaciones de comparación (\"mayor que\" y \"igual a\"). Si ninguna de estas condiciones es verdadera, la expresión se evaluaría como falsa y se ejecutaría el último bloque de código después del último else."
   ]
  },
  {
   "cell_type": "code",
   "execution_count": null,
   "metadata": {
    "id": "DTEBqeBJz-oe",
    "outputId": "130f41eb-d3c4-480a-d2ca-a31d1155e09e"
   },
   "outputs": [
    {
     "name": "stdout",
     "output_type": "stream",
     "text": [
      "B\n"
     ]
    }
   ],
   "source": [
    "a = 330\n",
    "b = 331\n",
    "print(\"A\") if a > b else print(\"=\") if a == b else print(\"B\")"
   ]
  },
  {
   "cell_type": "code",
   "execution_count": null,
   "metadata": {
    "id": "AAW1yGo3z-of",
    "outputId": "5be9cc32-94b4-40bc-f87c-c8af4eee5925"
   },
   "outputs": [
    {
     "name": "stdout",
     "output_type": "stream",
     "text": [
      "A\n"
     ]
    }
   ],
   "source": [
    "a = 331\n",
    "b = 330\n",
    "print(\"A\") if a > b else print(\"=\") if a == b else print(\"B\")"
   ]
  },
  {
   "cell_type": "markdown",
   "metadata": {
    "id": "a4OMd-CWz-of"
   },
   "source": [
    "<a name='7'></a>\n",
    "\n",
    "# And\n",
    "[regresar al contenido](#c1)"
   ]
  },
  {
   "cell_type": "markdown",
   "metadata": {
    "id": "exphFymjz-of"
   },
   "source": [
    "La palabra clave **and** es un operador lógico y se utiliza para combinar declaraciones condicionales."
   ]
  },
  {
   "cell_type": "code",
   "execution_count": null,
   "metadata": {
    "id": "RJmGBFXiz-of",
    "outputId": "5708bb22-4db4-4d8d-d20a-a2d83ec4f990"
   },
   "outputs": [
    {
     "name": "stdout",
     "output_type": "stream",
     "text": [
      "ambas condiciones son verdaderas\n"
     ]
    }
   ],
   "source": [
    "a = 200\n",
    "b = 33\n",
    "c = 500\n",
    "if a > b and c > a:\n",
    "  print(\"ambas condiciones son verdaderas\")"
   ]
  },
  {
   "cell_type": "markdown",
   "metadata": {
    "id": "qPctrh0mz-og"
   },
   "source": [
    "<a name='8'></a>\n",
    "\n",
    "# Or\n",
    "[regresar al contenido](#c1)"
   ]
  },
  {
   "cell_type": "markdown",
   "metadata": {
    "id": "NYoArzM3z-og"
   },
   "source": [
    "La palabra clave **or** es un operador lógico y se utiliza para combinar declaraciones condicionales."
   ]
  },
  {
   "cell_type": "code",
   "execution_count": null,
   "metadata": {
    "id": "jT-zJi-hz-og",
    "outputId": "ebf21bb3-0ed3-4aa4-c934-19d9807c07c1"
   },
   "outputs": [
    {
     "name": "stdout",
     "output_type": "stream",
     "text": [
      "Al menos una de las condiciones es verdadera\n"
     ]
    }
   ],
   "source": [
    "a = 200\n",
    "b = 33\n",
    "c = 500\n",
    "if a > b or a > c:\n",
    "  print(\"Al menos una de las condiciones es verdadera\")"
   ]
  },
  {
   "cell_type": "markdown",
   "metadata": {
    "id": "v1XwwlAAz-og"
   },
   "source": [
    "<a name='9'></a>\n",
    "\n",
    "# Not\n",
    "[regresar al contenido](#c1)"
   ]
  },
  {
   "cell_type": "markdown",
   "metadata": {
    "id": "SFv1NYgIz-oh"
   },
   "source": [
    "La palabra clave **not** es un operador lógico y se utiliza para invertir el resultado de la declaración condicional:"
   ]
  },
  {
   "cell_type": "code",
   "execution_count": null,
   "metadata": {
    "id": "uI4fALqRz-oi",
    "outputId": "1c5ee946-24a6-4178-a274-bb1c98a298ee"
   },
   "outputs": [
    {
     "name": "stdout",
     "output_type": "stream",
     "text": [
      "a no es mayor que b\n"
     ]
    }
   ],
   "source": [
    "a = 33\n",
    "b = 200\n",
    "if not a > b:\n",
    "  print(\"a no es mayor que b\")"
   ]
  },
  {
   "cell_type": "markdown",
   "metadata": {
    "id": "qOaQY7Gxz-oi"
   },
   "source": [
    "<a name='10'></a>\n",
    "\n",
    "# If anidado\n",
    "[regresar al contenido](#c1)"
   ]
  },
  {
   "cell_type": "code",
   "execution_count": null,
   "metadata": {
    "id": "dq-8WTh-z-oi",
    "outputId": "b6b36fd4-3b91-480b-ad25-a16cbe1e9b6f"
   },
   "outputs": [
    {
     "name": "stdout",
     "output_type": "stream",
     "text": [
      "Arriba de 10,\n",
      "y también arriba de 20\n"
     ]
    }
   ],
   "source": [
    "x = 41\n",
    "\n",
    "if x > 10:\n",
    "  print(\"Arriba de 10,\")\n",
    "  if x > 20:\n",
    "    print(\"y también arriba de 20\")\n",
    "  else:\n",
    "    print(\" pero no arriba de 20.\")"
   ]
  }
 ],
 "metadata": {
  "colab": {
   "include_colab_link": true,
   "provenance": []
  },
  "kernelspec": {
   "display_name": "Python 3 (ipykernel)",
   "language": "python",
   "name": "python3"
  },
  "language_info": {
   "codemirror_mode": {
    "name": "ipython",
    "version": 3
   },
   "file_extension": ".py",
   "mimetype": "text/x-python",
   "name": "python",
   "nbconvert_exporter": "python",
   "pygments_lexer": "ipython3",
   "version": "3.11.4"
  }
 },
 "nbformat": 4,
 "nbformat_minor": 4
}
