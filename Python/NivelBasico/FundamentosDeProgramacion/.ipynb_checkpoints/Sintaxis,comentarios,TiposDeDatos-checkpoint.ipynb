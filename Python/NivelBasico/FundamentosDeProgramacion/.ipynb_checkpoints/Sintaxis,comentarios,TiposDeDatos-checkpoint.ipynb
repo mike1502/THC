{
 "cells": [
  {
   "cell_type": "markdown",
   "id": "e80b44f4",
   "metadata": {
    "colab_type": "text",
    "id": "view-in-github"
   },
   "source": [
    "<a href=\"https://colab.research.google.com/github/seismomat/HerramientasComputacionales/blob/main/NivelBasico/FundamentosDeProgramacion/Sintaxis%2Ccomentarios%2CTiposDeDatos.ipynb\" target=\"_parent\"><img src=\"https://colab.research.google.com/assets/colab-badge.svg\" alt=\"Open In Colab\"/></a>"
   ]
  },
  {
   "cell_type": "markdown",
   "id": "6349829d",
   "metadata": {
    "id": "6349829d"
   },
   "source": [
    "<font color=\"Teal\" face=\"Comic Sans MS,arial\">\n",
    "  <h1 align=\"center\"><i>Sintaxis, comentarios y tipos de datos </i></h1>\n",
    "  </font>\n",
    "  \n",
    "> Elaborado por: Jesús Iván Coss Calderón. mat_ing_coss@ciencias.unam.mx"
   ]
  },
  {
   "cell_type": "markdown",
   "id": "38648a13",
   "metadata": {
    "id": "38648a13"
   },
   "source": [
    "**Objetivo general**\n",
    "\n",
    "* Aprender los fundamentos del lenguaje de programación python.\n",
    "\n",
    "**Objetivos particulares**\n",
    "\n",
    "* Entender los conceptos de sintáxis."
   ]
  },
  {
   "cell_type": "markdown",
   "id": "a1f5f520-2305-47ab-98ba-8805ed9cf88d",
   "metadata": {
    "id": "a1f5f520-2305-47ab-98ba-8805ed9cf88d"
   },
   "source": [
    "[**Regresa al notebook principal**](https://github.com/seismomat/HerramientasComputacionales/blob/main/TemarioDePython/Temario%20de%20Python.ipynb)"
   ]
  },
  {
   "cell_type": "markdown",
   "id": "851c29d2",
   "metadata": {
    "id": "851c29d2"
   },
   "source": [
    "<a name='c1'></a>\n",
    "\n",
    "## Contenido\n",
    "\n",
    "- [Sintáxis](#1)\n",
    "    - [Sangría o identación](#1-1)\n",
    "    - [Error de sintáxis](#1-2)\n",
    "- [Comentarios](#2)\n",
    "    - [Comentarios de una línea](#2-1)\n",
    "    - [Comentarios de varias líneas](#2-2)\n",
    "- [Tipos de datos](#3)\n",
    "- [Ejercicios propuestos](#4)"
   ]
  },
  {
   "cell_type": "markdown",
   "id": "0fb35051",
   "metadata": {
    "id": "0fb35051"
   },
   "source": [
    "<a name='1'></a>\n",
    "\n",
    "# Sintáxis\n",
    "[regresar al contenido](#c1)\n",
    "\n",
    "La sintaxis de Python se puede ejecutar escribiendo directamente en la Línea de Comandos"
   ]
  },
  {
   "cell_type": "code",
   "execution_count": null,
   "id": "b93805ce",
   "metadata": {
    "id": "b93805ce",
    "outputId": "a7577a43-3277-4755-f250-3778c4baaf8c"
   },
   "outputs": [
    {
     "name": "stdout",
     "output_type": "stream",
     "text": [
      "¡Hola, mundo!\n"
     ]
    }
   ],
   "source": [
    " print(\"¡Hola, mundo!\")"
   ]
  },
  {
   "cell_type": "markdown",
   "id": "a7cb876f",
   "metadata": {
    "id": "a7cb876f"
   },
   "source": [
    "<a name='1-1'></a>\n",
    "\n",
    "## Sangría o identación\n",
    "[regresar al contenido](#c1)\n",
    "\n",
    "La sangría se refiere a los espacios al principio de una línea de código.\n",
    "\n",
    "Mientras que en otros lenguajes de programación la sangría en el código es solo para legibilidad, la sangría en Python es muy importante.\n",
    "\n",
    "Python utiliza la sangría para indicar un bloque de código."
   ]
  },
  {
   "cell_type": "code",
   "execution_count": null,
   "id": "1ba60d5a",
   "metadata": {
    "id": "1ba60d5a",
    "outputId": "934a43b5-428b-4424-f1b3-67e60d5c7e37"
   },
   "outputs": [
    {
     "name": "stdout",
     "output_type": "stream",
     "text": [
      "cinco es más grande que dos\n"
     ]
    }
   ],
   "source": [
    "if 5 > 2:\n",
    "  print(\"cinco es más grande que dos\")"
   ]
  },
  {
   "cell_type": "code",
   "execution_count": null,
   "id": "7a343b57",
   "metadata": {
    "id": "7a343b57",
    "outputId": "93c3b956-777b-4918-ff40-4d6d292441f2"
   },
   "outputs": [
    {
     "name": "stdout",
     "output_type": "stream",
     "text": [
      "cinco es más grande que dos\n",
      "cinco es más grande que dos\n"
     ]
    }
   ],
   "source": [
    "if 5 > 2:\n",
    " print(\"cinco es más grande que dos\")\n",
    "if 5 > 2:\n",
    "        print(\"cinco es más grande que dos\")"
   ]
  },
  {
   "cell_type": "markdown",
   "id": "799939a7",
   "metadata": {
    "id": "799939a7"
   },
   "source": [
    "<a name='1-2'></a>\n",
    "\n",
    "## Error de sintáxis\n",
    "[regresar al contenido](#c1)\n",
    "\n",
    "Un error de sintaxis en programación se produce cuando el código que has escrito no sigue las reglas gramaticales y estructurales del lenguaje de programación que estás utilizando. En otras palabras, es un error que ocurre debido a una construcción incorrecta en tu código que el intérprete o compilador no puede entender."
   ]
  },
  {
   "cell_type": "code",
   "execution_count": null,
   "id": "fb49f905",
   "metadata": {
    "id": "fb49f905",
    "outputId": "64110088-0b05-4a2d-e67f-13939d832f2e"
   },
   "outputs": [
    {
     "ename": "IndentationError",
     "evalue": "expected an indented block (530050876.py, line 2)",
     "output_type": "error",
     "traceback": [
      "\u001b[1;36m  Input \u001b[1;32mIn [6]\u001b[1;36m\u001b[0m\n\u001b[1;33m    print(\"cinco es más grande que dos\")\u001b[0m\n\u001b[1;37m    ^\u001b[0m\n\u001b[1;31mIndentationError\u001b[0m\u001b[1;31m:\u001b[0m expected an indented block\n"
     ]
    }
   ],
   "source": [
    "if 5 > 2:\n",
    "print(\"cinco es más grande que dos\")"
   ]
  },
  {
   "cell_type": "markdown",
   "id": "b42e267c",
   "metadata": {
    "id": "b42e267c"
   },
   "source": [
    "<a name='2'></a>\n",
    "\n",
    "# Comentarios\n",
    "[regresar al contenido](#c1)\n",
    "\n",
    "En Python, los comentarios son porciones de texto que se incluyen en el código para proporcionar explicaciones, aclaraciones u observaciones sobre lo que hace el código. Los comentarios son ignorados por el intérprete de Python y no afectan la ejecución del programa. Puedes agregar comentarios para que tú y otros desarrolladores entiendan mejor el propósito y la lógica detrás del código."
   ]
  },
  {
   "cell_type": "markdown",
   "id": "0299e1fd",
   "metadata": {
    "id": "0299e1fd"
   },
   "source": [
    "<a name='2-1'></a>\n",
    "\n",
    "# Comentarios de una línea\n",
    "[regresar al contenido](#c1)"
   ]
  },
  {
   "cell_type": "code",
   "execution_count": null,
   "id": "f6ab6fd5",
   "metadata": {
    "id": "f6ab6fd5",
    "outputId": "aca11fb0-0938-44e5-9e09-8a1ad788f131"
   },
   "outputs": [
    {
     "name": "stdout",
     "output_type": "stream",
     "text": [
      "Hola, mundo!\n"
     ]
    }
   ],
   "source": [
    "# Esto es un comentario de una línea\n",
    "print(\"Hola, mundo!\")  # Esto es otro comentario en la misma línea de código\n"
   ]
  },
  {
   "cell_type": "markdown",
   "id": "aec68d4d",
   "metadata": {
    "id": "aec68d4d"
   },
   "source": [
    "<a name='2-2'></a>\n",
    "\n",
    "# Comentarios de varias líneas\n",
    "[regresar al contenido](#c1)"
   ]
  },
  {
   "cell_type": "code",
   "execution_count": null,
   "id": "d1d68fe2",
   "metadata": {
    "id": "d1d68fe2",
    "outputId": "44b1ff40-786c-4da4-a24c-a44e2940e41b"
   },
   "outputs": [
    {
     "name": "stdout",
     "output_type": "stream",
     "text": [
      "¡Hola desde Python!\n"
     ]
    }
   ],
   "source": [
    "\"\"\"\n",
    "Esto es un comentario de varias líneas.\n",
    "Puede abarcar múltiples líneas y se usa para\n",
    "proporcionar explicaciones detalladas sobre el código.\n",
    "\"\"\"\n",
    "print(\"¡Hola desde Python!\")\n"
   ]
  },
  {
   "cell_type": "markdown",
   "id": "017590ca",
   "metadata": {
    "id": "017590ca"
   },
   "source": [
    "<a name='3'></a>\n",
    "\n",
    "# Tipos de datos\n",
    "[regresar al contenido](#c1)"
   ]
  },
  {
   "cell_type": "markdown",
   "id": "d4b1a21c",
   "metadata": {
    "id": "d4b1a21c"
   },
   "source": [
    "Python es un lenguaje de programación que tiene varios tipos de datos incorporados para representar diferentes tipos de valores. Aquí hay algunos de los tipos de datos más comunes en Python:\n",
    "\n",
    "1. **Enteros (int):** Representan números enteros sin parte decimal. Por ejemplo: `42`, `-10`, `0`.\n",
    "\n",
    "2. **Números de punto flotante (float):** Representan números con decimales. Por ejemplo: `3.14`, `-0.5`, `2.0`.\n",
    "\n",
    "3. **Cadenas (str):** Representan secuencias de caracteres. Se pueden crear utilizando comillas simples o dobles. Por ejemplo: `'Hola'`, `\"Mundo\"`.\n",
    "\n",
    "4. **Booleanos (bool):** Representan valores verdaderos o falsos. Los valores posibles son `True` y `False`.\n",
    "\n",
    "5. [**Listas:**](https://github.com/seismomat/HerramientasComputacionales/blob/main/Listas.ipynb) Representan colecciones ordenadas de elementos, que pueden ser de diferentes tipos. Se definen utilizando corchetes `[]`. Por ejemplo: `[1, 2, 3]`, `['a', 'b', 'c']`.\n",
    "\n",
    "6. **Tuplas:** Son similares a las listas, pero son inmutables, lo que significa que no se pueden modificar una vez creadas. Se definen utilizando paréntesis `()`. Por ejemplo: `(1, 2, 3)`, `('x', 'y', 'z')`.\n",
    "\n",
    "7. [**Diccionarios:**](https://github.com/seismomat/HerramientasComputacionales/blob/main/Diccionarios.ipynb)\n",
    "Representan colecciones de pares clave-valor. Las claves deben ser únicas y los valores pueden ser de diferentes tipos. Se definen utilizando llaves `{}`. Por ejemplo: `{'nombre': 'Juan', 'edad': 30}`.\n",
    "\n",
    "8. [**Conjuntos (sets):**](https://github.com/seismomat/HerramientasComputacionales/blob/main/Conjuntos.ipynb) Representan colecciones no ordenadas de elementos únicos. Se definen utilizando llaves `{}` o la función `set()`. Por ejemplo: `{1, 2, 3}`, `{'rojo', 'verde', 'azul'}`.\n",
    "\n",
    "9. **Ninguno (None):** Representa la ausencia de un valor o la falta de datos. Se utiliza para indicar que una variable no tiene un valor asignado.\n",
    "\n",
    "Estos son solo algunos de los tipos de datos básicos en Python. Además de estos, Python ofrece módulos y bibliotecas que permiten trabajar con tipos de datos más avanzados y personalizados, como matrices, objetos, fechas y más."
   ]
  },
  {
   "cell_type": "markdown",
   "id": "3170a600",
   "metadata": {
    "id": "4e9b8f0a"
   },
   "source": [
    "<a name='4'></a>\n",
    "\n",
    "# Ejercicios propuestos\n",
    "[regresar al contenido](#c1)"
   ]
  },
  {
   "cell_type": "markdown",
   "id": "139f45dd",
   "metadata": {},
   "source": [
    "Ejercicios propuestos relacionados con la sintaxis de Python, comentarios, indentación y errores de sintaxis:\n",
    "\n",
    "**Ejercicio 1: Comentarios y Error de Sintaxis**\n",
    "\n",
    "Identifique el error en el siguiente programa."
   ]
  },
  {
   "cell_type": "code",
   "execution_count": null,
   "id": "f34a368e",
   "metadata": {},
   "outputs": [],
   "source": [
    "mensaje = \"Hola, mundo!\n",
    "\n",
    "print(mensaje)"
   ]
  },
  {
   "cell_type": "markdown",
   "id": "00372369",
   "metadata": {},
   "source": [
    "**Ejercicio 2: Comentarios Descriptivos**\n",
    "2. Escribe un programa simple que realice una tarea específica, como calcular el área de un rectángulo o imprimir una tabla de multiplicar. Agrega comentarios descriptivos en el código para explicar cada paso del proceso."
   ]
  },
  {
   "cell_type": "markdown",
   "id": "e5168aa5",
   "metadata": {},
   "source": [
    "**Ejercicio 3: Comentarios Informativos**\n",
    "5. Escribe un programa que resuelva un problema o realice una tarea interesante. Agrega comentarios informativos que expliquen la lógica detrás de cada paso importante del programa.\n",
    "\n",
    "**Ejercicio 4: Uso de Variables Descriptivas**\n",
    "6. Crea un programa que use variables con nombres descriptivos y significativos. Agrega comentarios que expliquen el propósito de cada variable y cómo se utiliza en el programa.\n",
    "\n",
    "**Ejercicio 5: Identificación de Errores**\n",
    "7. Proporciona a los estudiantes un programa que contenga errores de sintaxis, lógica o indentación. Pídeles que identifiquen y corrijan los errores para que el programa funcione correctamente.\n",
    "\n",
    "\n",
    "**Ejercicio 6: Creación de un Programa con Comentarios de Uso**\n",
    "9. Escribe un programa que sea útil para los usuarios. Agrega comentarios al principio del programa que expliquen cómo se usa el programa y qué se espera que hagan los usuarios.\n",
    "\n",
    "Estos ejercicios te ayudarán a practicar la sintaxis de Python, la creación de comentarios informativos y la corrección de errores comunes."
   ]
  }
 ],
 "metadata": {
  "colab": {
   "include_colab_link": true,
   "provenance": []
  },
  "kernelspec": {
   "display_name": "Python 3 (ipykernel)",
   "language": "python",
   "name": "python3"
  },
  "language_info": {
   "codemirror_mode": {
    "name": "ipython",
    "version": 3
   },
   "file_extension": ".py",
   "mimetype": "text/x-python",
   "name": "python",
   "nbconvert_exporter": "python",
   "pygments_lexer": "ipython3",
   "version": "3.9.12"
  }
 },
 "nbformat": 4,
 "nbformat_minor": 5
}
