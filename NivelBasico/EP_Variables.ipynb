{
 "cells": [
  {
   "cell_type": "markdown",
   "id": "4fc84641",
   "metadata": {},
   "source": [
    "# Ejercicio 1"
   ]
  },
  {
   "cell_type": "markdown",
   "id": "4537bb7a",
   "metadata": {},
   "source": [
    "Calculadora Simple: Crea un programa que solicite al usuario dos números y realice operaciones básicas como suma, resta, multiplicación y división. Muestra los resultados usando variables"
   ]
  },
  {
   "cell_type": "code",
   "execution_count": 1,
   "id": "7ac98479",
   "metadata": {},
   "outputs": [
    {
     "name": "stdout",
     "output_type": "stream",
     "text": [
      "Ingrese el primer número: 5\n",
      "Ingrese el segundo número: 2\n",
      "Suma: 7.0\n",
      "Resta: 3.0\n",
      "Multiplicación: 10.0\n",
      "División: 2.5\n"
     ]
    }
   ],
   "source": [
    "# Solicitar al usuario que ingrese dos números\n",
    "numero1 = float(input(\"Ingrese el primer número: \"))\n",
    "numero2 = float(input(\"Ingrese el segundo número: \"))\n",
    "\n",
    "# Realizar operaciones matemáticas\n",
    "suma = numero1 + numero2\n",
    "resta = numero1 - numero2\n",
    "multiplicacion = numero1 * numero2\n",
    "\n",
    "# Manejar la división por cero con una excepción personalizada\n",
    "try:\n",
    "    division = numero1 / numero2\n",
    "except ZeroDivisionError:\n",
    "    division = \"No se puede dividir por cero\"\n",
    "\n",
    "# Mostrar los resultados\n",
    "print(f\"Suma: {suma}\")\n",
    "print(f\"Resta: {resta}\")\n",
    "print(f\"Multiplicación: {multiplicacion}\")\n",
    "print(f\"División: {division}\")"
   ]
  },
  {
   "cell_type": "markdown",
   "id": "67a87dc7",
   "metadata": {},
   "source": [
    "# Ejercicio 2"
   ]
  },
  {
   "cell_type": "markdown",
   "id": "5c317a96",
   "metadata": {},
   "source": [
    "Conversión de Temperaturas: Escribe un programa que permita al usuario ingresar una temperatura en grados Celsius y luego la convierta a grados Fahrenheit utilizando una variable para almacenar la fórmula de conversión."
   ]
  },
  {
   "cell_type": "code",
   "execution_count": 6,
   "id": "e853127f",
   "metadata": {},
   "outputs": [
    {
     "name": "stdout",
     "output_type": "stream",
     "text": [
      "Ingrese la temperatura en grados Celsius: 120\n",
      "120.0 grados Celsius son equivalentes a 248.0 grados Fahrenheit.\n"
     ]
    }
   ],
   "source": [
    "# Solicitar al usuario que ingrese la temperatura en grados Celsius\n",
    "temperatura_celsius = float(input(\"Ingrese la temperatura en grados Celsius: \"))\n",
    "\n",
    "# Calcular la temperatura en grados Fahrenheit\n",
    "# Fórmula de conversión: Fahrenheit = (Celsius * 9/5) + 32\n",
    "temperatura_fahrenheit = (temperatura_celsius * 9/5) + 32\n",
    "\n",
    "# Mostrar el resultado\n",
    "print(f\"{temperatura_celsius} grados Celsius son equivalentes a {temperatura_fahrenheit} grados Fahrenheit.\")\n"
   ]
  },
  {
   "cell_type": "markdown",
   "id": "43ec9010",
   "metadata": {},
   "source": [
    "# Ejercicio 3"
   ]
  },
  {
   "cell_type": "markdown",
   "id": "7c8f05f7",
   "metadata": {},
   "source": [
    "Cálculo del Área de un Triángulo: Pide al usuario que ingrese la base y la altura de un triángulo y calcula su área utilizando una variable para almacenar el resultado."
   ]
  },
  {
   "cell_type": "code",
   "execution_count": 4,
   "id": "22c73d3f",
   "metadata": {},
   "outputs": [
    {
     "name": "stdout",
     "output_type": "stream",
     "text": [
      "Ingrese la base del triángulo: 9\n",
      "Ingrese la altura del triángulo: 4\n",
      "El área del triángulo con base 9.0 y altura 4.0 es: 18.0\n"
     ]
    }
   ],
   "source": [
    "# Solicitar al usuario que ingrese la base y la altura del triángulo\n",
    "base = float(input(\"Ingrese la base del triángulo: \"))\n",
    "altura = float(input(\"Ingrese la altura del triángulo: \"))\n",
    "\n",
    "# Calcular el área del triángulo\n",
    "area = 0.5 * base * altura\n",
    "\n",
    "# Mostrar el resultado\n",
    "print(f\"El área del triángulo con base {base} y altura {altura} es: {area}\")\n"
   ]
  },
  {
   "cell_type": "code",
   "execution_count": 3,
   "id": "b143582e",
   "metadata": {},
   "outputs": [
    {
     "name": "stdout",
     "output_type": "stream",
     "text": [
      "18.0\n"
     ]
    }
   ],
   "source": [
    "_Base=4\n",
    "Altura=9\n",
    "\n",
    "print(_Base*Altura/2)"
   ]
  },
  {
   "cell_type": "markdown",
   "id": "d5da3dda",
   "metadata": {},
   "source": [
    "# Ejercicio 9"
   ]
  },
  {
   "cell_type": "markdown",
   "id": "a8ca8d46",
   "metadata": {},
   "source": [
    "Calculadora de Descuentos: Desarrolla un programa que calcule el precio final de un producto después de aplicar un descuento. El usuario debe ingresar el precio original y el porcentaje de descuento. Utiliza variables para almacenar los valores"
   ]
  },
  {
   "cell_type": "code",
   "execution_count": 5,
   "id": "596d85fe",
   "metadata": {},
   "outputs": [
    {
     "name": "stdout",
     "output_type": "stream",
     "text": [
      "Ingrese el precio original del producto: 100\n",
      "Ingrese el porcentaje de descuento (%): 10\n",
      "El precio final del producto después de aplicar un 10.0% de descuento es: 90.0\n"
     ]
    }
   ],
   "source": [
    "# Solicitar al usuario que ingrese el precio original y el porcentaje de descuento\n",
    "precio_original = float(input(\"Ingrese el precio original del producto: \"))\n",
    "porcentaje_descuento = float(input(\"Ingrese el porcentaje de descuento (%): \"))\n",
    "\n",
    "# Calcular el monto del descuento\n",
    "descuento = (porcentaje_descuento / 100) * precio_original\n",
    "\n",
    "# Calcular el precio final\n",
    "precio_final = precio_original - descuento\n",
    "\n",
    "# Mostrar el resultado\n",
    "print(f\"El precio final del producto después de aplicar un {porcentaje_descuento}% de descuento es: {precio_final}\")\n"
   ]
  }
 ],
 "metadata": {
  "kernelspec": {
   "display_name": "Python 3 (ipykernel)",
   "language": "python",
   "name": "python3"
  },
  "language_info": {
   "codemirror_mode": {
    "name": "ipython",
    "version": 3
   },
   "file_extension": ".py",
   "mimetype": "text/x-python",
   "name": "python",
   "nbconvert_exporter": "python",
   "pygments_lexer": "ipython3",
   "version": "3.9.12"
  }
 },
 "nbformat": 4,
 "nbformat_minor": 5
}
